{
 "cells": [
  {
   "cell_type": "markdown",
   "id": "601165f6",
   "metadata": {},
   "source": [
    "## Задание\n",
    "Разобраться с моделькой перевода как она устроена\n",
    "запустить для перевода с русского на английский (при желании можно взять другие пары языков) два варианта с вниманием и без внимания\n",
    "оценить качество насколько корректно переводит "
   ]
  },
  {
   "cell_type": "code",
   "execution_count": 48,
   "id": "5e79dd33",
   "metadata": {},
   "outputs": [],
   "source": [
    "import tensorflow as tf\n",
    "\n",
    "import matplotlib.pyplot as plt\n",
    "import matplotlib.ticker as ticker\n",
    "from sklearn.model_selection import train_test_split\n",
    "\n",
    "import unicodedata\n",
    "import re\n",
    "import numpy as np\n",
    "import os\n",
    "import io\n",
    "import time"
   ]
  },
  {
   "cell_type": "code",
   "execution_count": 3,
   "id": "27737284",
   "metadata": {
    "scrolled": true
   },
   "outputs": [
    {
     "name": "stdout",
     "output_type": "stream",
     "text": [
      "--2023-07-26 16:38:35--  http://www.manythings.org/anki/ita-eng.zip\n",
      "Resolving www.manythings.org (www.manythings.org)... 173.254.30.110\n",
      "Connecting to www.manythings.org (www.manythings.org)|173.254.30.110|:80... connected.\n",
      "HTTP request sent, awaiting response... 200 OK\n",
      "Length: 8011806 (7,6M) [application/zip]\n",
      "Saving to: ‘ita-eng.zip’\n",
      "\n",
      "ita-eng.zip         100%[===================>]   7,64M   150KB/s    in 2m 9s   \n",
      "\n",
      "2023-07-26 16:40:45 (60,8 KB/s) - ‘ita-eng.zip’ saved [8011806/8011806]\n",
      "\n"
     ]
    }
   ],
   "source": [
    "!wget http://www.manythings.org/anki/ita-eng.zip"
   ]
  },
  {
   "cell_type": "code",
   "execution_count": 4,
   "id": "2feb834e",
   "metadata": {},
   "outputs": [
    {
     "name": "stdout",
     "output_type": "stream",
     "text": [
      "Archive:  ita-eng.zip\n",
      "  inflating: ita-eng/ita.txt         \n",
      "  inflating: ita-eng/_about.txt      \n"
     ]
    }
   ],
   "source": [
    "#Создаем папку и извлекаем туда файлы из архива\n",
    "!mkdir ita-eng\n",
    "!unzip ita-eng.zip -d ita-eng/"
   ]
  },
  {
   "cell_type": "code",
   "execution_count": 7,
   "id": "65e598b3",
   "metadata": {},
   "outputs": [
    {
     "name": "stdout",
     "output_type": "stream",
     "text": [
      "total 50M\r\n",
      "drwxrwxr-x 2 msi msi 4,0K июл 26 16:45 .\r\n",
      "drwxrwxr-x 4 msi msi 4,0K июл 26 16:45 ..\r\n",
      "-rw-r--r-- 1 msi msi 1,5K апр  2 03:16 _about.txt\r\n",
      "-rw-r--r-- 1 msi msi  50M апр  2 03:16 ita.txt\r\n"
     ]
    }
   ],
   "source": [
    "!ls ./ita-eng/ -lah"
   ]
  },
  {
   "cell_type": "code",
   "execution_count": 8,
   "id": "a48d386e",
   "metadata": {},
   "outputs": [],
   "source": [
    "# Загружаем файл\n",
    "path_to_file = \"./ita-eng/ita.txt\""
   ]
  },
  {
   "cell_type": "code",
   "execution_count": 9,
   "id": "16eedb39",
   "metadata": {},
   "outputs": [
    {
     "name": "stdout",
     "output_type": "stream",
     "text": [
      "Hi.\tCiao!\tCC-BY 2.0 (France) Attribution: tatoeba.org #538123 (CM) & #607364 (Cero)\n",
      "\n"
     ]
    }
   ],
   "source": [
    "#просмотр файла\n",
    "f = open(path_to_file)\n",
    "for line in f:\n",
    "    print(line)\n",
    "    break"
   ]
  },
  {
   "cell_type": "code",
   "execution_count": 10,
   "id": "eeacf8ec",
   "metadata": {},
   "outputs": [],
   "source": [
    "#функция препроцессинга\n",
    "def preprocess_sentence(w):\n",
    "  #переводим предложение к нижнему регистру и удалем начальные и конечные пробелы\n",
    "    w = w.lower().strip()\n",
    "\n",
    "  # отделяем пробелом слово и следующую за ним пунктуацию\n",
    "  # пример: \"he is a boy.\" => \"he is a boy .\"\n",
    "    w = re.sub(r\"([?.!,])\", r\" \\1 \", w)\n",
    "    w = re.sub(r'[\" \"]+', \" \", w)\n",
    "\n",
    "  # все, кроме букв и знаков пунктуации, заменяем пробелом\n",
    "    w = re.sub(r\"[^a-zA-Zа-яА-Я?.!,']+\", \" \", w)\n",
    "  \n",
    "  #удаляем лишние пробелы в начале и конце\n",
    "    w = w.strip()\n",
    "\n",
    "  # создаем начало и конец последовательности\n",
    "  # теперь модель знает, где начинать и заканчивать предсказания\n",
    "    w = '<start> ' + w + ' <end>'\n",
    "    return w"
   ]
  },
  {
   "cell_type": "code",
   "execution_count": 11,
   "id": "92e5a860",
   "metadata": {},
   "outputs": [
    {
     "data": {
      "text/plain": [
       "\"<start> i can't go . <end>\""
      ]
     },
     "execution_count": 11,
     "metadata": {},
     "output_type": "execute_result"
    }
   ],
   "source": [
    "#пример работы препроцессинга\n",
    "preprocess_sentence(\"I can't go.\")\n"
   ]
  },
  {
   "cell_type": "code",
   "execution_count": 12,
   "id": "52a5e824",
   "metadata": {},
   "outputs": [],
   "source": [
    "# 1. Убираем акценты\n",
    "# 2. Очищаем предложения\n",
    "# 3. Возвращаем пары слов: [ENG, RUS]\n",
    "def create_dataset(path, num_examples):\n",
    "  #считываем строки файла\n",
    "    lines = io.open(path, encoding='UTF-8').read().strip().split('\\n')\n",
    "  #каждую строку разделяем на пробелы, берем первые 2 слова, препроцессим их и возвращаем пару\n",
    "    word_pairs = [[preprocess_sentence(w) for w in l.split('\\t')[:2]]  for l in lines[:num_examples]]\n",
    "\n",
    "    return zip(*word_pairs)"
   ]
  },
  {
   "cell_type": "code",
   "execution_count": 15,
   "id": "1ec6ec24",
   "metadata": {},
   "outputs": [
    {
     "name": "stdout",
     "output_type": "stream",
     "text": [
      "<start> hi . <end>\n",
      "<start> ciao ! <end>\n"
     ]
    }
   ],
   "source": [
    "#пример работы\n",
    "en, it = create_dataset(path_to_file, None)\n",
    "print(en[0])\n",
    "print(it[0])"
   ]
  },
  {
   "cell_type": "code",
   "execution_count": 16,
   "id": "71a92eaa",
   "metadata": {},
   "outputs": [
    {
     "data": {
      "text/plain": [
       "(364200, 364200)"
      ]
     },
     "execution_count": 16,
     "metadata": {},
     "output_type": "execute_result"
    }
   ],
   "source": [
    "# количество данных в датасете\n",
    "len(en), len(it)"
   ]
  },
  {
   "cell_type": "code",
   "execution_count": 17,
   "id": "a2b6e216",
   "metadata": {},
   "outputs": [],
   "source": [
    "def tokenize(lang):\n",
    "      #токенизируем текст, отфильтвовываем пробелы\n",
    "    lang_tokenizer = tf.keras.preprocessing.text.Tokenizer(filters='')\n",
    "      #обновляем внутренний словарь на основе lang\n",
    "    lang_tokenizer.fit_on_texts(lang)\n",
    "      #преобразуем каждый элемент из lang в последовательность чисел\n",
    "    tensor = lang_tokenizer.texts_to_sequences(lang)\n",
    "      #преобразуем тензор в матрицу (кол-во тензоров * max-длина), \n",
    "      #при этом короткие последовательности заполняем нулями сзади, а длинные -- обрезаем сзади\n",
    "    tensor = tf.keras.preprocessing.sequence.pad_sequences(tensor, padding='post')\n",
    "    return tensor, lang_tokenizer"
   ]
  },
  {
   "cell_type": "code",
   "execution_count": 18,
   "id": "1e97ce79",
   "metadata": {},
   "outputs": [],
   "source": [
    "def load_dataset(path, num_examples=None):\n",
    "      # создаем очищенные анг (выходные), русские (входные) пары\n",
    "    targ_lang, inp_lang = create_dataset(path, num_examples)\n",
    "    #применяем токенизацию к каждому элементы из пары\n",
    "    input_tensor, inp_lang_tokenizer = tokenize(inp_lang)\n",
    "    target_tensor, targ_lang_tokenizer = tokenize(targ_lang)\n",
    "\n",
    "    return input_tensor, target_tensor, inp_lang_tokenizer, targ_lang_tokenizer"
   ]
  },
  {
   "cell_type": "code",
   "execution_count": 19,
   "id": "851e2844",
   "metadata": {},
   "outputs": [
    {
     "data": {
      "text/plain": [
       "(array([[   1, 1217,   40, ...,    0,    0,    0],\n",
       "        [   1, 1217,    3, ...,    0,    0,    0],\n",
       "        [   1, 3633,   40, ...,    0,    0,    0],\n",
       "        ...,\n",
       "        [   1,    4,   32, ...,    0,    0,    0],\n",
       "        [   1,    4,   32, ...,    0,    0,    0],\n",
       "        [   1,    4,   32, ...,    0,    0,    0]], dtype=int32),\n",
       " array([[   1, 1054,    3, ...,    0,    0,    0],\n",
       "        [   1, 1054,    3, ...,    0,    0,    0],\n",
       "        [   1,  346,   48, ...,    0,    0,    0],\n",
       "        ...,\n",
       "        [   1,    5,    8, ...,    0,    0,    0],\n",
       "        [   1,    5,    8, ...,    0,    0,    0],\n",
       "        [   1,    5,    8, ...,    0,    0,    0]], dtype=int32))"
      ]
     },
     "execution_count": 19,
     "metadata": {},
     "output_type": "execute_result"
    }
   ],
   "source": [
    "num_examples = 100000\n",
    "input_tensor, target_tensor, inp_lang, targ_lang = load_dataset(path_to_file, num_examples)\n",
    "\n",
    "input_tensor, target_tensor"
   ]
  },
  {
   "cell_type": "code",
   "execution_count": 20,
   "id": "b619ce22",
   "metadata": {},
   "outputs": [
    {
     "data": {
      "text/plain": [
       "(11, 20)"
      ]
     },
     "execution_count": 20,
     "metadata": {},
     "output_type": "execute_result"
    }
   ],
   "source": [
    "# Вычисляем максимальную длину тензоров\n",
    "max_length_targ, max_length_inp = target_tensor.shape[1], input_tensor.shape[1]\n",
    "max_length_targ, max_length_inp"
   ]
  },
  {
   "cell_type": "code",
   "execution_count": 21,
   "id": "d17fe3db",
   "metadata": {},
   "outputs": [
    {
     "name": "stdout",
     "output_type": "stream",
     "text": [
      "80000 80000 20000 20000\n"
     ]
    }
   ],
   "source": [
    "# Создаем тренировочные и валидационные датасеты\n",
    "input_tensor_train, input_tensor_val, target_tensor_train, target_tensor_val = train_test_split(input_tensor, target_tensor, test_size=0.2)\n",
    "\n",
    "# размеры датасетов\n",
    "print(len(input_tensor_train), len(target_tensor_train), len(input_tensor_val), len(target_tensor_val))"
   ]
  },
  {
   "cell_type": "code",
   "execution_count": 22,
   "id": "5088fa5e",
   "metadata": {},
   "outputs": [],
   "source": [
    "#функция получения из токена текста (выводим токен и его индекс)\n",
    "def convert(lang, tensor):\n",
    "    for t in tensor:\n",
    "        if t!=0:\n",
    "            print (\"%d ----> %s\" % (t, lang.index_word[t]))"
   ]
  },
  {
   "cell_type": "code",
   "execution_count": 23,
   "id": "d83756c7",
   "metadata": {},
   "outputs": [
    {
     "name": "stdout",
     "output_type": "stream",
     "text": [
      "Input Language; index to word mapping\n",
      "1 ----> <start>\n",
      "22 ----> noi\n",
      "195 ----> eravamo\n",
      "3330 ----> sedute\n",
      "6095 ----> sull'erba\n",
      "3 ----> .\n",
      "2 ----> <end>\n",
      "\n",
      "Target Language; index to word mapping\n",
      "1 ----> <start>\n",
      "18 ----> we\n",
      "525 ----> sat\n",
      "77 ----> on\n",
      "13 ----> the\n",
      "2065 ----> grass\n",
      "3 ----> .\n",
      "2 ----> <end>\n"
     ]
    }
   ],
   "source": [
    "print (\"Input Language; index to word mapping\")\n",
    "convert(inp_lang, input_tensor_train[0])\n",
    "print ()\n",
    "print (\"Target Language; index to word mapping\")\n",
    "convert(targ_lang, target_tensor_train[0])"
   ]
  },
  {
   "cell_type": "code",
   "execution_count": 24,
   "id": "4aa024e4",
   "metadata": {},
   "outputs": [],
   "source": [
    "BUFFER_SIZE = len(input_tensor_train)\n",
    "BATCH_SIZE = 64\n",
    "#количество эпох\n",
    "steps_per_epoch = len(input_tensor_train)//BATCH_SIZE\n",
    "embedding_dim = 300\n",
    "units = 1024\n",
    "vocab_inp_size = len(inp_lang.word_index)+1\n",
    "vocab_tar_size = len(targ_lang.word_index)+1\n",
    "#из каждого элемента (input_tensor_train, target_tensor_train) создает тензор\n",
    "dataset = tf.data.Dataset.from_tensor_slices((input_tensor_train, target_tensor_train)).shuffle(BUFFER_SIZE)\n",
    "#разбиваем датасет на батчи (списки по 64), удаляя последний неполный батч\n",
    "dataset = dataset.batch(BATCH_SIZE, drop_remainder=True)"
   ]
  },
  {
   "cell_type": "code",
   "execution_count": 25,
   "id": "623ba68b",
   "metadata": {},
   "outputs": [
    {
     "name": "stdout",
     "output_type": "stream",
     "text": [
      "(64, 20) (64, 11)\n"
     ]
    },
    {
     "data": {
      "text/plain": [
       "(<tf.Tensor: shape=(20,), dtype=int32, numpy=\n",
       " array([  1,   4, 354,  45,  22,   3,   2,   0,   0,   0,   0,   0,   0,\n",
       "          0,   0,   0,   0,   0,   0,   0], dtype=int32)>,\n",
       " <tf.Tensor: shape=(11,), dtype=int32, numpy=array([  1,   5, 320,  83,  70,   3,   2,   0,   0,   0,   0], dtype=int32)>)"
      ]
     },
     "execution_count": 25,
     "metadata": {},
     "output_type": "execute_result"
    }
   ],
   "source": [
    "example_input_batch, example_target_batch = next(iter(dataset))\n",
    "print(example_input_batch.shape, example_target_batch.shape)\n",
    "example_input_batch[0], example_target_batch[0]"
   ]
  },
  {
   "cell_type": "code",
   "execution_count": 26,
   "id": "577db60c",
   "metadata": {},
   "outputs": [],
   "source": [
    "class Encoder(tf.keras.Model):\n",
    "    def __init__(self, vocab_size, embedding_dim, enc_units, batch_sz):\n",
    "        super(Encoder, self).__init__()\n",
    "        self.batch_sz = batch_sz\n",
    "        self.enc_units = enc_units\n",
    "        self.embedding = tf.keras.layers.Embedding(vocab_size, embedding_dim)\n",
    "        self.gru = tf.keras.layers.GRU(self.enc_units,\n",
    "                                       return_sequences=False,\n",
    "                                       return_state=True,\n",
    "                                       recurrent_initializer='glorot_uniform')\n",
    "    def call(self, x, hidden):\n",
    "        x = self.embedding(x)\n",
    "        output, state = self.gru(x, initial_state = hidden)\n",
    "        return state\n",
    "\n",
    "    def initialize_hidden_state(self):\n",
    "    #создаем тензор из нулей размера (батч, кол-во ячеек)\n",
    "        return tf.zeros((self.batch_sz, self.enc_units))"
   ]
  },
  {
   "cell_type": "code",
   "execution_count": 27,
   "id": "72b2ac1c",
   "metadata": {},
   "outputs": [
    {
     "name": "stdout",
     "output_type": "stream",
     "text": [
      "Encoder Hidden state shape: (batch size, units) (64, 1024)\n"
     ]
    }
   ],
   "source": [
    "encoder = Encoder(vocab_inp_size, embedding_dim, units, BATCH_SIZE)\n",
    "\n",
    "# инициализитеруем начальное скрытое состояние (из нулей)\n",
    "sample_hidden = encoder.initialize_hidden_state()\n",
    "# применяем энкодер к входному батчу и скрытому состоянию\n",
    "sample_hidden = encoder(example_input_batch, sample_hidden)\n",
    "# print ('Форма выхода энкодера: (batch size, sequence length, units) {}'.format(sample_output.shape))\n",
    "print ('Encoder Hidden state shape: (batch size, units) {}'.format(sample_hidden.shape))"
   ]
  },
  {
   "cell_type": "code",
   "execution_count": 28,
   "id": "43b1dc5f",
   "metadata": {},
   "outputs": [],
   "source": [
    "class Decoder(tf.keras.Model):\n",
    "    def __init__(self, vocab_size, embedding_dim, dec_units, batch_sz):\n",
    "        super(Decoder, self).__init__()\n",
    "        self.batch_sz = batch_sz\n",
    "        self.dec_units = dec_units\n",
    "        self.embedding = tf.keras.layers.Embedding(vocab_size, embedding_dim)\n",
    "        self.gru = tf.keras.layers.GRU(self.dec_units,\n",
    "                                       return_sequences=True,\n",
    "                                       return_state=True,\n",
    "                                       recurrent_initializer='glorot_uniform')\n",
    "        self.fc = tf.keras.layers.Dense(vocab_size)\n",
    "\n",
    "    def call(self, x, hidden):\n",
    "        # x shape после прохождения через эмбеддинг == (batch_size, 1, embedding_dim)\n",
    "        x = self.embedding(x)\n",
    "\n",
    "        # отправляем в GRU входные данные и скрытое состояние (от энкодера)\n",
    "        #выход GRU (batch_size, timesteps, units)\n",
    "        #размер возвращаемого внутреннего состояния (batch_size, units)\n",
    "        output, state = self.gru(x, initial_state=hidden)\n",
    "\n",
    "        # output shape == (batch_size * 1, hidden_size)\n",
    "        output = tf.reshape(output, (-1, output.shape[2]))\n",
    "\n",
    "        # x shape == (batch_size, vocab)\n",
    "        x = self.fc(output)\n",
    "\n",
    "        return x, state"
   ]
  },
  {
   "cell_type": "code",
   "execution_count": 29,
   "id": "953bf9c5",
   "metadata": {},
   "outputs": [
    {
     "data": {
      "text/plain": [
       "(TensorShape([64, 6470]), TensorShape([64, 1024]))"
      ]
     },
     "execution_count": 29,
     "metadata": {},
     "output_type": "execute_result"
    }
   ],
   "source": [
    "decoder = Decoder(vocab_tar_size, embedding_dim, units, BATCH_SIZE)\n",
    "#применяем декодер к случайному батчу из равномерного распределения (батч,1) и выходу энкодера\n",
    "decoder_sample_x, decoder_sample_h = decoder(tf.random.uniform((BATCH_SIZE, 1)), sample_hidden)\n",
    "decoder_sample_x.shape, decoder_sample_h.shape"
   ]
  },
  {
   "cell_type": "code",
   "execution_count": 30,
   "id": "25ecbaf8",
   "metadata": {},
   "outputs": [],
   "source": [
    "#оптимизатор\n",
    "optimizer = tf.keras.optimizers.Adam()\n",
    "\n",
    "loss_object = tf.keras.losses.SparseCategoricalCrossentropy(\n",
    "    from_logits=True, reduction='none')\n",
    "\n",
    "#функция потерь\n",
    "def loss_function(real, pred):\n",
    "      #делаем инверсию значений сравнения каждого из real с нулем (возвращается true или false)\n",
    "    mask = tf.math.logical_not(tf.math.equal(real, 0))\n",
    "      #применяем функцию ошибок к реальным данным и предсказанным\n",
    "    loss_ = loss_object(real, pred)\n",
    "      #приводим тензор mask к новому типу loss_.dtype\n",
    "    mask = tf.cast(mask, dtype=loss_.dtype)\n",
    "      #умножаем loss_ на mask\n",
    "    loss_ *= mask\n",
    "      # возвращаем среднее значениe всех элементов\n",
    "    return tf.reduce_mean(loss_)"
   ]
  },
  {
   "cell_type": "code",
   "execution_count": 31,
   "id": "cdb17c33",
   "metadata": {},
   "outputs": [],
   "source": [
    "checkpoint_dir = './training_nmt_checkpoints'\n",
    "\n",
    "checkpoint_prefix = os.path.join(checkpoint_dir, \"ckpt\")\n",
    "\n",
    "checkpoint = tf.train.Checkpoint(optimizer=optimizer,\n",
    "                                 encoder=encoder,\n",
    "                                 decoder=decoder)"
   ]
  },
  {
   "cell_type": "code",
   "execution_count": 32,
   "id": "ab15e070",
   "metadata": {},
   "outputs": [],
   "source": [
    "@tf.function\n",
    "def train_step(inp, targ, enc_hidden):\n",
    "    loss = 0\n",
    "  # перечисляем операции для автоматического дифференцирования\n",
    "    with tf.GradientTape() as tape:\n",
    "        #получаем выход encoder\n",
    "        enc_hidden = encoder(inp, enc_hidden)\n",
    "        #помещаем его в скрытое состояние decoder\n",
    "        dec_hidden = enc_hidden\n",
    "        #формируем вход декодера:\n",
    "                 # берем список длины батч из индексов тега <start> (1)\n",
    "                 # приписываем списку размерность 1 сзади (батч, 1)\n",
    "        dec_input = tf.expand_dims([targ_lang.word_index['<start>']] * BATCH_SIZE, 1)\n",
    "\n",
    "        # Teacher forcing - выводим target в качестве следующего входа\n",
    "        for t in range(1, targ.shape[1]):\n",
    "          # помещаем enc_output в decoder\n",
    "            predictions, dec_hidden = decoder(dec_input, dec_hidden)\n",
    "          # считаем функцию потерь \n",
    "            loss += loss_function(targ[:, t], predictions)\n",
    "          # используем teacher forcing (приписываем списку размерность 1 сзади)\n",
    "          #посылаем dec_input на вход декордера \n",
    "            dec_input = tf.expand_dims(targ[:, t], 1)\n",
    "\n",
    "    batch_loss = (loss / int(targ.shape[1]))\n",
    "    #переменные\n",
    "    variables = encoder.trainable_variables + decoder.trainable_variables\n",
    "    #вычисляем градиенты loss по variables\n",
    "    gradients = tape.gradient(loss, variables)\n",
    "    #оптимизатор применяет подсчитанные градиенты\n",
    "    optimizer.apply_gradients(zip(gradients, variables))\n",
    "\n",
    "    return batch_loss"
   ]
  },
  {
   "cell_type": "code",
   "execution_count": 33,
   "id": "c738d938",
   "metadata": {
    "scrolled": true
   },
   "outputs": [
    {
     "name": "stdout",
     "output_type": "stream",
     "text": [
      "Epoch 1 Batch 0 Loss 4.4625\n",
      "Epoch 1 Batch 100 Loss 1.9428\n",
      "Epoch 1 Batch 200 Loss 1.6392\n",
      "Epoch 1 Batch 300 Loss 1.6486\n",
      "Epoch 1 Batch 400 Loss 1.4686\n",
      "Epoch 1 Batch 500 Loss 1.4769\n",
      "Epoch 1 Batch 600 Loss 1.2939\n",
      "Epoch 1 Batch 700 Loss 1.1403\n",
      "Epoch 1 Batch 800 Loss 1.1358\n",
      "Epoch 1 Batch 900 Loss 1.0490\n",
      "Epoch 1 Batch 1000 Loss 0.8544\n",
      "Epoch 1 Batch 1100 Loss 0.9026\n",
      "Epoch 1 Batch 1200 Loss 0.7800\n",
      "Epoch 1 Loss 1.3343\n",
      "Time taken for 1 epoch 1563.3809118270874 sec\n",
      "\n",
      "Epoch 2 Batch 0 Loss 0.6104\n",
      "Epoch 2 Batch 100 Loss 0.6801\n",
      "Epoch 2 Batch 200 Loss 0.6570\n",
      "Epoch 2 Batch 300 Loss 0.5844\n",
      "Epoch 2 Batch 400 Loss 0.6403\n",
      "Epoch 2 Batch 500 Loss 0.5649\n",
      "Epoch 2 Batch 600 Loss 0.4772\n",
      "Epoch 2 Batch 700 Loss 0.5435\n",
      "Epoch 2 Batch 800 Loss 0.5850\n",
      "Epoch 2 Batch 900 Loss 0.3956\n",
      "Epoch 2 Batch 1000 Loss 0.4082\n",
      "Epoch 2 Batch 1100 Loss 0.3968\n",
      "Epoch 2 Batch 1200 Loss 0.4427\n",
      "Epoch 2 Loss 0.5396\n",
      "Time taken for 1 epoch 1708.7827017307281 sec\n",
      "\n",
      "Epoch 3 Batch 0 Loss 0.2296\n",
      "Epoch 3 Batch 100 Loss 0.2444\n",
      "Epoch 3 Batch 200 Loss 0.2483\n",
      "Epoch 3 Batch 300 Loss 0.2629\n",
      "Epoch 3 Batch 400 Loss 0.2505\n",
      "Epoch 3 Batch 500 Loss 0.2708\n",
      "Epoch 3 Batch 600 Loss 0.3287\n",
      "Epoch 3 Batch 700 Loss 0.1876\n",
      "Epoch 3 Batch 800 Loss 0.2566\n",
      "Epoch 3 Batch 900 Loss 0.1787\n",
      "Epoch 3 Batch 1000 Loss 0.1877\n",
      "Epoch 3 Batch 1100 Loss 0.1809\n",
      "Epoch 3 Batch 1200 Loss 0.1790\n",
      "Epoch 3 Loss 0.2392\n",
      "Time taken for 1 epoch 1878.5032770633698 sec\n",
      "\n",
      "Epoch 4 Batch 0 Loss 0.1437\n",
      "Epoch 4 Batch 100 Loss 0.1318\n",
      "Epoch 4 Batch 200 Loss 0.1263\n",
      "Epoch 4 Batch 300 Loss 0.1248\n",
      "Epoch 4 Batch 400 Loss 0.1089\n",
      "Epoch 4 Batch 500 Loss 0.1548\n",
      "Epoch 4 Batch 600 Loss 0.1445\n",
      "Epoch 4 Batch 700 Loss 0.1351\n",
      "Epoch 4 Batch 800 Loss 0.1147\n",
      "Epoch 4 Batch 900 Loss 0.1656\n",
      "Epoch 4 Batch 1000 Loss 0.1699\n",
      "Epoch 4 Batch 1100 Loss 0.1568\n",
      "Epoch 4 Batch 1200 Loss 0.0904\n",
      "Epoch 4 Loss 0.1331\n",
      "Time taken for 1 epoch 1860.757658958435 sec\n",
      "\n",
      "Epoch 5 Batch 0 Loss 0.0941\n",
      "Epoch 5 Batch 100 Loss 0.1051\n",
      "Epoch 5 Batch 200 Loss 0.0910\n",
      "Epoch 5 Batch 300 Loss 0.0994\n",
      "Epoch 5 Batch 400 Loss 0.0893\n",
      "Epoch 5 Batch 500 Loss 0.1174\n",
      "Epoch 5 Batch 600 Loss 0.0747\n",
      "Epoch 5 Batch 700 Loss 0.0906\n",
      "Epoch 5 Batch 800 Loss 0.1018\n",
      "Epoch 5 Batch 900 Loss 0.0849\n",
      "Epoch 5 Batch 1000 Loss 0.0927\n",
      "Epoch 5 Batch 1100 Loss 0.1295\n",
      "Epoch 5 Batch 1200 Loss 0.1160\n",
      "Epoch 5 Loss 0.0948\n",
      "Time taken for 1 epoch 1699.009652853012 sec\n",
      "\n"
     ]
    }
   ],
   "source": [
    "EPOCHS = 5\n",
    "\n",
    "for epoch in range(EPOCHS):\n",
    "    start = time.time()\n",
    "\n",
    "  #инициализируем входное скрытое состояние (из нулей) размера (батч, кол-во рекуррентных ячеек)\n",
    "    enc_hidden = encoder.initialize_hidden_state()\n",
    "    total_loss = 0\n",
    "\n",
    "    for (batch, (inp, targ)) in enumerate(dataset.take(steps_per_epoch)):\n",
    "        #делаем шаг обучения. находим оштбку за этоху\n",
    "        batch_loss = train_step(inp, targ, enc_hidden)\n",
    "        #считаем ошибку\n",
    "        total_loss += batch_loss\n",
    "\n",
    "        if batch % 100 == 0:\n",
    "            print('Epoch {} Batch {} Loss {:.4f}'.format(epoch + 1,\n",
    "                                                       batch,\n",
    "                                                       batch_loss.numpy()))\n",
    "  # saving (checkpoint) the model every 2 epochs\n",
    "    if (epoch + 1) % 2 == 0:\n",
    "        checkpoint.save(file_prefix = checkpoint_prefix)\n",
    "\n",
    "    print('Epoch {} Loss {:.4f}'.format(epoch + 1,\n",
    "                                      total_loss / steps_per_epoch))\n",
    "    print('Time taken for 1 epoch {} sec\\n'.format(time.time() - start))"
   ]
  },
  {
   "cell_type": "code",
   "execution_count": 34,
   "id": "e7bd70f4",
   "metadata": {},
   "outputs": [],
   "source": [
    "def evaluate(sentence):\n",
    "  #препоцессим предложение\n",
    "    sentence = preprocess_sentence(sentence)\n",
    "      #разбиваем предложение по пробелам и составляем список индексов каждого слова\n",
    "    inputs = [inp_lang.word_index[i] for i in sentence.split(' ')]\n",
    "      #добиваем inputs нулями справа до максимальной длины входного текста\n",
    "    inputs = tf.keras.preprocessing.sequence.pad_sequences([inputs],\n",
    "                                                             maxlen=max_length_inp,\n",
    "                                                             padding='post')\n",
    "      #преобразуем inputs в тензор\n",
    "    inputs = tf.convert_to_tensor(inputs)\n",
    "\n",
    "    result = ''\n",
    "      # инициализируем входной хидден из нулей размера (1, units)\n",
    "    hidden = [tf.zeros((1, units))]\n",
    "      #подаем inputs и hidden в encoder\n",
    "    enc_hidden = encoder(inputs, hidden)\n",
    "\n",
    "      #инициализируем входной хидден декодера -- выходной хидден энкодера\n",
    "    dec_hidden = enc_hidden\n",
    "      #вход декодера -- список [индекс start] размера(1,1)\n",
    "    dec_input = tf.expand_dims([targ_lang.word_index['<start>']], 0)\n",
    "\n",
    "    for t in range(max_length_targ):\n",
    "            #получаем выход декодера\n",
    "        predictions, dec_hidden = decoder(dec_input, dec_hidden)\n",
    "\n",
    "        predicted_id = tf.argmax(predictions[0]).numpy()\n",
    "        result += targ_lang.index_word[predicted_id] + ' '\n",
    "\n",
    "   #заканчиваем на токене end\n",
    "        if targ_lang.index_word[predicted_id] == '<end>':\n",
    "            return result, sentence\n",
    "\n",
    "    # предсказанный predicted ID подаем обратно в декодер (размер (1,1))\n",
    "        dec_input = tf.expand_dims([predicted_id], 0)\n",
    "\n",
    "    return result, sentence"
   ]
  },
  {
   "cell_type": "code",
   "execution_count": 35,
   "id": "661961dc",
   "metadata": {},
   "outputs": [],
   "source": [
    "#функция перевода\n",
    "def translate(sentence):\n",
    "    result, sentence = evaluate(sentence)\n",
    "    print('Input: %s' % (sentence))\n",
    "    print('Predicted translation: {}'.format(result))"
   ]
  },
  {
   "cell_type": "code",
   "execution_count": 36,
   "id": "94082ae6",
   "metadata": {},
   "outputs": [
    {
     "data": {
      "text/plain": [
       "<tensorflow.python.checkpoint.checkpoint.CheckpointLoadStatus at 0x7f17b1488bd0>"
      ]
     },
     "execution_count": 36,
     "metadata": {},
     "output_type": "execute_result"
    }
   ],
   "source": [
    "# загружаем последний checkpoint in checkpoint_dir\n",
    "checkpoint.restore(tf.train.latest_checkpoint(checkpoint_dir))"
   ]
  },
  {
   "cell_type": "code",
   "execution_count": 37,
   "id": "9b7a22e0",
   "metadata": {
    "scrolled": true
   },
   "outputs": [
    {
     "name": "stdout",
     "output_type": "stream",
     "text": [
      "Input: <start> buon anno <end>\n",
      "Predicted translation: good luck . <end> \n"
     ]
    }
   ],
   "source": [
    "translate('buon anno')"
   ]
  },
  {
   "cell_type": "code",
   "execution_count": 38,
   "id": "fa6998e8",
   "metadata": {},
   "outputs": [
    {
     "name": "stdout",
     "output_type": "stream",
     "text": [
      "Input: <start> il nuovo anno la vacanza migliore <end>\n",
      "Predicted translation: his glass was new . <end> \n"
     ]
    }
   ],
   "source": [
    "translate('il nuovo anno è la vacanza migliore')"
   ]
  },
  {
   "cell_type": "code",
   "execution_count": null,
   "id": "7e569ab2",
   "metadata": {},
   "outputs": [],
   "source": [
    "## 4. Построение модели машинного перевода с вниманием <a id='section_4'></a>"
   ]
  },
  {
   "cell_type": "code",
   "execution_count": 49,
   "id": "55315e90",
   "metadata": {},
   "outputs": [],
   "source": [
    "class Encoder(tf.keras.Model):\n",
    "    def __init__(self, vocab_size, embedding_dim, enc_units, batch_sz):\n",
    "        super(Encoder, self).__init__()\n",
    "        self.batch_sz = batch_sz\n",
    "        self.enc_units = enc_units\n",
    "        self.embedding = tf.keras.layers.Embedding(vocab_size, embedding_dim)\n",
    "        self.gru = tf.keras.layers.GRU(self.enc_units,\n",
    "                                       return_sequences=True,\n",
    "                                       return_state=True,\n",
    "                                       recurrent_initializer='glorot_uniform')\n",
    "\n",
    "    def call(self, x, hidden):\n",
    "        x = self.embedding(x)\n",
    "        output, state = self.gru(x, initial_state = hidden)\n",
    "        return output, state\n",
    "\n",
    "    def initialize_hidden_state(self):\n",
    "        return tf.zeros((self.batch_sz, self.enc_units))"
   ]
  },
  {
   "cell_type": "code",
   "execution_count": 50,
   "id": "98d809bf",
   "metadata": {},
   "outputs": [
    {
     "name": "stdout",
     "output_type": "stream",
     "text": [
      "Encoder output shape: (batch size, sequence length, units) (64, 20, 1024)\n",
      "Encoder Hidden state shape: (batch size, units) (64, 1024)\n"
     ]
    }
   ],
   "source": [
    "encoder = Encoder(vocab_inp_size, embedding_dim, units, BATCH_SIZE)\n",
    "\n",
    "# инициализируем начальное скрытое состояние из нулей\n",
    "sample_hidden = encoder.initialize_hidden_state()\n",
    "#получаем выход энкодера и последнее скрытое состояние\n",
    "sample_output, sample_hidden = encoder(example_input_batch, sample_hidden)\n",
    "print ('Encoder output shape: (batch size, sequence length, units) {}'.format(sample_output.shape))\n",
    "print ('Encoder Hidden state shape: (batch size, units) {}'.format(sample_hidden.shape))"
   ]
  },
  {
   "cell_type": "code",
   "execution_count": 51,
   "id": "cff2cc07",
   "metadata": {},
   "outputs": [],
   "source": [
    "class BahdanauAttention(tf.keras.layers.Layer):\n",
    "    def __init__(self, units):\n",
    "        super(BahdanauAttention, self).__init__()\n",
    "        self.W1 = tf.keras.layers.Dense(units)\n",
    "        self.W2 = tf.keras.layers.Dense(units)\n",
    "        self.V = tf.keras.layers.Dense(1)\n",
    "\n",
    "    def call(self, query, values):\n",
    "        # query hidden state shape == (batch_size, hidden size)\n",
    "        # values shape == (batch_size, max_len, hidden size)\n",
    "\n",
    "        # query_with_time_axis shape == (batch_size, 1, hidden size)\n",
    "        query_with_time_axis = tf.expand_dims(query, 1)\n",
    "\n",
    "        # score shape == (batch_size, max_length, 1)\n",
    "        # we get 1 at the last axis because we are applying score to self.V\n",
    "        # the shape of the tensor before applying self.V is (batch_size, max_length, units)\n",
    "        \n",
    "        #применяем к векторам скрытого состояния и выходов энкодера полносвязный слой (выход (batch_size, 1, units) и (batch_size, max_length, units))\n",
    "        #складываем полученные векторы, применяем к сумму тангенс выход (batch_size, max_length, units)\n",
    "        #проводим результат через dense слой выход (batch_size, max_length, 1)\n",
    "        score = self.V(tf.nn.tanh(\n",
    "            self.W1(query_with_time_axis) + self.W2(values)))\n",
    "\n",
    "        # attention_weights shape == (batch_size, max_length, 1)\n",
    "        # получаем вероятностное распределение\n",
    "        attention_weights = tf.nn.softmax(score, axis=1)\n",
    "\n",
    "        # context_vector shape after sum == (batch_size, hidden_size)\n",
    "        # умножаем веса внимания умножаем на векторы значенй выход (batch_size, max_len, hidden size)\n",
    "        context_vector = attention_weights * values\n",
    "        #находим вдоль столбцов (batch_size, hidden_size)\n",
    "        context_vector = tf.reduce_sum(context_vector, axis=1)\n",
    "\n",
    "        return context_vector, attention_weights"
   ]
  },
  {
   "cell_type": "code",
   "execution_count": 52,
   "id": "d7b93f2b",
   "metadata": {},
   "outputs": [
    {
     "name": "stdout",
     "output_type": "stream",
     "text": [
      "Attention result shape: (batch size, units) (64, 1024)\n",
      "Attention weights shape: (batch_size, sequence_length, 1) (64, 20, 1)\n"
     ]
    }
   ],
   "source": [
    "#создаем слой внимания\n",
    "attention_layer = BahdanauAttention(10)\n",
    "#передаем выход энкодера и его скрытое состояние\n",
    "attention_result, attention_weights = attention_layer(sample_hidden, sample_output)\n",
    "\n",
    "print(\"Attention result shape: (batch size, units) {}\".format(attention_result.shape))\n",
    "print(\"Attention weights shape: (batch_size, sequence_length, 1) {}\".format(attention_weights.shape))"
   ]
  },
  {
   "cell_type": "code",
   "execution_count": 54,
   "id": "ad837424",
   "metadata": {},
   "outputs": [
    {
     "data": {
      "text/plain": [
       "<tf.Tensor: shape=(64, 1024), dtype=float32, numpy=\n",
       "array([[-0.01039974,  0.01132501,  0.00825692, ..., -0.00958878,\n",
       "         0.00119532, -0.01655166],\n",
       "       [-0.01042826,  0.00964835,  0.00532734, ..., -0.00972228,\n",
       "        -0.00051519, -0.01894228],\n",
       "       [-0.01123   ,  0.01341685,  0.00830989, ..., -0.0103007 ,\n",
       "         0.00067935, -0.02267005],\n",
       "       ...,\n",
       "       [-0.00649919,  0.01126624,  0.00489546, ..., -0.01016429,\n",
       "         0.00220477, -0.01421126],\n",
       "       [-0.00911233,  0.01078718,  0.00849943, ..., -0.01276174,\n",
       "         0.00123644, -0.01952188],\n",
       "       [-0.01151476,  0.01017414,  0.00644725, ..., -0.01050772,\n",
       "         0.00288545, -0.0202786 ]], dtype=float32)>"
      ]
     },
     "execution_count": 54,
     "metadata": {},
     "output_type": "execute_result"
    }
   ],
   "source": [
    "attention_result"
   ]
  },
  {
   "cell_type": "code",
   "execution_count": 55,
   "id": "670f8e54",
   "metadata": {},
   "outputs": [
    {
     "data": {
      "text/plain": [
       "<tf.Tensor: shape=(64, 20, 1), dtype=float32, numpy=\n",
       "array([[[0.04990391],\n",
       "        [0.04898951],\n",
       "        [0.04895688],\n",
       "        ...,\n",
       "        [0.05036637],\n",
       "        [0.05036976],\n",
       "        [0.0503718 ]],\n",
       "\n",
       "       [[0.04992177],\n",
       "        [0.05051528],\n",
       "        [0.04980263],\n",
       "        ...,\n",
       "        [0.05038331],\n",
       "        [0.0503871 ],\n",
       "        [0.05038939]],\n",
       "\n",
       "       [[0.04968512],\n",
       "        [0.0502825 ],\n",
       "        [0.05026068],\n",
       "        ...,\n",
       "        [0.05015147],\n",
       "        [0.0501523 ],\n",
       "        [0.05015282]],\n",
       "\n",
       "       ...,\n",
       "\n",
       "       [[0.04995866],\n",
       "        [0.04890165],\n",
       "        [0.04957672],\n",
       "        ...,\n",
       "        [0.05042158],\n",
       "        [0.05042539],\n",
       "        [0.05042756]],\n",
       "\n",
       "       [[0.04969773],\n",
       "        [0.05043574],\n",
       "        [0.04946563],\n",
       "        ...,\n",
       "        [0.05016206],\n",
       "        [0.05016384],\n",
       "        [0.0501649 ]],\n",
       "\n",
       "       [[0.04983369],\n",
       "        [0.04925193],\n",
       "        [0.04963162],\n",
       "        ...,\n",
       "        [0.05029829],\n",
       "        [0.05030033],\n",
       "        [0.05030159]]], dtype=float32)>"
      ]
     },
     "execution_count": 55,
     "metadata": {},
     "output_type": "execute_result"
    }
   ],
   "source": [
    "attention_weights"
   ]
  },
  {
   "cell_type": "code",
   "execution_count": null,
   "id": "93747351",
   "metadata": {},
   "outputs": [],
   "source": []
  },
  {
   "cell_type": "code",
   "execution_count": 56,
   "id": "aa7290c2",
   "metadata": {},
   "outputs": [],
   "source": [
    "class Decoder(tf.keras.Model):\n",
    "    def __init__(self, vocab_size, embedding_dim, dec_units, batch_sz):\n",
    "        super(Decoder, self).__init__()\n",
    "        self.batch_sz = batch_sz\n",
    "        self.dec_units = dec_units\n",
    "        self.embedding = tf.keras.layers.Embedding(vocab_size, embedding_dim)\n",
    "        self.gru = tf.keras.layers.GRU(self.dec_units,\n",
    "                                       return_sequences=True,\n",
    "                                       return_state=True,\n",
    "                                       recurrent_initializer='glorot_uniform')\n",
    "        self.fc = tf.keras.layers.Dense(vocab_size)\n",
    "        # используем слой внимания\n",
    "        self.attention = BahdanauAttention(self.dec_units)\n",
    "\n",
    "    def call(self, x, hidden, enc_output):\n",
    "        # enc_output shape == (batch_size, max_length, hidden_size)\n",
    "        # получаем выходы слоя внимания (из скрытого состояния и выхода энкодера)\n",
    "        # context_vector shape == (batch_size, hidden_size)\n",
    "        # attention_weights shape == (batch_size, max_len, 1)\n",
    "        context_vector, attention_weights = self.attention(hidden, enc_output)\n",
    "\n",
    "        # x shape after passing through embedding == (batch_size, 1, embedding_dim)\n",
    "        x = self.embedding(x)\n",
    "\n",
    "        # x shape after concatenation == (batch_size, 1, embedding_dim + hidden_size)\n",
    "        #соединяем выход эмбеддинга с вектором контекста и подаем навход RNN\n",
    "        x = tf.concat([tf.expand_dims(context_vector, 1), x], axis=-1)\n",
    "\n",
    "        # passing the concatenated vector to the GRU\n",
    "        output, state = self.gru(x)\n",
    "\n",
    "        # (batch_size, 1, hidden_size) --> output shape == (batch_size * 1, hidden_size)\n",
    "        output = tf.reshape(output, (-1, output.shape[2]))\n",
    "\n",
    "        # output shape == (batch_size, vocab)\n",
    "        x = self.fc(output)\n",
    "\n",
    "        return x, state, attention_weights"
   ]
  },
  {
   "cell_type": "code",
   "execution_count": 57,
   "id": "4849ace3",
   "metadata": {},
   "outputs": [
    {
     "name": "stdout",
     "output_type": "stream",
     "text": [
      "Decoder output shape: (batch_size, vocab size) (64, 6470)\n"
     ]
    }
   ],
   "source": [
    "decoder = Decoder(vocab_tar_size, embedding_dim, units, BATCH_SIZE)\n",
    "#применяем декодер к случайному батчу из равномерного распределения (батч,1) и выходам энкодера\n",
    "sample_decoder_output, _, _ = decoder(tf.random.uniform((BATCH_SIZE, 1)),\n",
    "                                      sample_hidden, sample_output)\n",
    "\n",
    "print ('Decoder output shape: (batch_size, vocab size) {}'.format(sample_decoder_output.shape))"
   ]
  },
  {
   "cell_type": "code",
   "execution_count": 61,
   "id": "3f289838",
   "metadata": {},
   "outputs": [],
   "source": [
    "#оптимизатор\n",
    "optimizer = tf.keras.optimizers.Adam()"
   ]
  },
  {
   "cell_type": "code",
   "execution_count": 62,
   "id": "c374ef67",
   "metadata": {},
   "outputs": [],
   "source": [
    "checkpoint_dir = './training_attention_checkpoints'\n",
    "checkpoint_prefix = os.path.join(checkpoint_dir, \"ckpt\")\n",
    "checkpoint = tf.train.Checkpoint(optimizer=optimizer,\n",
    "                                 encoder=encoder,\n",
    "                                 decoder=decoder)"
   ]
  },
  {
   "cell_type": "code",
   "execution_count": 63,
   "id": "c3c0ad8c",
   "metadata": {},
   "outputs": [],
   "source": [
    "@tf.function\n",
    "def train_step_att(inp, targ, enc_hidden):\n",
    "    loss = 0\n",
    "\n",
    "    with tf.GradientTape() as tape:\n",
    "        #получаем выходы encoder\n",
    "        enc_output, enc_hidden = encoder(inp, enc_hidden)\n",
    "        #помещаем выходное скрытое состояние энкодера в скрытое состояние decoder\n",
    "        dec_hidden = enc_hidden\n",
    "        #формируем вход декодера:\n",
    "             # берем список длины батч из индексов тега <start>\n",
    "             # приписываем списку размерность 1 сзади\n",
    "        dec_input = tf.expand_dims([targ_lang.word_index['<start>']] * BATCH_SIZE, 1)\n",
    "\n",
    "        # Teacher forcing - выводим target в качестве следующего входа\n",
    "        for t in range(1, targ.shape[1]):\n",
    "          # помещаем enc_output, dec_input, dec_hidden в decoder\n",
    "            predictions, dec_hidden, _ = decoder(dec_input, dec_hidden, enc_output)\n",
    "            # считаем функцию потерь \n",
    "            loss += loss_function(targ[:, t], predictions)\n",
    "            # используем teacher forcing (приписываем списку размерность 1 сзади)\n",
    "            dec_input = tf.expand_dims(targ[:, t], 1)\n",
    "\n",
    "    batch_loss = (loss / int(targ.shape[1]))\n",
    "    #переменные\n",
    "    variables = encoder.trainable_variables + decoder.trainable_variables\n",
    "    #вычисляем градиенты loss по variables\n",
    "    gradients = tape.gradient(loss, variables)\n",
    "    #оптимизатор применяет подсчитанные градиенты\n",
    "    optimizer.apply_gradients(zip(gradients, variables))\n",
    "\n",
    "    return batch_loss"
   ]
  },
  {
   "cell_type": "code",
   "execution_count": 64,
   "id": "1321523f",
   "metadata": {},
   "outputs": [
    {
     "name": "stdout",
     "output_type": "stream",
     "text": [
      "Epoch 1 Batch 0 Loss 4.5247\n",
      "Epoch 1 Batch 100 Loss 2.0470\n",
      "Epoch 1 Batch 200 Loss 1.6651\n",
      "Epoch 1 Batch 300 Loss 1.4963\n",
      "Epoch 1 Batch 400 Loss 1.2619\n",
      "Epoch 1 Batch 500 Loss 1.3404\n",
      "Epoch 1 Batch 600 Loss 1.0958\n",
      "Epoch 1 Batch 700 Loss 1.1726\n",
      "Epoch 1 Batch 800 Loss 0.9077\n",
      "Epoch 1 Batch 900 Loss 0.8766\n",
      "Epoch 1 Batch 1000 Loss 0.7555\n",
      "Epoch 1 Batch 1100 Loss 0.7215\n",
      "Epoch 1 Batch 1200 Loss 0.6012\n",
      "Epoch 1 Loss 1.2259\n",
      "Time taken for 1 epoch 3191.962040901184 sec\n",
      "\n",
      "Epoch 2 Batch 0 Loss 0.5638\n",
      "Epoch 2 Batch 100 Loss 0.5872\n",
      "Epoch 2 Batch 200 Loss 0.5396\n",
      "Epoch 2 Batch 300 Loss 0.4634\n",
      "Epoch 2 Batch 400 Loss 0.3670\n",
      "Epoch 2 Batch 500 Loss 0.4463\n",
      "Epoch 2 Batch 600 Loss 0.4477\n",
      "Epoch 2 Batch 700 Loss 0.4090\n",
      "Epoch 2 Batch 800 Loss 0.3989\n",
      "Epoch 2 Batch 900 Loss 0.3572\n",
      "Epoch 2 Batch 1000 Loss 0.3483\n",
      "Epoch 2 Batch 1100 Loss 0.3668\n",
      "Epoch 2 Batch 1200 Loss 0.3647\n",
      "Epoch 2 Loss 0.4020\n",
      "Time taken for 1 epoch 2719.785792827606 sec\n",
      "\n",
      "Epoch 3 Batch 0 Loss 0.1967\n",
      "Epoch 3 Batch 100 Loss 0.1504\n",
      "Epoch 3 Batch 200 Loss 0.2053\n",
      "Epoch 3 Batch 300 Loss 0.3219\n",
      "Epoch 3 Batch 400 Loss 0.1918\n",
      "Epoch 3 Batch 500 Loss 0.1392\n",
      "Epoch 3 Batch 600 Loss 0.1761\n",
      "Epoch 3 Batch 700 Loss 0.1751\n",
      "Epoch 3 Batch 800 Loss 0.2098\n",
      "Epoch 3 Batch 900 Loss 0.2038\n",
      "Epoch 3 Batch 1000 Loss 0.1746\n",
      "Epoch 3 Batch 1100 Loss 0.1723\n",
      "Epoch 3 Batch 1200 Loss 0.1120\n",
      "Epoch 3 Loss 0.1889\n",
      "Time taken for 1 epoch 2718.3465733528137 sec\n",
      "\n",
      "Epoch 4 Batch 0 Loss 0.1203\n",
      "Epoch 4 Batch 100 Loss 0.1219\n",
      "Epoch 4 Batch 200 Loss 0.0942\n",
      "Epoch 4 Batch 300 Loss 0.1250\n",
      "Epoch 4 Batch 400 Loss 0.1147\n",
      "Epoch 4 Batch 500 Loss 0.1421\n",
      "Epoch 4 Batch 600 Loss 0.0813\n",
      "Epoch 4 Batch 700 Loss 0.1291\n",
      "Epoch 4 Batch 800 Loss 0.1349\n",
      "Epoch 4 Batch 900 Loss 0.1297\n",
      "Epoch 4 Batch 1000 Loss 0.1303\n",
      "Epoch 4 Batch 1100 Loss 0.1016\n",
      "Epoch 4 Batch 1200 Loss 0.1243\n",
      "Epoch 4 Loss 0.1203\n",
      "Time taken for 1 epoch 2721.658442258835 sec\n",
      "\n",
      "Epoch 5 Batch 0 Loss 0.0792\n",
      "Epoch 5 Batch 100 Loss 0.0926\n",
      "Epoch 5 Batch 200 Loss 0.0737\n",
      "Epoch 5 Batch 300 Loss 0.0973\n",
      "Epoch 5 Batch 400 Loss 0.0679\n",
      "Epoch 5 Batch 500 Loss 0.0606\n",
      "Epoch 5 Batch 600 Loss 0.0815\n",
      "Epoch 5 Batch 700 Loss 0.0557\n",
      "Epoch 5 Batch 800 Loss 0.0534\n",
      "Epoch 5 Batch 900 Loss 0.0614\n",
      "Epoch 5 Batch 1000 Loss 0.0793\n",
      "Epoch 5 Batch 1100 Loss 0.1240\n",
      "Epoch 5 Batch 1200 Loss 0.1024\n",
      "Epoch 5 Loss 0.0908\n",
      "Time taken for 1 epoch 2674.726991176605 sec\n",
      "\n"
     ]
    }
   ],
   "source": [
    "EPOCHS = 5\n",
    "\n",
    "for epoch in range(EPOCHS):\n",
    "    start = time.time()\n",
    "\n",
    "    #инициализируем входное скрытое состояние (из нулей) размера (батч, кол-во рекуррентных ячеек)\n",
    "    enc_hidden = encoder.initialize_hidden_state()\n",
    "    total_loss = 0\n",
    "\n",
    "    for (batch, (inp, targ)) in enumerate(dataset.take(steps_per_epoch)):\n",
    "        #делаем шаг обучения\n",
    "        batch_loss = train_step_att(inp, targ, enc_hidden)\n",
    "        #считаем ошибку\n",
    "        total_loss += batch_loss\n",
    "\n",
    "        if batch % 100 == 0:\n",
    "            print('Epoch {} Batch {} Loss {:.4f}'.format(epoch + 1,\n",
    "                                                       batch,\n",
    "                                                       batch_loss.numpy()))\n",
    "    # saving (checkpoint) the model every 2 epochs\n",
    "    if (epoch + 1) % 2 == 0:\n",
    "        checkpoint.save(file_prefix = checkpoint_prefix)\n",
    "\n",
    "    print('Epoch {} Loss {:.4f}'.format(epoch + 1,\n",
    "                                      total_loss / steps_per_epoch))\n",
    "    print('Time taken for 1 epoch {} sec\\n'.format(time.time() - start))"
   ]
  },
  {
   "cell_type": "code",
   "execution_count": 65,
   "id": "99e9e728",
   "metadata": {},
   "outputs": [],
   "source": [
    "def evaluate_att(sentence):\n",
    "    #строим матрицу внимания из нулей размера (макс длина таргета, макс длина входа)  \n",
    "    attention_plot = np.zeros((max_length_targ, max_length_inp))\n",
    "    #препоцессим предложение\n",
    "    sentence = preprocess_sentence(sentence)\n",
    "    #разбиваем предложение по пробелам и составляем список индексов каждого слова\n",
    "    inputs = [inp_lang.word_index[i] for i in sentence.split(' ')]\n",
    "    #добиваем inputs нулями справа до максимальной длины входного текста\n",
    "    inputs = tf.keras.preprocessing.sequence.pad_sequences([inputs],\n",
    "                                                         maxlen=max_length_inp,\n",
    "                                                         padding='post')\n",
    "    #преобразуем inputs в тензор\n",
    "    inputs = tf.convert_to_tensor(inputs)\n",
    "\n",
    "    result = ''\n",
    "    # инициализируем входной хидден из нулей размера (1, units)\n",
    "    hidden = [tf.zeros((1, units))]\n",
    "    #подаем inputs и hidden в encoder\n",
    "    enc_out, enc_hidden = encoder(inputs, hidden)\n",
    "\n",
    "    #инициализируем входной хидден декодера -- выходной хидден энкодера\n",
    "    dec_hidden = enc_hidden\n",
    "    #вход декодера -- список [индекс start] размера(1,1)  \n",
    "    dec_input = tf.expand_dims([targ_lang.word_index['<start>']], 0)\n",
    "\n",
    "    for t in range(max_length_targ):\n",
    "        #получаем выход декодера\n",
    "        predictions, dec_hidden, attention_weights = decoder(dec_input,\n",
    "                                                         dec_hidden,\n",
    "                                                         enc_out)\n",
    "\n",
    "        # сохраняем веса внимания, чтобы позже визуализировать\n",
    "        attention_weights = tf.reshape(attention_weights, (-1, ))\n",
    "        attention_plot[t] = attention_weights.numpy()\n",
    "\n",
    "        predicted_id = tf.argmax(predictions[0]).numpy()\n",
    "        result += targ_lang.index_word[predicted_id] + ' '\n",
    "\n",
    "        #заканчиваем на токене end\n",
    "        if targ_lang.index_word[predicted_id] == '<end>':\n",
    "            return result, sentence, attention_plot\n",
    "\n",
    "    # предсказанный predicted ID подаем обратно в декодер (размер (1,1))\n",
    "        dec_input = tf.expand_dims([predicted_id], 0)\n",
    "\n",
    "    return result, sentence, attention_plot"
   ]
  },
  {
   "cell_type": "code",
   "execution_count": 66,
   "id": "e42a2d6e",
   "metadata": {},
   "outputs": [],
   "source": [
    "# визуализация весов внимания\n",
    "def plot_attention(attention, sentence, predicted_sentence):\n",
    "    fig = plt.figure(figsize=(10,10))\n",
    "    ax = fig.add_subplot(1, 1, 1)\n",
    "    ax.matshow(attention, cmap='viridis')\n",
    "\n",
    "    fontdict = {'fontsize': 14}\n",
    "\n",
    "    ax.set_xticklabels([''] + sentence, fontdict=fontdict, rotation=90)\n",
    "    ax.set_yticklabels([''] + predicted_sentence, fontdict=fontdict)\n",
    "\n",
    "    ax.xaxis.set_major_locator(ticker.MultipleLocator(1))\n",
    "    ax.yaxis.set_major_locator(ticker.MultipleLocator(1))\n",
    "\n",
    "    plt.show()"
   ]
  },
  {
   "cell_type": "code",
   "execution_count": 67,
   "id": "532c6303",
   "metadata": {},
   "outputs": [],
   "source": [
    "def translate_att(sentence):\n",
    "    result, sentence, attention_plot = evaluate_att(sentence)\n",
    "    print('Input: %s' % (sentence))\n",
    "    print('Predicted translation: {}'.format(result))\n",
    "\n",
    "    attention_plot = attention_plot[:len(result.split(' ')), :len(sentence.split(' '))]\n",
    "    plot_attention(attention_plot, sentence.split(' '), result.split(' '))"
   ]
  },
  {
   "cell_type": "code",
   "execution_count": 68,
   "id": "9e25eb3c",
   "metadata": {},
   "outputs": [
    {
     "data": {
      "text/plain": [
       "<tensorflow.python.checkpoint.checkpoint.CheckpointLoadStatus at 0x7f17b43b2f50>"
      ]
     },
     "execution_count": 68,
     "metadata": {},
     "output_type": "execute_result"
    }
   ],
   "source": [
    "# restoring the latest checkpoint in checkpoint_dir\n",
    "checkpoint.restore(tf.train.latest_checkpoint(checkpoint_dir))"
   ]
  },
  {
   "cell_type": "code",
   "execution_count": 69,
   "id": "dc9db3ec",
   "metadata": {},
   "outputs": [
    {
     "name": "stdout",
     "output_type": "stream",
     "text": [
      "Input: <start> buone anno <end>\n",
      "Predicted translation: good news . <end> \n"
     ]
    },
    {
     "name": "stderr",
     "output_type": "stream",
     "text": [
      "/tmp/ipykernel_4967/956743606.py:9: UserWarning: FixedFormatter should only be used together with FixedLocator\n",
      "  ax.set_xticklabels([''] + sentence, fontdict=fontdict, rotation=90)\n",
      "/tmp/ipykernel_4967/956743606.py:10: UserWarning: FixedFormatter should only be used together with FixedLocator\n",
      "  ax.set_yticklabels([''] + predicted_sentence, fontdict=fontdict)\n"
     ]
    },
    {
     "data": {
      "image/png": "[encoded data removed]",
      "text/plain": [
       "<Figure size 1000x1000 with 1 Axes>"
      ]
     },
     "metadata": {},
     "output_type": "display_data"
    }
   ],
   "source": [
    "translate_att('buone anno')"
   ]
  },
  {
   "cell_type": "code",
   "execution_count": 74,
   "id": "e8595fd0",
   "metadata": {
    "scrolled": true
   },
   "outputs": [
    {
     "name": "stdout",
     "output_type": "stream",
     "text": [
      "Input: <start> lasciate mi cantare <end>\n",
      "Predicted translation: let me singing . <end> \n"
     ]
    },
    {
     "name": "stderr",
     "output_type": "stream",
     "text": [
      "/tmp/ipykernel_4967/956743606.py:9: UserWarning: FixedFormatter should only be used together with FixedLocator\n",
      "  ax.set_xticklabels([''] + sentence, fontdict=fontdict, rotation=90)\n",
      "/tmp/ipykernel_4967/956743606.py:10: UserWarning: FixedFormatter should only be used together with FixedLocator\n",
      "  ax.set_yticklabels([''] + predicted_sentence, fontdict=fontdict)\n"
     ]
    },
    {
     "data": {
      "image/png": "[encoded data removed]",
      "text/plain": [
       "<Figure size 1000x1000 with 1 Axes>"
      ]
     },
     "metadata": {},
     "output_type": "display_data"
    }
   ],
   "source": [
    "translate_att('lasciate mi cantare')"
   ]
  },
  {
   "cell_type": "code",
   "execution_count": null,
   "id": "a6a818ec",
   "metadata": {},
   "outputs": [],
   "source": []
  }
 ],
 "metadata": {
  "kernelspec": {
   "display_name": "Python 3 (ipykernel)",
   "language": "python",
   "name": "python3"
  },
  "language_info": {
   "codemirror_mode": {
    "name": "ipython",
    "version": 3
   },
   "file_extension": ".py",
   "mimetype": "text/x-python",
   "name": "python",
   "nbconvert_exporter": "python",
   "pygments_lexer": "ipython3",
   "version": "3.11.3"
  }
 },
 "nbformat": 4,
 "nbformat_minor": 5
}
