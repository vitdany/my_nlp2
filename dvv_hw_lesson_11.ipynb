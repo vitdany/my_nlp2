{
 "cells": [
  {
   "cell_type": "markdown",
   "id": "723d04b8",
   "metadata": {},
   "source": [
    "Разобраться с моделькой перевода как она устроена (c механизмом внимания), запустить для перевода с русского на английский (при желании можно взять другие пары языков)\n",
    "**внимание классическое** с RNN-ками в энкодере и декодере"
   ]
  },
  {
   "cell_type": "code",
   "execution_count": 1,
   "id": "fae5f118",
   "metadata": {},
   "outputs": [],
   "source": [
    "import tensorflow as tf\n",
    "\n",
    "import matplotlib.pyplot as plt\n",
    "import matplotlib.ticker as ticker\n",
    "from sklearn.model_selection import train_test_split\n",
    "\n",
    "import unicodedata\n",
    "import re\n",
    "import numpy as np\n",
    "import os\n",
    "import io\n",
    "import time"
   ]
  },
  {
   "cell_type": "code",
   "execution_count": 3,
   "id": "aba75df2",
   "metadata": {},
   "outputs": [],
   "source": [
    "#!wget http://www.manythings.org/anki/ita-eng.zip"
   ]
  },
  {
   "cell_type": "code",
   "execution_count": 18,
   "id": "f3025cf2",
   "metadata": {},
   "outputs": [],
   "source": [
    "# Загружаем файл\n",
    "path_to_file = \"./ita-eng/ita.txt\""
   ]
  },
  {
   "cell_type": "code",
   "execution_count": 19,
   "id": "6976d08b",
   "metadata": {},
   "outputs": [],
   "source": [
    "#функция препроцессинга\n",
    "def preprocess_sentence(w):\n",
    "  #переводим предложение к нижнему регистру и удалем начальные и конечные пробелы\n",
    "    w = w.lower().strip()\n",
    "\n",
    "  # отделяем пробелом слово и следующую за ним пунктуацию\n",
    "  # пример: \"he is a boy.\" => \"he is a boy .\"\n",
    "    w = re.sub(r\"([?.!,])\", r\" \\1 \", w)\n",
    "    w = re.sub(r'[\" \"]+', \" \", w)\n",
    "\n",
    "  # все, кроме букв и знаков пунктуации, заменяем пробелом\n",
    "    w = re.sub(r\"[^a-zA-Zа-яА-Я?.!,']+\", \" \", w)\n",
    "  \n",
    "  #удаляем лишние пробелы в начале и конце\n",
    "    w = w.strip()\n",
    "\n",
    "  # создаем начало и конец последовательности\n",
    "  # теперь модель знает, где начинать и заканчивать предсказания\n",
    "    w = '<start> ' + w + ' <end>'\n",
    "    return w"
   ]
  },
  {
   "cell_type": "code",
   "execution_count": 20,
   "id": "d20495e5",
   "metadata": {},
   "outputs": [],
   "source": [
    "# 1. Remove the accents\n",
    "# 2. Clean the sentences\n",
    "# 3. Return word pairs in the format: [ENG, RUS]\n",
    "def create_dataset(path, num_examples):\n",
    "    lines = io.open(path, encoding='UTF-8').read().strip().split('\\n')\n",
    "\n",
    "    word_pairs = [[preprocess_sentence(w) for w in l.split('\\t')[:2]]  for l in lines[:num_examples]]\n",
    "\n",
    "    return zip(*word_pairs)"
   ]
  },
  {
   "cell_type": "code",
   "execution_count": 21,
   "id": "fc057c92",
   "metadata": {
    "scrolled": true
   },
   "outputs": [
    {
     "name": "stdout",
     "output_type": "stream",
     "text": [
      "<start> doubtless there exists in this world precisely the right woman for any given man to marry and vice versa but when you consider that a human being has the opportunity of being acquainted with only a few hundred people , and out of the few hundred that there are but a dozen or less whom he knows intimately , and out of the dozen , one or two friends at most , it will easily be seen , when we remember the number of millions who inhabit this world , that probably , since the earth was created , the right man has never yet met the right woman . <end>\n",
      "<start> senza dubbio esiste in questo mondo proprio la donna giusta per ogni uomo da sposare e viceversa ma se si considera che un essere umano ha l'opportunit di conoscere solo poche centinaia di persone , e fra le poche centinaia che ce ne sono solo una dozzina o meno che conosce intimamente e fra la dozzina , uno o due amici al massimo , si vedr facilmente , quando ricorderemo il numero di milioni che abitano questo mondo , che probabilmente , da quando stata creata la terra , l'uomo giusto non ha mai incontrato la donna giusta . <end>\n"
     ]
    }
   ],
   "source": [
    "en, it = create_dataset(path_to_file, None)\n",
    "print(en[-1])\n",
    "print(it[-1])"
   ]
  },
  {
   "cell_type": "code",
   "execution_count": 22,
   "id": "74d2721e",
   "metadata": {},
   "outputs": [],
   "source": [
    "def tokenize(lang):\n",
    "    lang_tokenizer = tf.keras.preprocessing.text.Tokenizer(\n",
    "      filters='')\n",
    "    lang_tokenizer.fit_on_texts(lang)\n",
    "\n",
    "    tensor = lang_tokenizer.texts_to_sequences(lang)\n",
    "\n",
    "    tensor = tf.keras.preprocessing.sequence.pad_sequences(tensor,\n",
    "                                                         padding='post')\n",
    "\n",
    "    return tensor, lang_tokenizer"
   ]
  },
  {
   "cell_type": "code",
   "execution_count": 23,
   "id": "2a88f757",
   "metadata": {},
   "outputs": [],
   "source": [
    "def load_dataset(path, num_examples=None):\n",
    "    # creating cleaned input, output pairs\n",
    "    targ_lang, inp_lang = create_dataset(path, num_examples)\n",
    "\n",
    "    input_tensor, inp_lang_tokenizer = tokenize(inp_lang)\n",
    "    target_tensor, targ_lang_tokenizer = tokenize(targ_lang)\n",
    "\n",
    "    return input_tensor, target_tensor, inp_lang_tokenizer, targ_lang_tokenizer"
   ]
  },
  {
   "cell_type": "code",
   "execution_count": 24,
   "id": "43ac201b",
   "metadata": {},
   "outputs": [],
   "source": [
    "# Try experimenting with the size of that dataset\n",
    "num_examples = 100000\n",
    "input_tensor, target_tensor, inp_lang, targ_lang = load_dataset(path_to_file, num_examples)\n",
    "\n",
    "# Calculate max_length of the target tensors\n",
    "max_length_targ, max_length_inp = target_tensor.shape[1], input_tensor.shape[1]"
   ]
  },
  {
   "cell_type": "code",
   "execution_count": 25,
   "id": "5af3ef27",
   "metadata": {},
   "outputs": [
    {
     "name": "stdout",
     "output_type": "stream",
     "text": [
      "80000 80000 20000 20000\n"
     ]
    }
   ],
   "source": [
    "# Creating training and validation sets using an 80-20 split\n",
    "input_tensor_train, input_tensor_val, target_tensor_train, target_tensor_val = train_test_split(input_tensor, target_tensor, test_size=0.2)\n",
    "\n",
    "# Show length\n",
    "print(len(input_tensor_train), len(target_tensor_train), len(input_tensor_val), len(target_tensor_val))"
   ]
  },
  {
   "cell_type": "code",
   "execution_count": 26,
   "id": "22f884ad",
   "metadata": {},
   "outputs": [],
   "source": [
    "def convert(lang, tensor):\n",
    "    for t in tensor:\n",
    "        if t!=0:\n",
    "            print (\"%d ----> %s\" % (t, lang.index_word[t]))"
   ]
  },
  {
   "cell_type": "code",
   "execution_count": 50,
   "id": "7f8c1995",
   "metadata": {},
   "outputs": [
    {
     "name": "stdout",
     "output_type": "stream",
     "text": [
      "Input Language; index to word mapping\n",
      "1 ----> <start>\n",
      "15 ----> ho\n",
      "17 ----> una\n",
      "13148 ----> debolezza\n",
      "3 ----> .\n",
      "2 ----> <end>\n",
      "\n",
      "Target Language; index to word mapping\n",
      "1 ----> <start>\n",
      "4 ----> i\n",
      "25 ----> have\n",
      "89 ----> one\n",
      "6049 ----> weakness\n",
      "3 ----> .\n",
      "2 ----> <end>\n"
     ]
    }
   ],
   "source": [
    "print (\"Input Language; index to word mapping\")\n",
    "convert(inp_lang, input_tensor_train[0])\n",
    "print ()\n",
    "print (\"Target Language; index to word mapping\")\n",
    "convert(targ_lang, target_tensor_train[0])"
   ]
  },
  {
   "cell_type": "code",
   "execution_count": 51,
   "id": "14970841",
   "metadata": {},
   "outputs": [],
   "source": [
    "BUFFER_SIZE = len(input_tensor_train)\n",
    "BATCH_SIZE = 64\n",
    "steps_per_epoch = len(input_tensor_train)//BATCH_SIZE\n",
    "embedding_dim = 256\n",
    "units = 1024\n",
    "vocab_inp_size = len(inp_lang.word_index)+1\n",
    "vocab_tar_size = len(targ_lang.word_index)+1\n",
    "\n",
    "dataset = tf.data.Dataset.from_tensor_slices((input_tensor_train, target_tensor_train)).shuffle(BUFFER_SIZE)\n",
    "dataset = dataset.batch(BATCH_SIZE, drop_remainder=True)"
   ]
  },
  {
   "cell_type": "code",
   "execution_count": 52,
   "id": "3e7ebde6",
   "metadata": {},
   "outputs": [
    {
     "data": {
      "text/plain": [
       "(TensorShape([64, 20]), TensorShape([64, 10]))"
      ]
     },
     "execution_count": 52,
     "metadata": {},
     "output_type": "execute_result"
    }
   ],
   "source": [
    "example_input_batch, example_target_batch = next(iter(dataset))\n",
    "example_input_batch.shape, example_target_batch.shape"
   ]
  },
  {
   "cell_type": "code",
   "execution_count": 29,
   "id": "06c9c1dd",
   "metadata": {},
   "outputs": [],
   "source": [
    "class Encoder(tf.keras.Model):\n",
    "    def __init__(self, vocab_size, embedding_dim, enc_units, batch_sz):\n",
    "        super(Encoder, self).__init__()\n",
    "        self.batch_sz = batch_sz\n",
    "        self.enc_units = enc_units\n",
    "        self.embedding = tf.keras.layers.Embedding(vocab_size, embedding_dim)\n",
    "        self.gru = tf.keras.layers.GRU(self.enc_units,\n",
    "                                       return_sequences=True,\n",
    "                                       return_state=True,\n",
    "                                       recurrent_initializer='glorot_uniform')\n",
    "\n",
    "    def call(self, x, hidden):\n",
    "        x = self.embedding(x)\n",
    "        output, state = self.gru(x, initial_state = hidden)\n",
    "        return output, state\n",
    "\n",
    "    def initialize_hidden_state(self):\n",
    "        return tf.zeros((self.batch_sz, self.enc_units))"
   ]
  },
  {
   "cell_type": "code",
   "execution_count": 30,
   "id": "d6444ac3",
   "metadata": {},
   "outputs": [
    {
     "name": "stdout",
     "output_type": "stream",
     "text": [
      "Encoder output shape: (batch size, sequence length, units) (64, 20, 1024)\n",
      "Encoder Hidden state shape: (batch size, units) (64, 1024)\n"
     ]
    }
   ],
   "source": [
    "encoder = Encoder(vocab_inp_size, embedding_dim, units, BATCH_SIZE)\n",
    "\n",
    "# sample input\n",
    "sample_hidden = encoder.initialize_hidden_state()\n",
    "sample_output, sample_hidden = encoder(example_input_batch, sample_hidden)\n",
    "print ('Encoder output shape: (batch size, sequence length, units) {}'.format(sample_output.shape))\n",
    "print ('Encoder Hidden state shape: (batch size, units) {}'.format(sample_hidden.shape))"
   ]
  },
  {
   "cell_type": "code",
   "execution_count": 31,
   "id": "abf198e4",
   "metadata": {},
   "outputs": [],
   "source": [
    "class BahdanauAttention(tf.keras.layers.Layer):\n",
    "    def __init__(self, units):\n",
    "        super(BahdanauAttention, self).__init__()\n",
    "        self.W1 = tf.keras.layers.Dense(units)\n",
    "        self.W2 = tf.keras.layers.Dense(units)\n",
    "        self.V = tf.keras.layers.Dense(1)\n",
    "\n",
    "    def call(self, query, values):\n",
    "        # query hidden state shape == (batch_size, hidden size)\n",
    "        # query_with_time_axis shape == (batch_size, 1, hidden size)\n",
    "        # values shape == (batch_size, max_len, hidden size)\n",
    "        # we are doing this to broadcast addition along the time axis to calculate the score\n",
    "        query_with_time_axis = tf.expand_dims(query, 1)\n",
    "\n",
    "        # score shape == (batch_size, max_length, 1)\n",
    "        # we get 1 at the last axis because we are applying score to self.V\n",
    "        # the shape of the tensor before applying self.V is (batch_size, max_length, units)\n",
    "        score = self.V(tf.nn.tanh(\n",
    "            self.W1(query_with_time_axis) + self.W2(values)))\n",
    "\n",
    "        # attention_weights shape == (batch_size, max_length, 1)\n",
    "        attention_weights = tf.nn.softmax(score, axis=1)\n",
    "\n",
    "        # context_vector shape after sum == (batch_size, hidden_size)\n",
    "        context_vector = attention_weights * values\n",
    "        context_vector = tf.reduce_sum(context_vector, axis=1)\n",
    "\n",
    "        return context_vector, attention_weights"
   ]
  },
  {
   "cell_type": "code",
   "execution_count": 32,
   "id": "b0f4b69a",
   "metadata": {},
   "outputs": [
    {
     "name": "stdout",
     "output_type": "stream",
     "text": [
      "Attention result shape: (batch size, units) (64, 1024)\n",
      "Attention weights shape: (batch_size, sequence_length, 1) (64, 20, 1)\n"
     ]
    }
   ],
   "source": [
    "attention_layer = BahdanauAttention(10)\n",
    "attention_result, attention_weights = attention_layer(sample_hidden, sample_output)\n",
    "\n",
    "print(\"Attention result shape: (batch size, units) {}\".format(attention_result.shape))\n",
    "print(\"Attention weights shape: (batch_size, sequence_length, 1) {}\".format(attention_weights.shape))\n"
   ]
  },
  {
   "cell_type": "code",
   "execution_count": 33,
   "id": "64e8b0cc",
   "metadata": {},
   "outputs": [],
   "source": [
    "class Decoder(tf.keras.Model):\n",
    "    def __init__(self, vocab_size, embedding_dim, dec_units, batch_sz):\n",
    "        super(Decoder, self).__init__()\n",
    "        self.batch_sz = batch_sz\n",
    "        self.dec_units = dec_units\n",
    "        self.embedding = tf.keras.layers.Embedding(vocab_size, embedding_dim)\n",
    "        self.gru = tf.keras.layers.GRU(self.dec_units,\n",
    "                                       return_sequences=True,\n",
    "                                       return_state=True,\n",
    "                                       recurrent_initializer='glorot_uniform')\n",
    "        self.fc = tf.keras.layers.Dense(vocab_size)\n",
    "\n",
    "        # used for attention\n",
    "        self.attention = BahdanauAttention(self.dec_units)\n",
    "\n",
    "    def call(self, x, hidden, enc_output):\n",
    "        # enc_output shape == (batch_size, max_length, hidden_size)\n",
    "        context_vector, attention_weights = self.attention(hidden, enc_output)\n",
    "\n",
    "        # x shape after passing through embedding == (batch_size, 1, embedding_dim)\n",
    "        x = self.embedding(x)\n",
    "\n",
    "        # x shape after concatenation == (batch_size, 1, embedding_dim + hidden_size)\n",
    "        x = tf.concat([tf.expand_dims(context_vector, 1), x], axis=-1)\n",
    "\n",
    "        # passing the concatenated vector to the GRU\n",
    "        output, state = self.gru(x)\n",
    "\n",
    "        # output shape == (batch_size * 1, hidden_size)\n",
    "        output = tf.reshape(output, (-1, output.shape[2]))\n",
    "\n",
    "        # output shape == (batch_size, vocab)\n",
    "        x = self.fc(output)\n",
    "\n",
    "        return x, state, attention_weights"
   ]
  },
  {
   "cell_type": "code",
   "execution_count": 34,
   "id": "9cce3c47",
   "metadata": {},
   "outputs": [
    {
     "name": "stdout",
     "output_type": "stream",
     "text": [
      "Decoder output shape: (batch_size, vocab size) (64, 6374)\n"
     ]
    }
   ],
   "source": [
    "decoder = Decoder(vocab_tar_size, embedding_dim, units, BATCH_SIZE)\n",
    "\n",
    "sample_decoder_output, _, _ = decoder(tf.random.uniform((BATCH_SIZE, 1)),\n",
    "                                      sample_hidden, sample_output)\n",
    "\n",
    "print ('Decoder output shape: (batch_size, vocab size) {}'.format(sample_decoder_output.shape))"
   ]
  },
  {
   "cell_type": "code",
   "execution_count": 53,
   "id": "26703cd8",
   "metadata": {},
   "outputs": [],
   "source": [
    "optimizer = tf.keras.optimizers.Adam()\n",
    "loss_object = tf.keras.losses.SparseCategoricalCrossentropy(\n",
    "    from_logits=True, reduction='none')\n",
    "\n",
    "def loss_function(real, pred):\n",
    "    mask = tf.math.logical_not(tf.math.equal(real, 0))\n",
    "    loss_ = loss_object(real, pred)\n",
    "\n",
    "    mask = tf.cast(mask, dtype=loss_.dtype)\n",
    "    loss_ *= mask\n",
    "\n",
    "    return tf.reduce_mean(loss_)"
   ]
  },
  {
   "cell_type": "code",
   "execution_count": 35,
   "id": "c72f813e",
   "metadata": {},
   "outputs": [],
   "source": [
    "checkpoint_dir = './training_attention_checkpoints'\n",
    "checkpoint_prefix = os.path.join(checkpoint_dir, \"ckpt\")\n",
    "checkpoint = tf.train.Checkpoint(optimizer=optimizer,\n",
    "                                  encoder=encoder,\n",
    "                                  decoder=decoder)"
   ]
  },
  {
   "cell_type": "code",
   "execution_count": 24,
   "id": "5293f61b",
   "metadata": {},
   "outputs": [],
   "source": [
    "@tf.function\n",
    "def train_step(inp, targ, enc_hidden):\n",
    "    loss = 0\n",
    "\n",
    "    with tf.GradientTape() as tape:\n",
    "        enc_output, enc_hidden = encoder(inp, enc_hidden)\n",
    "\n",
    "        dec_hidden = enc_hidden\n",
    "\n",
    "        dec_input = tf.expand_dims([targ_lang.word_index['<start>']] * BATCH_SIZE, 1)\n",
    "\n",
    "        # Teacher forcing - feeding the target as the next input\n",
    "        for t in range(1, targ.shape[1]):\n",
    "          # passing enc_output to the decoder\n",
    "            predictions, dec_hidden, _ = decoder(dec_input, dec_hidden, enc_output)\n",
    "\n",
    "            loss += loss_function(targ[:, t], predictions)\n",
    "\n",
    "            # using teacher forcing\n",
    "            dec_input = tf.expand_dims(targ[:, t], 1)\n",
    "\n",
    "    batch_loss = (loss / int(targ.shape[1]))\n",
    "\n",
    "    variables = encoder.trainable_variables + decoder.trainable_variables\n",
    "\n",
    "    gradients = tape.gradient(loss, variables)\n",
    "\n",
    "    optimizer.apply_gradients(zip(gradients, variables))\n",
    "\n",
    "    return batch_loss"
   ]
  },
  {
   "cell_type": "code",
   "execution_count": 25,
   "id": "6fa34730",
   "metadata": {},
   "outputs": [
    {
     "name": "stdout",
     "output_type": "stream",
     "text": [
      "Epoch 1 Batch 0 Loss 4.7762\n",
      "Epoch 1 Batch 100 Loss 2.2078\n",
      "Epoch 1 Batch 200 Loss 2.0721\n",
      "Epoch 1 Batch 300 Loss 1.9814\n",
      "Epoch 1 Batch 400 Loss 1.7223\n",
      "Epoch 1 Batch 500 Loss 1.8472\n",
      "Epoch 1 Batch 600 Loss 1.5452\n",
      "Epoch 1 Batch 700 Loss 1.3613\n",
      "Epoch 1 Batch 800 Loss 1.3386\n",
      "Epoch 1 Batch 900 Loss 1.2418\n",
      "Epoch 1 Batch 1000 Loss 1.1307\n",
      "Epoch 1 Batch 1100 Loss 1.1002\n",
      "Epoch 1 Batch 1200 Loss 1.1397\n",
      "Epoch 1 Loss 1.5884\n",
      "Time taken for 1 epoch 2811.7737560272217 sec\n",
      "\n",
      "Epoch 2 Batch 0 Loss 0.9227\n",
      "Epoch 2 Batch 100 Loss 0.9699\n",
      "Epoch 2 Batch 200 Loss 0.8487\n",
      "Epoch 2 Batch 300 Loss 0.8700\n",
      "Epoch 2 Batch 400 Loss 0.8219\n",
      "Epoch 2 Batch 500 Loss 0.8747\n",
      "Epoch 2 Batch 600 Loss 0.7096\n",
      "Epoch 2 Batch 700 Loss 0.6700\n",
      "Epoch 2 Batch 800 Loss 0.7514\n",
      "Epoch 2 Batch 900 Loss 0.6152\n",
      "Epoch 2 Batch 1000 Loss 0.5565\n",
      "Epoch 2 Batch 1100 Loss 0.6037\n",
      "Epoch 2 Batch 1200 Loss 0.5506\n",
      "Epoch 2 Loss 0.7373\n",
      "Time taken for 1 epoch 2769.622080564499 sec\n",
      "\n",
      "Epoch 3 Batch 0 Loss 0.3972\n",
      "Epoch 3 Batch 100 Loss 0.4327\n",
      "Epoch 3 Batch 200 Loss 0.3812\n",
      "Epoch 3 Batch 300 Loss 0.3869\n",
      "Epoch 3 Batch 400 Loss 0.3610\n",
      "Epoch 3 Batch 500 Loss 0.4532\n",
      "Epoch 3 Batch 600 Loss 0.3207\n",
      "Epoch 3 Batch 700 Loss 0.3101\n",
      "Epoch 3 Batch 800 Loss 0.3468\n",
      "Epoch 3 Batch 900 Loss 0.3284\n",
      "Epoch 3 Batch 1000 Loss 0.3040\n",
      "Epoch 3 Batch 1100 Loss 0.2717\n",
      "Epoch 3 Batch 1200 Loss 0.3386\n",
      "Epoch 3 Loss 0.3619\n",
      "Time taken for 1 epoch 2761.1624977588654 sec\n",
      "\n",
      "Epoch 4 Batch 0 Loss 0.2081\n",
      "Epoch 4 Batch 100 Loss 0.1672\n",
      "Epoch 4 Batch 200 Loss 0.1946\n",
      "Epoch 4 Batch 300 Loss 0.1769\n",
      "Epoch 4 Batch 400 Loss 0.2195\n",
      "Epoch 4 Batch 500 Loss 0.2430\n",
      "Epoch 4 Batch 600 Loss 0.1811\n",
      "Epoch 4 Batch 700 Loss 0.2137\n",
      "Epoch 4 Batch 800 Loss 0.1630\n",
      "Epoch 4 Batch 900 Loss 0.1871\n",
      "Epoch 4 Batch 1000 Loss 0.2111\n",
      "Epoch 4 Batch 1100 Loss 0.2169\n",
      "Epoch 4 Batch 1200 Loss 0.1935\n",
      "Epoch 4 Loss 0.2024\n",
      "Time taken for 1 epoch 2767.639623403549 sec\n",
      "\n",
      "Epoch 5 Batch 0 Loss 0.1283\n",
      "Epoch 5 Batch 100 Loss 0.1686\n",
      "Epoch 5 Batch 200 Loss 0.1769\n",
      "Epoch 5 Batch 300 Loss 0.1099\n",
      "Epoch 5 Batch 400 Loss 0.1285\n",
      "Epoch 5 Batch 500 Loss 0.1214\n",
      "Epoch 5 Batch 600 Loss 0.1940\n",
      "Epoch 5 Batch 700 Loss 0.1309\n",
      "Epoch 5 Batch 800 Loss 0.1209\n",
      "Epoch 5 Batch 900 Loss 0.1179\n",
      "Epoch 5 Batch 1000 Loss 0.1375\n",
      "Epoch 5 Batch 1100 Loss 0.1418\n",
      "Epoch 5 Batch 1200 Loss 0.1507\n",
      "Epoch 5 Loss 0.1308\n",
      "Time taken for 1 epoch 2761.705899477005 sec\n",
      "\n",
      "Epoch 6 Batch 0 Loss 0.0827\n",
      "Epoch 6 Batch 100 Loss 0.0909\n",
      "Epoch 6 Batch 200 Loss 0.0711\n",
      "Epoch 6 Batch 300 Loss 0.0710\n",
      "Epoch 6 Batch 400 Loss 0.0910\n",
      "Epoch 6 Batch 500 Loss 0.1210\n",
      "Epoch 6 Batch 600 Loss 0.0771\n",
      "Epoch 6 Batch 700 Loss 0.0882\n",
      "Epoch 6 Batch 800 Loss 0.1265\n",
      "Epoch 6 Batch 900 Loss 0.0921\n",
      "Epoch 6 Batch 1000 Loss 0.0744\n",
      "Epoch 6 Batch 1100 Loss 0.1269\n",
      "Epoch 6 Batch 1200 Loss 0.1024\n",
      "Epoch 6 Loss 0.0987\n",
      "Time taken for 1 epoch 2766.9243891239166 sec\n",
      "\n",
      "Epoch 7 Batch 0 Loss 0.0918\n",
      "Epoch 7 Batch 100 Loss 0.0902\n",
      "Epoch 7 Batch 200 Loss 0.0864\n",
      "Epoch 7 Batch 300 Loss 0.0580\n",
      "Epoch 7 Batch 400 Loss 0.0626\n",
      "Epoch 7 Batch 500 Loss 0.0591\n",
      "Epoch 7 Batch 600 Loss 0.0656\n",
      "Epoch 7 Batch 700 Loss 0.0772\n",
      "Epoch 7 Batch 800 Loss 0.0848\n",
      "Epoch 7 Batch 900 Loss 0.0690\n",
      "Epoch 7 Batch 1000 Loss 0.0904\n",
      "Epoch 7 Batch 1100 Loss 0.0990\n",
      "Epoch 7 Batch 1200 Loss 0.1068\n",
      "Epoch 7 Loss 0.0819\n",
      "Time taken for 1 epoch 2760.233072042465 sec\n",
      "\n",
      "Epoch 8 Batch 0 Loss 0.0546\n",
      "Epoch 8 Batch 100 Loss 0.0614\n",
      "Epoch 8 Batch 200 Loss 0.0654\n",
      "Epoch 8 Batch 300 Loss 0.0670\n",
      "Epoch 8 Batch 400 Loss 0.0770\n",
      "Epoch 8 Batch 500 Loss 0.0643\n",
      "Epoch 8 Batch 600 Loss 0.1050\n",
      "Epoch 8 Batch 700 Loss 0.0840\n",
      "Epoch 8 Batch 800 Loss 0.0543\n",
      "Epoch 8 Batch 900 Loss 0.0924\n",
      "Epoch 8 Batch 1000 Loss 0.0701\n",
      "Epoch 8 Batch 1100 Loss 0.0803\n",
      "Epoch 8 Batch 1200 Loss 0.0838\n",
      "Epoch 8 Loss 0.0715\n",
      "Time taken for 1 epoch 2762.5582571029663 sec\n",
      "\n",
      "Epoch 9 Batch 0 Loss 0.0471\n",
      "Epoch 9 Batch 100 Loss 0.0466\n",
      "Epoch 9 Batch 200 Loss 0.0385\n",
      "Epoch 9 Batch 300 Loss 0.0468\n",
      "Epoch 9 Batch 400 Loss 0.0675\n",
      "Epoch 9 Batch 500 Loss 0.0588\n",
      "Epoch 9 Batch 600 Loss 0.0550\n",
      "Epoch 9 Batch 700 Loss 0.0469\n",
      "Epoch 9 Batch 800 Loss 0.0585\n",
      "Epoch 9 Batch 900 Loss 0.0667\n",
      "Epoch 9 Batch 1000 Loss 0.0941\n",
      "Epoch 9 Batch 1100 Loss 0.0891\n",
      "Epoch 9 Batch 1200 Loss 0.0493\n",
      "Epoch 9 Loss 0.0652\n",
      "Time taken for 1 epoch 2781.670891046524 sec\n",
      "\n",
      "Epoch 10 Batch 0 Loss 0.0489\n",
      "Epoch 10 Batch 100 Loss 0.0347\n",
      "Epoch 10 Batch 200 Loss 0.0325\n",
      "Epoch 10 Batch 300 Loss 0.0631\n",
      "Epoch 10 Batch 400 Loss 0.0718\n",
      "Epoch 10 Batch 500 Loss 0.0473\n",
      "Epoch 10 Batch 600 Loss 0.0500\n",
      "Epoch 10 Batch 700 Loss 0.0661\n",
      "Epoch 10 Batch 800 Loss 0.0771\n",
      "Epoch 10 Batch 900 Loss 0.1042\n",
      "Epoch 10 Batch 1000 Loss 0.0604\n",
      "Epoch 10 Batch 1100 Loss 0.0821\n",
      "Epoch 10 Batch 1200 Loss 0.0788\n",
      "Epoch 10 Loss 0.0611\n",
      "Time taken for 1 epoch 2774.942821264267 sec\n",
      "\n"
     ]
    }
   ],
   "source": [
    "EPOCHS = 10\n",
    "\n",
    "for epoch in range(EPOCHS):\n",
    "    start = time.time()\n",
    "\n",
    "    enc_hidden = encoder.initialize_hidden_state()\n",
    "    total_loss = 0\n",
    "\n",
    "    for (batch, (inp, targ)) in enumerate(dataset.take(steps_per_epoch)):\n",
    "        batch_loss = train_step(inp, targ, enc_hidden)\n",
    "        total_loss += batch_loss\n",
    "\n",
    "        if batch % 100 == 0:\n",
    "            print('Epoch {} Batch {} Loss {:.4f}'.format(epoch + 1,\n",
    "                                                       batch,\n",
    "                                                       batch_loss.numpy()))\n",
    "    # saving (checkpoint) the model every 2 epochs\n",
    "    if (epoch + 1) % 2 == 0:\n",
    "        checkpoint.save(file_prefix = checkpoint_prefix)\n",
    "\n",
    "    print('Epoch {} Loss {:.4f}'.format(epoch + 1,\n",
    "                                      total_loss / steps_per_epoch))\n",
    "    print('Time taken for 1 epoch {} sec\\n'.format(time.time() - start))"
   ]
  },
  {
   "cell_type": "code",
   "execution_count": 54,
   "id": "5383b426",
   "metadata": {},
   "outputs": [],
   "source": [
    "def evaluate(sentence):\n",
    "    attention_plot = np.zeros((max_length_targ, max_length_inp))\n",
    "\n",
    "    sentence = preprocess_sentence(sentence)\n",
    "\n",
    "    inputs = [inp_lang.word_index[i] for i in sentence.split(' ')]\n",
    "    inputs = tf.keras.preprocessing.sequence.pad_sequences([inputs],\n",
    "                                                         maxlen=max_length_inp,\n",
    "                                                         padding='post')\n",
    "    inputs = tf.convert_to_tensor(inputs)\n",
    "\n",
    "    result = ''\n",
    "\n",
    "    hidden = [tf.zeros((1, units))]\n",
    "    enc_out, enc_hidden = encoder(inputs, hidden)\n",
    "\n",
    "    dec_hidden = enc_hidden\n",
    "    dec_input = tf.expand_dims([targ_lang.word_index['<start>']], 0)\n",
    "\n",
    "    for t in range(max_length_targ):\n",
    "        predictions, dec_hidden, attention_weights = decoder(dec_input,\n",
    "                                                             dec_hidden,\n",
    "                                                             enc_out)\n",
    "\n",
    "        # storing the attention weights to plot later on\n",
    "        attention_weights = tf.reshape(attention_weights, (-1, ))\n",
    "        attention_plot[t] = attention_weights.numpy()\n",
    "\n",
    "        predicted_id = tf.argmax(predictions[0]).numpy()\n",
    "\n",
    "        result += targ_lang.index_word[predicted_id] + ' '\n",
    "\n",
    "        if targ_lang.index_word[predicted_id] == '<end>':\n",
    "            return result, sentence, attention_plot\n",
    "\n",
    "        # the predicted ID is fed back into the model\n",
    "        dec_input = tf.expand_dims([predicted_id], 0)\n",
    "\n",
    "    return result, sentence, attention_plot"
   ]
  },
  {
   "cell_type": "code",
   "execution_count": 55,
   "id": "9767cb9d",
   "metadata": {},
   "outputs": [],
   "source": [
    "# function for plotting the attention weights\n",
    "def plot_attention(attention, sentence, predicted_sentence):\n",
    "    fig = plt.figure(figsize=(10,10))\n",
    "    ax = fig.add_subplot(1, 1, 1)\n",
    "    ax.matshow(attention, cmap='viridis')\n",
    "\n",
    "    fontdict = {'fontsize': 14}\n",
    "\n",
    "    ax.set_xticklabels([''] + sentence, fontdict=fontdict, rotation=90)\n",
    "    ax.set_yticklabels([''] + predicted_sentence, fontdict=fontdict)\n",
    "\n",
    "    ax.xaxis.set_major_locator(ticker.MultipleLocator(1))\n",
    "    ax.yaxis.set_major_locator(ticker.MultipleLocator(1))\n",
    "\n",
    "    plt.show()"
   ]
  },
  {
   "cell_type": "code",
   "execution_count": 56,
   "id": "94ec12f5",
   "metadata": {},
   "outputs": [],
   "source": [
    "def translate(sentence):\n",
    "    result, sentence, attention_plot = evaluate(sentence)\n",
    "\n",
    "    print('Input: %s' % (sentence))\n",
    "    print('Predicted translation: {}'.format(result))\n",
    "\n",
    "    attention_plot = attention_plot[:len(result.split(' ')), :len(sentence.split(' '))]\n",
    "    plot_attention(attention_plot, sentence.split(' '), result.split(' '))"
   ]
  },
  {
   "cell_type": "code",
   "execution_count": 57,
   "id": "ebf75396",
   "metadata": {},
   "outputs": [
    {
     "data": {
      "text/plain": [
       "<tensorflow.python.checkpoint.checkpoint.CheckpointLoadStatus at 0x1f14aa05c60>"
      ]
     },
     "execution_count": 57,
     "metadata": {},
     "output_type": "execute_result"
    }
   ],
   "source": [
    "checkpoint.restore(tf.train.latest_checkpoint(checkpoint_dir))"
   ]
  },
  {
   "cell_type": "code",
   "execution_count": 58,
   "id": "befde5ff",
   "metadata": {
    "scrolled": false
   },
   "outputs": [
    {
     "name": "stdout",
     "output_type": "stream",
     "text": [
      "Input: <start> lasciate mi cantare . <end>\n",
      "Predicted translation: let me sing . <end> \n"
     ]
    },
    {
     "name": "stderr",
     "output_type": "stream",
     "text": [
      "C:\\Users\\kote\\AppData\\Local\\Temp\\ipykernel_7400\\3110078190.py:9: UserWarning: FixedFormatter should only be used together with FixedLocator\n",
      "  ax.set_xticklabels([''] + sentence, fontdict=fontdict, rotation=90)\n",
      "C:\\Users\\kote\\AppData\\Local\\Temp\\ipykernel_7400\\3110078190.py:10: UserWarning: FixedFormatter should only be used together with FixedLocator\n",
      "  ax.set_yticklabels([''] + predicted_sentence, fontdict=fontdict)\n"
     ]
    },
    {
     "data": {
      "image/png": "[encoded data removed]",
      "text/plain": [
       "<Figure size 1000x1000 with 1 Axes>"
      ]
     },
     "metadata": {},
     "output_type": "display_data"
    }
   ],
   "source": [
    "translate('Lasciate mi cantare.')"
   ]
  },
  {
   "cell_type": "code",
   "execution_count": 71,
   "id": "053f73d2",
   "metadata": {},
   "outputs": [],
   "source": [
    "my_str= \"\"\"Ma se non vogliono, perché dovrei parlare.\"\"\""
   ]
  },
  {
   "cell_type": "code",
   "execution_count": 72,
   "id": "5c8c9723",
   "metadata": {
    "scrolled": true
   },
   "outputs": [
    {
     "name": "stdout",
     "output_type": "stream",
     "text": [
      "Input: <start> ma se non vogliono , perch dovrei parlare . <end>\n",
      "Predicted translation: but i can't need anyone . <end> \n"
     ]
    },
    {
     "name": "stderr",
     "output_type": "stream",
     "text": [
      "C:\\Users\\kote\\AppData\\Local\\Temp\\ipykernel_7400\\3110078190.py:9: UserWarning: FixedFormatter should only be used together with FixedLocator\n",
      "  ax.set_xticklabels([''] + sentence, fontdict=fontdict, rotation=90)\n",
      "C:\\Users\\kote\\AppData\\Local\\Temp\\ipykernel_7400\\3110078190.py:10: UserWarning: FixedFormatter should only be used together with FixedLocator\n",
      "  ax.set_yticklabels([''] + predicted_sentence, fontdict=fontdict)\n"
     ]
    },
    {
     "data": {
      "image/png": "[encoded data removed]",
      "text/plain": [
       "<Figure size 1000x1000 with 1 Axes>"
      ]
     },
     "metadata": {},
     "output_type": "display_data"
    }
   ],
   "source": [
    "translate(my_str)"
   ]
  },
  {
   "cell_type": "code",
   "execution_count": 83,
   "id": "e373a680",
   "metadata": {},
   "outputs": [],
   "source": [
    "my_str=\"Una volta un gatto si mise in testa di diventare ricco.\""
   ]
  },
  {
   "cell_type": "code",
   "execution_count": 84,
   "id": "12536788",
   "metadata": {},
   "outputs": [
    {
     "name": "stdout",
     "output_type": "stream",
     "text": [
      "Input: <start> una volta un gatto si mise in testa di diventare ricco . <end>\n",
      "Predicted translation: a long face man . <end> \n"
     ]
    },
    {
     "name": "stderr",
     "output_type": "stream",
     "text": [
      "C:\\Users\\kote\\AppData\\Local\\Temp\\ipykernel_7400\\3110078190.py:9: UserWarning: FixedFormatter should only be used together with FixedLocator\n",
      "  ax.set_xticklabels([''] + sentence, fontdict=fontdict, rotation=90)\n",
      "C:\\Users\\kote\\AppData\\Local\\Temp\\ipykernel_7400\\3110078190.py:10: UserWarning: FixedFormatter should only be used together with FixedLocator\n",
      "  ax.set_yticklabels([''] + predicted_sentence, fontdict=fontdict)\n"
     ]
    },
    {
     "data": {
      "image/png": "[encoded data removed]",
      "text/plain": [
       "<Figure size 1000x1000 with 1 Axes>"
      ]
     },
     "metadata": {},
     "output_type": "display_data"
    }
   ],
   "source": [
    "translate(my_str)"
   ]
  }
 ],
 "metadata": {
  "kernelspec": {
   "display_name": "Python 3 (ipykernel)",
   "language": "python",
   "name": "python3"
  },
  "language_info": {
   "codemirror_mode": {
    "name": "ipython",
    "version": 3
   },
   "file_extension": ".py",
   "mimetype": "text/x-python",
   "name": "python",
   "nbconvert_exporter": "python",
   "pygments_lexer": "ipython3",
   "version": "3.10.9"
  }
 },
 "nbformat": 4,
 "nbformat_minor": 5
}
