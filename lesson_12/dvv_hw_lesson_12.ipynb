{
 "cells": [
  {
   "cell_type": "markdown",
   "id": "a1474a52",
   "metadata": {},
   "source": [
    "**Задание**\n",
    "Реализовать суммаризацию текста"
   ]
  },
  {
   "cell_type": "code",
   "execution_count": 1,
   "id": "6548327a",
   "metadata": {},
   "outputs": [],
   "source": [
    "!wget -q https://www.dropbox.com/s/43l702z5a5i2w8j/gazeta_train.txt\n",
    "!wget -q https://www.dropbox.com/s/k2egt3sug0hb185/gazeta_val.txt\n",
    "!wget -q https://www.dropbox.com/s/3gki5n5djs9w0v6/gazeta_test.txt"
   ]
  },
  {
   "cell_type": "code",
   "execution_count": 16,
   "id": "e1928fa7",
   "metadata": {
    "scrolled": false
   },
   "outputs": [],
   "source": [
    "# !pip install razdel networkx pymorphy2[fast] nltk rouge==0.3.1 summa lexrank sumy\n",
    "# !pip install --upgrade datasets razdel spacy networkx seaborn scipy tqdm tensorflow-text\n",
    "# !python -m spacy download ru_core_news_md"
   ]
  },
  {
   "cell_type": "code",
   "execution_count": 35,
   "id": "4d02b8c6",
   "metadata": {},
   "outputs": [],
   "source": [
    "import json\n",
    "import random\n",
    "\n",
    "def read_gazeta_records(file_name, shuffle=True, sort_by_date=False):\n",
    "    assert shuffle != sort_by_date\n",
    "    records = []\n",
    "    with open(file_name, \"r\",  encoding='utf-8') as r:\n",
    "        for line in r:\n",
    "            records.append(json.loads(line))\n",
    "    if sort_by_date:\n",
    "        records.sort(key=lambda x: x[\"date\"])\n",
    "    if shuffle:\n",
    "        random.shuffle\n",
    "    return records"
   ]
  },
  {
   "cell_type": "code",
   "execution_count": 11,
   "id": "e1ec53ae",
   "metadata": {},
   "outputs": [],
   "source": [
    "train_records = read_gazeta_records(\"gazeta_train.txt\")\n",
    "val_records = read_gazeta_records(\"gazeta_val.txt\")\n",
    "test_records = read_gazeta_records(\"gazeta_test.txt\")"
   ]
  },
  {
   "cell_type": "code",
   "execution_count": 12,
   "id": "5491805b",
   "metadata": {},
   "outputs": [
    {
     "data": {
      "text/plain": [
       "dict_keys(['url', 'text', 'title', 'summary', 'date'])"
      ]
     },
     "execution_count": 12,
     "metadata": {},
     "output_type": "execute_result"
    }
   ],
   "source": [
    "train_records[1].keys()"
   ]
  },
  {
   "cell_type": "code",
   "execution_count": 13,
   "id": "38e3f539",
   "metadata": {},
   "outputs": [],
   "source": [
    "from collections import Counter, namedtuple\n",
    "import razdel\n",
    "import pymorphy2\n",
    "\n",
    "Stats = namedtuple(\"Stats\", \"vocabulary,lemma_vocabulary,words_counts,unique_words_counts\")\n",
    "\n",
    "def collect_stats(records, lower=True, text_max_words=3000, summary_max_words=100, nrows=1000):\n",
    "    morph = pymorphy2.MorphAnalyzer()\n",
    "    \n",
    "    text_stats = Stats(Counter(),  Counter(), list(), list())\n",
    "    summary_stats = Stats(Counter(),  Counter(), list(), list())\n",
    "\n",
    "    def update_record_field_stats(field, stats, max_words):\n",
    "        words = [word.text for word in razdel.tokenize(field)][:max_words]\n",
    "        lemmas = [morph.parse(word)[0].normal_form for word in words]\n",
    "        stats.vocabulary.update(words)\n",
    "        stats.lemma_vocabulary.update(lemmas)\n",
    "        stats.words_counts.append(len(words))\n",
    "        stats.unique_words_counts.append(len(set(words)))\n",
    "\n",
    "    for i, record in enumerate(records):\n",
    "        if i >= nrows:\n",
    "            break\n",
    "        text = record[\"text\"]\n",
    "        text = text if not lower else text.lower()\n",
    "        update_record_field_stats(text, text_stats, text_max_words)\n",
    "\n",
    "        summary = record[\"summary\"]\n",
    "        summary = summary if not lower else summary.lower()\n",
    "        summary_words = [word.text for word in razdel.tokenize(summary)]\n",
    "        update_record_field_stats(summary, summary_stats, summary_max_words)\n",
    "    return text_stats, summary_stats"
   ]
  },
  {
   "cell_type": "code",
   "execution_count": 14,
   "id": "a507f9c5",
   "metadata": {},
   "outputs": [
    {
     "name": "stdout",
     "output_type": "stream",
     "text": [
      "Train texts vocabulary size:  82978\n",
      "Train texts lemma vocabulary size:  37851\n",
      "Train summaries vocabulary size:  15441\n",
      "Train summaries lemma vocabulary size:  9030\n",
      "Train common lemmas summary vs text:  8652\n"
     ]
    }
   ],
   "source": [
    "train_text_stats, train_summary_stats = collect_stats(train_records)\n",
    "print(\"Train texts vocabulary size: \", len(train_text_stats.vocabulary))\n",
    "print(\"Train texts lemma vocabulary size: \", len(train_text_stats.lemma_vocabulary))\n",
    "print(\"Train summaries vocabulary size: \", len(train_summary_stats.vocabulary))\n",
    "print(\"Train summaries lemma vocabulary size: \", len(train_summary_stats.lemma_vocabulary))\n",
    "print(\"Train common lemmas summary vs text: \", len(set(train_text_stats.lemma_vocabulary.keys()) & set(train_summary_stats.lemma_vocabulary.keys())))"
   ]
  },
  {
   "cell_type": "code",
   "execution_count": 15,
   "id": "84950e38",
   "metadata": {},
   "outputs": [
    {
     "data": {
      "image/png": "[encoded data removed]",
      "text/plain": [
       "<Figure size 2000x500 with 2 Axes>"
      ]
     },
     "metadata": {},
     "output_type": "display_data"
    }
   ],
   "source": [
    "import matplotlib.pyplot as plt\n",
    "\n",
    "fig, axs = plt.subplots(1, 2, figsize=(20, 5))\n",
    "axs[0].hist(train_text_stats.words_counts, 20)\n",
    "axs[0].set_title('# Words in texts')\n",
    "\n",
    "axs[1].hist(train_summary_stats.words_counts, 20)\n",
    "axs[1].set_title('# Words in summary')\n",
    "plt.show()"
   ]
  },
  {
   "cell_type": "code",
   "execution_count": 17,
   "id": "0ca2ad50",
   "metadata": {},
   "outputs": [],
   "source": [
    "from nltk.translate.bleu_score import corpus_bleu\n",
    "from rouge import Rouge\n",
    "\n",
    "def calc_scores(references, predictions, metric=\"all\"):\n",
    "    print(\"Count:\", len(predictions))\n",
    "    print(\"Ref:\", references[-1])\n",
    "    print(\"Hyp:\", predictions[-1])\n",
    "\n",
    "    if metric in (\"bleu\", \"all\"):\n",
    "        print(\"BLEU: \", corpus_bleu([[r] for r in references], predictions))\n",
    "    if metric in (\"rouge\", \"all\"):\n",
    "        rouge = Rouge()\n",
    "        scores = rouge.get_scores(predictions, references, avg=True)\n",
    "        print(\"ROUGE: \", scores)"
   ]
  },
  {
   "cell_type": "code",
   "execution_count": 18,
   "id": "837ef06c",
   "metadata": {
    "scrolled": true
   },
   "outputs": [
    {
     "name": "stdout",
     "output_type": "stream",
     "text": [
      "Count: 1000\n",
      "Ref: телеканал «спас» запускает реалити-шоу «остров», участникам которого предстоит месяц жить и работать в нило-столобенской пустыни на озере селигер. организаторы отметили, что это беспрецедентный подобный проект на телевидении. участникам шоу будет, где поработать — в монастыре работают свечной, молочный и столярный цеха, есть коровник, конюшня, пасека.\n",
      "Hyp: православный телеканал «спас», учредителем которого является московская патриархия, запускает реалити-шоу «остров», участникам которого предстоит месяц жить и работать в нило-столобенской пустыни на озере селигер в тверской области.\n",
      "BLEU:  0.19177311186434495\n",
      "ROUGE:  {'rouge-1': {'f': 0.23804097238957525, 'p': 0.22208274285774904, 'r': 0.37762764047433917}, 'rouge-2': {'f': 0.10027796832321115, 'p': 0.09647636782929753, 'r': 0.15833772153385062}, 'rouge-l': {'f': 0.1835646488408507, 'p': 0.2022959168891477, 'r': 0.34937017731940756}}\n"
     ]
    }
   ],
   "source": [
    "import razdel\n",
    "\n",
    "def calc_lead_n_score(records, n=3, lower=True, nrows=1000):\n",
    "    references = []\n",
    "    predictions = []\n",
    "\n",
    "    for i, record in enumerate(records):\n",
    "        if i >= nrows:\n",
    "            break\n",
    "\n",
    "        summary = record[\"summary\"]\n",
    "        summary = summary if not lower else summary.lower()\n",
    "        references.append(summary)\n",
    "\n",
    "        text = record[\"text\"]\n",
    "        text = text if not lower else text.lower()\n",
    "        sentences = [sentence.text for sentence in razdel.sentenize(text)]\n",
    "        prediction = \" \".join(sentences[:n])\n",
    "        predictions.append(prediction)\n",
    "\n",
    "    calc_scores(references, predictions)\n",
    "\n",
    "calc_lead_n_score(test_records, n=1)"
   ]
  },
  {
   "cell_type": "code",
   "execution_count": 24,
   "id": "da32578c",
   "metadata": {},
   "outputs": [
    {
     "data": {
      "text/plain": [
       "'Американское аэрокосмическое агентство NASA огласило названия четырех космических миссий, которые в скором времени могут быть выбраны для реализации и запуск которых может состояться уже в конце этого десятилетия. Эти четыре проекта стали полуфиналистами конкурса, объявленного среди американских научных команд, в котором участвовало более десяти миссий. Все они были отобраны по критериям потенциальной пользы для науки и технической осуществимости проекта. В рамках программы Discovery NASA занимается планированием миссий, которые призваны дать ответы на фундаментальные вопросы о происхождении тел Солнечной системы и возможному наличию жизни на них. «Эти выбранные миссии могут трансформировать наше восприятие некоторых из наиболее активных и сложных миров в Солнечной системе, — заявил Томас Зурбучен, помощник директора NASA по науке. — Исследование каждого из этих небесных тел поможет раскрыть секреты о том, как они и им подобные объекты образовались в космосе». Каждый проект из выбранных полуфиналистов получит $3 млн на проработку концепции. Из четырех выбранных проектов NASA планирует отобрать две в 2021 году, чтобы профинансировать работу по их реализации в рамках программы Discovery. Два из четырех проектов посвящены исследованию Венеры, куда аппараты NASA не отправлялись уже свыше тридцати лет — с 1989 года, когда к этой планете был запущен зонд Magellan. Миссия VERITAS ( Venus Emissivity, Radio Science, InSAR, Topography, and Spectroscopy) призвана картировать поверхность Венеры для лучшего понимания геологической истории планеты и получения ответа на вопрос о причинах ее кардинальных отличий от Земли. Карта будет построена при помощи радара, установленного на орбитальном аппарате. В ходе миссии планируется узнать, продолжаются ли в наши дни на Венере тектонические и вулканические процессы. Кроме того, планируется картировать поверхность планеты в инфракрасном диапазоне. Миссия DAVINCI+ (Deep Atmosphere Venus Investigation of Noble gases, Chemistry and Imaging Plus) задумана для того, чтобы исследовать состав атмосферы Венеры, понять, как она формировалась и эволюционировала в прошлом, и ответить на вопрос о существовании когда-либо на планете жидкого океана. Сделать это планируется при помощи спускаемого аппарата, который будет проводить измерения от верхних слоев атмосферы до самой поверхности. Научные инструменты аппарата будут размещены внутри герметичного сферического корпуса, который должен защитить их от разрушительного воздействия высокой температуры атмосферы. + в названии миссии говорит о наличии в ее составе камер, которые будут присутствовать на борту орбитального и спускаемого аппаратов. «Проект DAVINCI+ пересекается по целям с российской миссией «Венера-Д», обе нацелены на посадку, поэтому в будущем возможно их совмещение в одном совместном проекте», — сказал «Газете.Ru» основатель проекта «Открытый космос» Виталий Егоров. Миссия TRIDENT должна исследовать Тритон — ледяной спутник Нептуна, известный ученым своей активностью. Данные, полученные американским зондом Voyager 2, показали, что поверхность Тритона активно обновляется. Ученые считают, что Тритон, на котором выпадает «снег» из органических веществ, может оказаться отличной целью для понимания вопросов происхождения аналогичных тел в Солнечной системе. Пролетев мимо Тритона, аппарат попытается картировать его поверхность, изучить активные процессы на его поверхности и определить, есть ли под его поверхностью жидкий океан. Миссия IVO (Io Volcano Observer) должна направиться к одному из самых интересных спутников Юпитера — Ио. Это тело с наиболее мощной вулканической активностью в Солнечной системе, которая поддерживается за счет мощного приливного воздействия со стороны Юпитера. Во время нескольких близких пролетов аппарат выяснит, как формируется лава на поверхности спутника.'"
      ]
     },
     "execution_count": 24,
     "metadata": {},
     "output_type": "execute_result"
    }
   ],
   "source": [
    "test_records[0]['text']"
   ]
  },
  {
   "cell_type": "code",
   "execution_count": 23,
   "id": "f1e679e1",
   "metadata": {},
   "outputs": [
    {
     "data": {
      "text/plain": [
       "'В NASA назвали четыре миссии в дальний космос, которые в этом десятилетии могут быть запущены американцами. Среди них — две миссии по изучению Венеры, полет к спутнику Юпитера и экспедиция к Тритону, спутнику Нептуна.'"
      ]
     },
     "execution_count": 23,
     "metadata": {},
     "output_type": "execute_result"
    }
   ],
   "source": [
    "test_records[0]['summary']"
   ]
  },
  {
   "cell_type": "code",
   "execution_count": 43,
   "id": "12eb47ce",
   "metadata": {},
   "outputs": [
    {
     "name": "stdout",
     "output_type": "stream",
     "text": [
      "['американский', 'аэрокосмический', 'агентство', 'nasa', 'огласить', 'название', 'четыре', 'космический', 'миссия', 'которые', 'скорый', 'время', 'мочь', 'быть', 'выбрать', 'реализация', 'запуск', 'которых', 'мочь', 'состояться', 'конец', 'десятилетие']\n",
      "['американский', 'аэрокосмический', 'агентство', 'nasa', 'огласить', 'название', 'четыре', 'космический', 'миссия', 'которые', 'скорый', 'время', 'мочь', 'быть', 'выбрать', 'реализация', 'запуск', 'которых', 'мочь', 'состояться', 'конец', 'десятилетие', 'четыре', 'проект', 'стать', 'полуфиналист', 'конкурс', 'объявить', 'американский', 'научный', 'команда', 'котором', 'участвовать', 'десять', 'миссия', 'они', 'были', 'отобрать', 'критерий', 'потенциальный', 'польза', 'наука', 'технический', 'осуществимость', 'проект', 'рамка', 'программа', 'discovery', 'nasa', 'заниматься', 'планирование', 'миссия', 'которые', 'призваны', 'дать', 'ответ', 'фундаментальный', 'вопрос', 'происхождение', 'тело', 'солнечный', 'система', 'возможный', 'наличие', 'жизнь', 'них', 'выбрать', 'миссия', 'мочь', 'трансформировать', 'восприятие', 'активный', 'сложный', 'мир', 'солнечный', 'система', 'заявить', 'томас', 'зурбучен', 'помощник', 'директор', 'nasa', 'наука', 'исследование', 'небесный', 'тело', 'помочь', 'раскрыть', 'секрет', 'том', 'они', 'подобный', 'объект', 'образоваться', 'космос', 'проект', 'выбрать', 'полуфиналист', 'получить', 'млн', 'проработка', 'концепция', 'четыре', 'выбрать', 'проект', 'nasa', 'планировать', 'отобрать', 'два', '2021', 'год', 'чтобы', 'профинансировать', 'работа', 'реализация', 'рамка', 'программа', 'discovery', 'два', 'четыре', 'проект', 'посвятить', 'исследование', 'венера', 'аппарат', 'nasa', 'отправляться', 'тридцать', 'год', '1989', 'год', 'планета', 'быть', 'запустить', 'зонд', 'magellan', 'миссия', 'veritas', 'venus', 'emissivity', 'radio', 'science', 'insar', 'topography', 'and', 'spectroscopy', 'призвана', 'картировать', 'поверхность', 'венера', 'хороший', 'понимание', 'геологический', 'история', 'планета', 'получение', 'ответ', 'вопрос', 'причина', 'кардинальный', 'отличие', 'земля', 'карта', 'быть', 'построить', 'помощь', 'радар', 'установить', 'орбитальный', 'аппарат', 'ход', 'миссия', 'планироваться', 'узнать', 'продолжаться', 'день', 'венера', 'тектонический', 'вулканический', 'процесс', 'того', 'планироваться', 'картировать', 'поверхность', 'планета', 'инфракрасный', 'диапазон', 'миссия', 'davinci+', 'deep', 'atmosphere', 'venus', 'investigation', 'noble', 'gases', 'chemistry', 'and', 'imaging', 'plus', 'задумать', 'того', 'чтобы', 'исследовать', 'состав', 'атмосфера', 'венера', 'понять', 'она', 'формироваться', 'эволюционировать', 'прошлое', 'ответить', 'вопрос', 'существование', 'планета', 'жидкий', 'океан', 'сделать', 'это', 'планироваться', 'помощь', 'спускаемого', 'аппарат', 'который', 'быть', 'проводить', 'измерение', 'верхний', 'слой', 'атмосфера', 'самой', 'поверхность', 'научный', 'инструмент', 'аппарат', 'быть', 'разместить', 'герметичный', 'сферический', 'корпус', 'который', 'должный', 'защитить', 'разрушительный', 'воздействие', 'высокий', 'температура', 'атмосфера', 'название', 'миссия', 'говорить', 'наличие', 'состав', 'камера', 'которые', 'быть', 'присутствовать', 'борт', 'орбитальный', 'спускаемого', 'аппарат', 'проект', 'davinci+', 'пересекаться', 'цель', 'российский', 'миссия', 'венера', 'оба', 'нацелить', 'посадка', 'будущее', 'возможный', 'совмещение', 'одном', 'совместный', 'проект', 'сказать', 'газета', 'основатель', 'проект', 'открытый', 'космос', 'виталий', 'егоров', 'миссия', 'trident', 'должный', 'исследовать', 'тритон', 'ледяной', 'спутник', 'нептун', 'известный', 'учёный', 'активность', 'данные', 'получить', 'американский', 'зонд', 'voyager', 'показать', 'что', 'поверхность', 'тритон', 'обновляться', 'учёный', 'считать', 'что', 'тритон', 'котором', 'выпадать', 'снег', 'органический', 'вещество', 'мочь', 'оказаться', 'отличный', 'цель', 'понимание', 'вопрос', 'происхождение', 'аналогичный', 'тело', 'солнечный', 'система', 'пролететь', 'тритон', 'аппарат', 'попытаться', 'картировать', 'поверхность', 'изучить', 'активный', 'процесс', 'поверхность', 'определить', 'быть', 'поверхность', 'жидкий', 'океан', 'миссия', 'ivo', 'volcano', 'observer', 'должный', 'направиться', 'одному', 'самых', 'интересный', 'спутник', 'юпитер', 'тело', 'мощный', 'вулканический', 'активность', 'солнечный', 'система', 'которая', 'поддерживаться', 'счёт', 'мощный', 'приливный', 'воздействие', 'сторона', 'юпитер', 'время', 'несколько', 'близкий', 'пролёт', 'аппарат', 'выяснить', 'формироваться', 'лава', 'поверхность', 'спутник']\n"
     ]
    }
   ],
   "source": [
    "# Делаем предобработку\n",
    "\n",
    "import razdel\n",
    "import spacy\n",
    "\n",
    "# Список частей речи, которые мы не хотим считать значимыми.\n",
    "# Подбирался на глаз.\n",
    "BAD_POS = (\"PREP\", \"NPRO\", \"CONJ\", \"PRCL\", \"NUMR\", \"PRED\", \"INTJ\", \"PUNCT\", \"CCONJ\", \"ADP\", \"DET\", \"ADV\")\n",
    "\n",
    "# Загрузка модели для частеречной разметки.\n",
    "spacy_model = spacy.load(\"ru_core_news_md\")\n",
    "\n",
    "\n",
    "# Метод для разбиения текста на предложения.\n",
    "def sentenize(text):\n",
    "    return [s.text for s in razdel.sentenize(text)]\n",
    "\n",
    "\n",
    "# Метод для токенизации предложения.\n",
    "def tokenize_sentence(sentence):\n",
    "    sentence = sentence.strip().replace(\"\\xa0\", \"\")\n",
    "    tokens = [token.lemma_ for token in spacy_model(sentence) if token.pos_ not in BAD_POS]\n",
    "    tokens = [token for token in tokens if len(token) > 2]\n",
    "    return tokens\n",
    "\n",
    "\n",
    "# Метод для токенизации всего текста.\n",
    "def tokenize_text(text):\n",
    "    all_tokens = []\n",
    "    for sentence in sentenize(text):\n",
    "        all_tokens.extend(tokenize_sentence(sentence))\n",
    "    return all_tokens\n",
    "\n",
    "\n",
    "# Пример работы обоих методов.\n",
    "text = test_records[0][\"text\"]\n",
    "sentences = sentenize(text)\n",
    "print(tokenize_sentence(sentences[0]))\n",
    "print(tokenize_text(text))"
   ]
  },
  {
   "cell_type": "code",
   "execution_count": 117,
   "id": "9d931a25",
   "metadata": {},
   "outputs": [],
   "source": [
    "from collections import Counter\n",
    "\n",
    "class LuhnSummarizer:\n",
    "    \"\"\"\n",
    "    Метод Луна.\n",
    "    Основано на https://github.com/miso-belica/sumy/blob/main/sumy/summarizers/luhn.py\n",
    "    Оригинальная статья: https://courses.ischool.berkeley.edu/i256/f06/papers/luhn58.pdf\n",
    "    \"\"\"\n",
    "    def __init__(\n",
    "        self,\n",
    "        significant_percentage = 0.4, # 40% самых частотных токенов мы считаем значимыми.\n",
    "        min_token_freq = 2, # Кроме того, слова должны встречаться минимум 2 раза.\n",
    "        max_gap_size = 4, # Максимальное количество подряд идущих незначимых токенов в промежутках.\n",
    "        verbose = False # Отладочный вывод для наглядности.\n",
    "    ):\n",
    "        self.significant_percentage = significant_percentage\n",
    "        self.min_token_freq = min_token_freq\n",
    "        self.max_gap_size = max_gap_size\n",
    "        self.chunk_ending_mask = [0] * self.max_gap_size\n",
    "        self.verbose = verbose\n",
    "\n",
    "    def __call__(self, text, target_sentences_count):\n",
    "        # Считаем значимые токены.\n",
    "        all_significant_tokens = self._get_significant_tokens(text)\n",
    "        if self.verbose:\n",
    "            print(\"Значимые токены: \", all_significant_tokens)\n",
    "\n",
    "        # Считаем значимости предложений.\n",
    "        ratings = []\n",
    "        for sentence_index, sentence in enumerate(sentenize(text)):\n",
    "            #print(sentence)\n",
    "            # Значимость предложений - максимум из значимостей промежутков.\n",
    "            \n",
    "            chunks = self._get_chunk_ratings(sentence, all_significant_tokens)\n",
    "            if len(chunks) == 0:\n",
    "                sentence_rating = 0\n",
    "            else: \n",
    "                sentence_rating = max(self._get_chunk_ratings(sentence, all_significant_tokens))\n",
    "            if self.verbose:\n",
    "                print(\"\\tПРЕДЛОЖЕНИЕ. Значимость: {}, текст: {}\".format(sentence_rating, sentence))\n",
    "            ratings.append((sentence_rating, sentence_index))\n",
    "            #print('ok')\n",
    "\n",
    "        # Сортируем предложения по значимости.\n",
    "        ratings.sort(reverse=True)\n",
    "\n",
    "        # Оставляем топовые и собираем реферат.\n",
    "        ratings = ratings[:target_sentences_count]\n",
    "        indices = [index for _, index in ratings]\n",
    "        indices.sort()\n",
    "        return \" \".join([sentences[index] for index in indices])\n",
    "\n",
    "    def _get_significant_tokens(self, text):\n",
    "        \"\"\" Метод для подсчёта того, какие токены являются значимыми. \"\"\"\n",
    "        tokens_counter = Counter(tokenize_text(text))\n",
    "        significant_tokens_max_count = int(len(tokens_counter) * self.significant_percentage)\n",
    "        significant_tokens = tokens_counter.most_common(significant_tokens_max_count)\n",
    "        significant_tokens = {token for token, cnt in significant_tokens if cnt >= self.min_token_freq}\n",
    "        return significant_tokens\n",
    "\n",
    "    def _get_chunk_ratings(self, sentence, significant_tokens):\n",
    "        \"\"\" Разбиваем предложение на промежтуки и считаем их значимости. \"\"\"\n",
    "\n",
    "        tokens = tokenize_sentence(sentence)\n",
    "\n",
    "        chunks, masks = [], []\n",
    "        in_chunk = False\n",
    "        for token in tokens:\n",
    "            is_significant_token = token in significant_tokens\n",
    "            \n",
    "            if is_significant_token and not in_chunk:\n",
    "                in_chunk = True\n",
    "                masks.append([int(is_significant_token)])\n",
    "                chunks.append([token])\n",
    "            elif in_chunk:\n",
    "                last_mask = masks[-1]\n",
    "                last_mask.append(int(is_significant_token))\n",
    "                last_chunk = chunks[-1]\n",
    "                last_chunk.append(token)\n",
    "            if not chunks:\n",
    "                continue\n",
    "\n",
    "            # Проверяем на наличие 4 подряд идущих незначимых токенов.\n",
    "            # Если встретили - завершаем промежуток.\n",
    "            last_chunk_ending_mask = masks[-1][-self.max_gap_size:]\n",
    "            if last_chunk_ending_mask == self.chunk_ending_mask:\n",
    "                in_chunk = False\n",
    "        \n",
    "        ratings = []\n",
    "        for chunk, mask in zip(chunks, masks):\n",
    "            rating = self._get_chunk_rating(mask, chunk)\n",
    "            ratings.append(rating)\n",
    "        return ratings\n",
    "\n",
    "    def _get_chunk_rating(self, original_mask, chunk): \n",
    "        \"\"\" Подсчёт значимости одного промежутка \"\"\"\n",
    "\n",
    "        # Убираем незначимые токены в конце промежутка\n",
    "        original_mask = \"\".join(map(str, original_mask))\n",
    "        mask = original_mask.rstrip(\"0\")\n",
    "\n",
    "        end_index = original_mask.rfind(\"1\") + 1\n",
    "        chunk = chunk[:end_index]\n",
    "        assert len(mask) == len(chunk)\n",
    "        chunk = \" \".join(chunk)\n",
    "\n",
    "        # Считаем значимость\n",
    "        words_count = len(mask)\n",
    "        assert words_count > 0\n",
    "        significant_words_count = mask.count(\"1\")\n",
    "        assert significant_words_count > 0\n",
    "\n",
    "        rating = significant_words_count * significant_words_count / words_count\n",
    "        if self.verbose:\n",
    "            print(\"ПРОМЕЖУТОК. Значимость: {}, маска: {}, текст: {}\".format(rating, mask, chunk))\n",
    "        return rating"
   ]
  },
  {
   "cell_type": "code",
   "execution_count": 118,
   "id": "3bdabd9e",
   "metadata": {},
   "outputs": [
    {
     "name": "stdout",
     "output_type": "stream",
     "text": [
      "\n",
      "Текст: Американское аэрокосмическое агентство NASA огласило названия четырех космических миссий, которые в скором времени могут быть выбраны для реализации и запуск которых может состояться уже в конце этого десятилетия. Эти четыре проекта стали полуфиналистами конкурса, объявленного среди американских научных команд, в котором участвовало более десяти миссий. Все они были отобраны по критериям потенциальной пользы для науки и технической осуществимости проекта. В рамках программы Discovery NASA занимается планированием миссий, которые призваны дать ответы на фундаментальные вопросы о происхождении тел Солнечной системы и возможному наличию жизни на них. «Эти выбранные миссии могут трансформировать наше восприятие некоторых из наиболее активных и сложных миров в Солнечной системе, — заявил Томас Зурбучен, помощник директора NASA по науке. — Исследование каждого из этих небесных тел поможет раскрыть секреты о том, как они и им подобные объекты образовались в космосе». Каждый проект из выбранных полуфиналистов получит $3 млн на проработку концепции. Из четырех выбранных проектов NASA планирует отобрать две в 2021 году, чтобы профинансировать работу по их реализации в рамках программы Discovery. Два из четырех проектов посвящены исследованию Венеры, куда аппараты NASA не отправлялись уже свыше тридцати лет — с 1989 года, когда к этой планете был запущен зонд Magellan. Миссия VERITAS ( Venus Emissivity, Radio Science, InSAR, Topography, and Spectroscopy) призвана картировать поверхность Венеры для лучшего понимания геологической истории планеты и получения ответа на вопрос о причинах ее кардинальных отличий от Земли. Карта будет построена при помощи радара, установленного на орбитальном аппарате. В ходе миссии планируется узнать, продолжаются ли в наши дни на Венере тектонические и вулканические процессы. Кроме того, планируется картировать поверхность планеты в инфракрасном диапазоне. Миссия DAVINCI+ (Deep Atmosphere Venus Investigation of Noble gases, Chemistry and Imaging Plus) задумана для того, чтобы исследовать состав атмосферы Венеры, понять, как она формировалась и эволюционировала в прошлом, и ответить на вопрос о существовании когда-либо на планете жидкого океана. Сделать это планируется при помощи спускаемого аппарата, который будет проводить измерения от верхних слоев атмосферы до самой поверхности. Научные инструменты аппарата будут размещены внутри герметичного сферического корпуса, который должен защитить их от разрушительного воздействия высокой температуры атмосферы. + в названии миссии говорит о наличии в ее составе камер, которые будут присутствовать на борту орбитального и спускаемого аппаратов. «Проект DAVINCI+ пересекается по целям с российской миссией «Венера-Д», обе нацелены на посадку, поэтому в будущем возможно их совмещение в одном совместном проекте», — сказал «Газете.Ru» основатель проекта «Открытый космос» Виталий Егоров. Миссия TRIDENT должна исследовать Тритон — ледяной спутник Нептуна, известный ученым своей активностью. Данные, полученные американским зондом Voyager 2, показали, что поверхность Тритона активно обновляется. Ученые считают, что Тритон, на котором выпадает «снег» из органических веществ, может оказаться отличной целью для понимания вопросов происхождения аналогичных тел в Солнечной системе. Пролетев мимо Тритона, аппарат попытается картировать его поверхность, изучить активные процессы на его поверхности и определить, есть ли под его поверхностью жидкий океан. Миссия IVO (Io Volcano Observer) должна направиться к одному из самых интересных спутников Юпитера — Ио. Это тело с наиболее мощной вулканической активностью в Солнечной системе, которая поддерживается за счет мощного приливного воздействия со стороны Юпитера. Во время нескольких близких пролетов аппарат выяснит, как формируется лава на поверхности спутника.\n",
      "Итоговый реферат: В рамках программы Discovery NASA занимается планированием миссий, которые призваны дать ответы на фундаментальные вопросы о происхождении тел Солнечной системы и возможному наличию жизни на них. Из четырех выбранных проектов NASA планирует отобрать две в 2021 году, чтобы профинансировать работу по их реализации в рамках программы Discovery. Пролетев мимо Тритона, аппарат попытается картировать его поверхность, изучить активные процессы на его поверхности и определить, есть ли под его поверхностью жидкий океан.\n",
      "Правильный реферат: В NASA назвали четыре миссии в дальний космос, которые в этом десятилетии могут быть запущены американцами. Среди них — две миссии по изучению Венеры, полет к спутнику Юпитера и экспедиция к Тритону, спутнику Нептуна.\n"
     ]
    }
   ],
   "source": [
    "luhn = LuhnSummarizer(verbose=False)\n",
    "summary = luhn(text, 3)\n",
    "print()\n",
    "print(\"Текст: {}\".format(test_records[0][\"text\"]))\n",
    "print(\"Итоговый реферат: {}\".format(summary))\n",
    "print(\"Правильный реферат: {}\".format(test_records[0][\"summary\"]))"
   ]
  },
  {
   "cell_type": "code",
   "execution_count": 119,
   "id": "2c9f809e",
   "metadata": {},
   "outputs": [],
   "source": [
    "lev_records = read_gazeta_records(\"lev.txt\")"
   ]
  },
  {
   "cell_type": "code",
   "execution_count": 120,
   "id": "f5173903",
   "metadata": {},
   "outputs": [],
   "source": [
    "# Пример работы обоих методов.\n",
    "lev_text = lev_records[0][\"text\"]"
   ]
  },
  {
   "cell_type": "code",
   "execution_count": 122,
   "id": "399f833f",
   "metadata": {},
   "outputs": [
    {
     "name": "stdout",
     "output_type": "stream",
     "text": [
      "\n",
      "Текст: В середине разговора про политические действия Анна Павловна разгорячилась. Ах, не говорите мне про Австрию! Я ничего не понимаю, может быть, но Австрия никогда не хотела и не хочет войны. Она предает нас. Россия одна должна быть спасительницей Европы. Наш благодетель знает свое высокое призвание и будет верен ему. Вот одно, во что я верю. Нашему доброму и чудному государю предстоит величайшая роль в мире, и он так добродетелен и хорош, что Бог не оставит его, и он исполнит свое призвание задавить гидру революции, которая теперь еще ужаснее в лице этого убийцы и злодея. Мы одни должны искупить кровь праведника. На кого нам надеяться, я вас спрашиваю. Англия с своим коммерческим духом не поймет и не может понять всю высоту души императора Александра. Она отказалась очистить Мальту. Она хочет видеть, ищет заднюю мысль наших действий. Что они сказали Новосильцеву? Ничего. Они не поняли, они не могли понять самоотвержения нашего императора, который ничего не хочет для себя и все хочет для блага мира. И что они обещали? Ничего. И что обещали, и того не будет! Пруссия уже объявила, что Бонапарте непобедим и что вся Европа ничего не может против него. И я не верю ни в одном слове ни Гарденбергу, ни Гаугвицу. Cette fameuse neutralit  prussienne, ce n'est qu'un pi ge 9. Я верю в одного Бога и в высокую судьбу нашего милого императора. Он спасет Европу! Она вдруг остановилась с улыбкой насмешки над своею горячностью.\n",
      "Итоговый реферат: Все они были отобраны по критериям потенциальной пользы для науки и технической осуществимости проекта. Научные инструменты аппарата будут размещены внутри герметичного сферического корпуса, который должен защитить их от разрушительного воздействия высокой температуры атмосферы. Данные, полученные американским зондом Voyager 2, показали, что поверхность Тритона активно обновляется.\n",
      "Правильный реферат: Анна Павловна сказала, что Австрия предает Россию. Англия не понимает Россию. Пруссия объявила о непобедимости Наполеона. Александр спасет Европу.\n"
     ]
    }
   ],
   "source": [
    "#luhn = LuhnSummarizer(verbose=False)\n",
    "summary = luhn(lev_text, 3)\n",
    "print()\n",
    "print(\"Текст: {}\".format(lev_records[0][\"text\"]))\n",
    "print(\"Итоговый реферат: {}\".format(summary))\n",
    "print(\"Правильный реферат: {}\".format(lev_records[0][\"summary\"]))"
   ]
  },
  {
   "cell_type": "code",
   "execution_count": 125,
   "id": "fb3cb62f",
   "metadata": {},
   "outputs": [],
   "source": [
    "import pandas as pd"
   ]
  },
  {
   "cell_type": "code",
   "execution_count": 126,
   "id": "4c6c29e0",
   "metadata": {},
   "outputs": [],
   "source": [
    "df_train = pd.DataFrame(train_records)"
   ]
  },
  {
   "cell_type": "code",
   "execution_count": 127,
   "id": "8c1e87a5",
   "metadata": {},
   "outputs": [
    {
     "data": {
      "text/html": [
       "<div>\n",
       "<style scoped>\n",
       "    .dataframe tbody tr th:only-of-type {\n",
       "        vertical-align: middle;\n",
       "    }\n",
       "\n",
       "    .dataframe tbody tr th {\n",
       "        vertical-align: top;\n",
       "    }\n",
       "\n",
       "    .dataframe thead th {\n",
       "        text-align: right;\n",
       "    }\n",
       "</style>\n",
       "<table border=\"1\" class=\"dataframe\">\n",
       "  <thead>\n",
       "    <tr style=\"text-align: right;\">\n",
       "      <th></th>\n",
       "      <th>url</th>\n",
       "      <th>text</th>\n",
       "      <th>title</th>\n",
       "      <th>summary</th>\n",
       "      <th>date</th>\n",
       "    </tr>\n",
       "  </thead>\n",
       "  <tbody>\n",
       "    <tr>\n",
       "      <th>0</th>\n",
       "      <td>https://www.gazeta.ru/science/2020/02/14_a_129...</td>\n",
       "      <td>Американское аэрокосмическое агентство NASA ог...</td>\n",
       "      <td>Венера, Ио или Тритон: куда полетит NASA</td>\n",
       "      <td>В NASA назвали четыре миссии в дальний космос,...</td>\n",
       "      <td>2020-02-14 16:39:11</td>\n",
       "    </tr>\n",
       "    <tr>\n",
       "      <th>1</th>\n",
       "      <td>https://www.gazeta.ru/social/2020/02/28/129806...</td>\n",
       "      <td>Около 11 тысяч зрителей увидели все самое лучш...</td>\n",
       "      <td>«Люди в Бурятии очень талантливые»</td>\n",
       "      <td>25 и 26 февраля в Кремлевском дворце съездов п...</td>\n",
       "      <td>2020-02-28 10:44:13</td>\n",
       "    </tr>\n",
       "    <tr>\n",
       "      <th>2</th>\n",
       "      <td>https://www.gazeta.ru/politics/2019/11/07_a_12...</td>\n",
       "      <td>7 ноября в Белоруссии прошли выборы членов сов...</td>\n",
       "      <td>Вспомнить СССР: как Лукашенко провел выборы</td>\n",
       "      <td>В Белоруссии в день годовщины Октябрьской рево...</td>\n",
       "      <td>2019-11-07 19:55:08</td>\n",
       "    </tr>\n",
       "  </tbody>\n",
       "</table>\n",
       "</div>"
      ],
      "text/plain": [
       "                                                 url  \\\n",
       "0  https://www.gazeta.ru/science/2020/02/14_a_129...   \n",
       "1  https://www.gazeta.ru/social/2020/02/28/129806...   \n",
       "2  https://www.gazeta.ru/politics/2019/11/07_a_12...   \n",
       "\n",
       "                                                text  \\\n",
       "0  Американское аэрокосмическое агентство NASA ог...   \n",
       "1  Около 11 тысяч зрителей увидели все самое лучш...   \n",
       "2  7 ноября в Белоруссии прошли выборы членов сов...   \n",
       "\n",
       "                                         title  \\\n",
       "0     Венера, Ио или Тритон: куда полетит NASA   \n",
       "1           «Люди в Бурятии очень талантливые»   \n",
       "2  Вспомнить СССР: как Лукашенко провел выборы   \n",
       "\n",
       "                                             summary                 date  \n",
       "0  В NASA назвали четыре миссии в дальний космос,...  2020-02-14 16:39:11  \n",
       "1  25 и 26 февраля в Кремлевском дворце съездов п...  2020-02-28 10:44:13  \n",
       "2  В Белоруссии в день годовщины Октябрьской рево...  2019-11-07 19:55:08  "
      ]
     },
     "execution_count": 127,
     "metadata": {},
     "output_type": "execute_result"
    }
   ],
   "source": [
    "df_test = pd.DataFrame(test_records)\n",
    "df_test[:3]"
   ]
  },
  {
   "cell_type": "code",
   "execution_count": 128,
   "id": "0d916161",
   "metadata": {
    "scrolled": true
   },
   "outputs": [
    {
     "data": {
      "text/plain": [
       "0    BOS В 2011 году из России уйдет $80 млрд, счит...\n",
       "1    BOS Юлия Соловьева, экс-директор холдинга «Про...\n",
       "2    BOS Суд арестовал на два месяца четверых экс-ч...\n",
       "3    BOS Мнения предпринимателей по поводу вступлен...\n",
       "4    BOS На Первом канале завершился третий сезон ш...\n",
       "Name: summary_clean, dtype: object"
      ]
     },
     "execution_count": 128,
     "metadata": {},
     "output_type": "execute_result"
    }
   ],
   "source": [
    "df_train['summary_clean'] = df_train['summary'].apply(lambda v: 'BOS ' + v + ' EOS')\n",
    "df_test['summary_clean'] = df_test['summary'].apply(lambda v: 'BOS ' + v + ' EOS')\n",
    "df_train['summary_clean'][:5]"
   ]
  },
  {
   "cell_type": "code",
   "execution_count": 129,
   "id": "dcb5aa03",
   "metadata": {},
   "outputs": [],
   "source": [
    "MAX_TRAIN_SAMPLE = 1000\n",
    "MAX_TEST_SAMPLE = 200\n",
    "\n",
    "df_train = df_train[:MAX_TRAIN_SAMPLE]\n",
    "df_test = df_test[:MAX_TEST_SAMPLE]"
   ]
  },
  {
   "cell_type": "code",
   "execution_count": 130,
   "id": "10043920",
   "metadata": {},
   "outputs": [],
   "source": [
    "import tensorflow as tf\n",
    "\n",
    "from tensorflow.keras.preprocessing.text import Tokenizer\n",
    "from tensorflow.keras.preprocessing.text import text_to_word_sequence\n",
    "from tensorflow.keras.preprocessing.sequence import pad_sequences"
   ]
  },
  {
   "cell_type": "code",
   "execution_count": 131,
   "id": "56e668c0",
   "metadata": {},
   "outputs": [],
   "source": [
    "max_len_text = 700\n",
    "max_len_sum = 70"
   ]
  },
  {
   "cell_type": "code",
   "execution_count": 132,
   "id": "c5c2e439",
   "metadata": {},
   "outputs": [],
   "source": [
    "#tok_text = Tokenizer(oov_token='UNK')\n",
    "tok_text = Tokenizer()\n",
    "tok_text.fit_on_texts(df_train['text'])\n",
    "x_train_tok = tok_text.texts_to_sequences(df_train['text'])\n",
    "x_test_tok = tok_text.texts_to_sequences(df_test['text'])"
   ]
  },
  {
   "cell_type": "code",
   "execution_count": 133,
   "id": "bcb99a67",
   "metadata": {},
   "outputs": [],
   "source": [
    "text_vocab_size=len(tok_text.word_index)+1\n",
    "\n",
    "padded_x_train = pad_sequences(x_train_tok, maxlen=max_len_text, padding='post', truncating='post')\n",
    "padded_x_test = pad_sequences(x_test_tok, maxlen=max_len_text, padding='post', truncating='post')"
   ]
  },
  {
   "cell_type": "code",
   "execution_count": 134,
   "id": "b8215bd0",
   "metadata": {},
   "outputs": [],
   "source": [
    "#tok_sum = Tokenizer(oov_token='UNK')\n",
    "tok_sum = Tokenizer()\n",
    "tok_sum.fit_on_texts(df_train['summary_clean'])\n",
    "x_train_sum = tok_sum.texts_to_sequences(df_train['summary_clean'])\n",
    "x_test_sum = tok_sum.texts_to_sequences(df_test['summary_clean'])\n",
    "\n",
    "sum_vocab_size=len(tok_sum.word_index)+1\n",
    "\n",
    "padded_x_train_sum = pad_sequences(x_train_sum, maxlen=max_len_sum, padding='post', truncating='post')\n",
    "padded_x_test_sum = pad_sequences(x_test_sum, maxlen=max_len_sum, padding='post', truncating='post')"
   ]
  },
  {
   "cell_type": "code",
   "execution_count": 135,
   "id": "1f4c9655",
   "metadata": {},
   "outputs": [
    {
     "data": {
      "text/plain": [
       "(1000, 70)"
      ]
     },
     "execution_count": 135,
     "metadata": {},
     "output_type": "execute_result"
    }
   ],
   "source": [
    "padded_x_train_sum.shape"
   ]
  },
  {
   "cell_type": "code",
   "execution_count": 136,
   "id": "48c0ce6e",
   "metadata": {},
   "outputs": [],
   "source": [
    "reverse_text_index=tok_text.index_word\n",
    "reverse_sum_index=tok_sum.index_word\n",
    "sum_wordindex=tok_sum.word_index"
   ]
  },
  {
   "cell_type": "code",
   "execution_count": 137,
   "id": "afc357a9",
   "metadata": {},
   "outputs": [],
   "source": [
    "from tensorflow.keras.layers import Input, LSTM, GRU, Embedding, TimeDistributed, Softmax, Dense, RepeatVector, Concatenate, Dense\n",
    "from tensorflow.keras.models import Model"
   ]
  },
  {
   "cell_type": "code",
   "execution_count": 138,
   "id": "9adcb044",
   "metadata": {},
   "outputs": [
    {
     "name": "stdout",
     "output_type": "stream",
     "text": [
      "Model: \"model\"\n",
      "__________________________________________________________________________________________________\n",
      " Layer (type)                   Output Shape         Param #     Connected to                     \n",
      "==================================================================================================\n",
      " input_1 (InputLayer)           [(None, 700)]        0           []                               \n",
      "                                                                                                  \n",
      " embedding (Embedding)          (None, 700, 200)     17664000    ['input_1[0][0]']                \n",
      "                                                                                                  \n",
      " lstm (LSTM)                    [(None, 700, 300),   601200      ['embedding[0][0]']              \n",
      "                                 (None, 300),                                                     \n",
      "                                 (None, 300)]                                                     \n",
      "                                                                                                  \n",
      " input_2 (InputLayer)           [(None, None)]       0           []                               \n",
      "                                                                                                  \n",
      " lstm_1 (LSTM)                  [(None, 700, 300),   721200      ['lstm[0][0]']                   \n",
      "                                 (None, 300),                                                     \n",
      "                                 (None, 300)]                                                     \n",
      "                                                                                                  \n",
      " embedding_1 (Embedding)        (None, None, 200)    3126000     ['input_2[0][0]']                \n",
      "                                                                                                  \n",
      " lstm_2 (LSTM)                  [(None, 700, 300),   721200      ['lstm_1[0][0]']                 \n",
      "                                 (None, 300),                                                     \n",
      "                                 (None, 300)]                                                     \n",
      "                                                                                                  \n",
      " lstm_3 (LSTM)                  [(None, None, 300),  601200      ['embedding_1[0][0]',            \n",
      "                                 (None, 300),                     'lstm_2[0][1]',                 \n",
      "                                 (None, 300)]                     'lstm_2[0][2]']                 \n",
      "                                                                                                  \n",
      " time_distributed (TimeDistribu  (None, None, 15630)  4704630    ['lstm_3[0][0]']                 \n",
      " ted)                                                                                             \n",
      "                                                                                                  \n",
      "==================================================================================================\n",
      "Total params: 28,139,430\n",
      "Trainable params: 28,139,430\n",
      "Non-trainable params: 0\n",
      "__________________________________________________________________________________________________\n"
     ]
    }
   ],
   "source": [
    "latent_dim = 300\n",
    "embedding_dim=200\n",
    "\n",
    "# Encoder\n",
    "encoder_inputs = Input(shape=(max_len_text,))\n",
    "\n",
    "#embedding layer\n",
    "enc_emb =  Embedding(text_vocab_size, embedding_dim, trainable=True)(encoder_inputs)\n",
    "\n",
    "#encoder lstm 1\n",
    "encoder_lstm1 = LSTM(latent_dim, return_sequences=True, return_state=True, dropout=0.4, recurrent_dropout=0.4)\n",
    "encoder_output1, state_h1, state_c1 = encoder_lstm1(enc_emb)\n",
    "\n",
    "#encoder lstm 2\n",
    "encoder_lstm2 = LSTM(latent_dim, return_sequences=True,return_state=True,dropout=0.4, recurrent_dropout=0.4)\n",
    "encoder_output2, state_h2, state_c2 = encoder_lstm2(encoder_output1)\n",
    "\n",
    "#encoder lstm 3\n",
    "encoder_lstm3=LSTM(latent_dim, return_state=True, return_sequences=True,dropout=0.4,recurrent_dropout=0.4)\n",
    "encoder_outputs, state_h, state_c= encoder_lstm3(encoder_output2) #encoder_lstm3(encoder_output2)\n",
    "\n",
    "# Set up the decoder, using `encoder_states` as initial state.\n",
    "decoder_inputs = Input(shape=(None,))\n",
    "\n",
    "#embedding layer\n",
    "dec_emb_layer = Embedding(sum_vocab_size, embedding_dim, trainable=True)\n",
    "dec_emb = dec_emb_layer(decoder_inputs)\n",
    "\n",
    "decoder_lstm = LSTM(latent_dim, return_sequences=True, return_state=True,dropout=0.4,recurrent_dropout=0.2)\n",
    "decoder_outputs, decoder_fwd_state, decoder_back_state = decoder_lstm(dec_emb, initial_state=[state_h, state_c])\n",
    "\n",
    "#dense layer\n",
    "decoder_dense =  TimeDistributed(Dense(sum_vocab_size, activation='softmax'))\n",
    "decoder_outputs = decoder_dense(decoder_outputs)\n",
    "\n",
    "# Define the model \n",
    "model = Model([encoder_inputs, decoder_inputs], decoder_outputs)\n",
    "\n",
    "model.summary()\n"
   ]
  },
  {
   "cell_type": "code",
   "execution_count": 139,
   "id": "069cc37d",
   "metadata": {},
   "outputs": [],
   "source": [
    "optimizer = tf.keras.optimizers.Adam(learning_rate=0.0005)"
   ]
  },
  {
   "cell_type": "code",
   "execution_count": 140,
   "id": "0bdb0a1c",
   "metadata": {},
   "outputs": [],
   "source": [
    "model.compile(optimizer='Adam',loss='sparse_categorical_crossentropy', metrics=['accuracy'])"
   ]
  },
  {
   "cell_type": "code",
   "execution_count": 141,
   "id": "95c1a040",
   "metadata": {},
   "outputs": [
    {
     "name": "stdout",
     "output_type": "stream",
     "text": [
      "Epoch 1/3\n",
      "63/63 [==============================] - 1726s 27s/step - loss: 6.6732 - accuracy: 0.3770 - val_loss: 4.2885 - val_accuracy: 0.4946\n",
      "Epoch 2/3\n",
      "63/63 [==============================] - 1768s 28s/step - loss: 5.3491 - accuracy: 0.3963 - val_loss: 3.8978 - val_accuracy: 0.5250\n",
      "Epoch 3/3\n",
      "63/63 [==============================] - 1787s 28s/step - loss: 5.1114 - accuracy: 0.4100 - val_loss: 3.8619 - val_accuracy: 0.5307\n"
     ]
    }
   ],
   "source": [
    "history = model.fit([padded_x_train, padded_x_train_sum[:,:-1]], padded_x_train_sum.reshape(padded_x_train_sum.shape[0],padded_x_train_sum.shape[1], 1)[:,1:],\n",
    "                    epochs=3,\n",
    "                    validation_data=([padded_x_test, padded_x_test_sum[:,:-1]], padded_x_test_sum.reshape(padded_x_test_sum.shape[0], padded_x_test_sum.shape[1], 1)[:,1:]),\n",
    "                    batch_size=16)"
   ]
  },
  {
   "cell_type": "code",
   "execution_count": 142,
   "id": "a79e117c",
   "metadata": {},
   "outputs": [],
   "source": [
    "# Encode the input sequence to get the feature vector\n",
    "encoder_model = Model(inputs=encoder_inputs,outputs=[encoder_outputs, state_h, state_c])\n",
    "\n",
    "# Decoder setup\n",
    "# Below tensors will hold the states of the previous time step\n",
    "decoder_state_input_h = Input(shape=(latent_dim,))\n",
    "decoder_state_input_c = Input(shape=(latent_dim,))\n",
    "decoder_hidden_state_input = Input(shape=(max_len_text, latent_dim))\n",
    "\n",
    "# Get the embeddings of the decoder sequence\n",
    "dec_emb2= dec_emb_layer(decoder_inputs) \n",
    "# To predict the next word in the sequence, set the initial states to the states from the previous time step\n",
    "decoder_outputs2, state_h2, state_c2 = decoder_lstm(dec_emb2, initial_state=[decoder_state_input_h, decoder_state_input_c])\n",
    "\n",
    "# A dense softmax layer to generate prob dist. over the target vocabulary\n",
    "decoder_outputs2 = decoder_dense(decoder_outputs2) \n",
    "\n",
    "# Final decoder model\n",
    "decoder_model = Model(\n",
    "    [decoder_inputs] + [decoder_hidden_state_input, decoder_state_input_h, decoder_state_input_c],\n",
    "    [decoder_outputs2] + [state_h2, state_c2])"
   ]
  },
  {
   "cell_type": "code",
   "execution_count": 143,
   "id": "b1c8d1da",
   "metadata": {},
   "outputs": [],
   "source": [
    "import numpy as np\n",
    "\n",
    "def decode_sequence(input_seq):\n",
    "    # Encode the input as state vectors.\n",
    "    e_out, e_h, e_c = encoder_model.predict(input_seq)\n",
    "    \n",
    "    # Generate empty target sequence of length 1.\n",
    "    target_seq = np.zeros((1,1))\n",
    "    \n",
    "    # Populate the first word of target sequence with the start word.\n",
    "    target_seq[0, 0] = sum_wordindex['bos']\n",
    "\n",
    "    stop_condition = False\n",
    "    decoded_sentence = ''\n",
    "    while not stop_condition:\n",
    "      \n",
    "        output_tokens, h, c = decoder_model.predict([target_seq] + [e_out, e_h, e_c])\n",
    "\n",
    "        # Sample a token\n",
    "        sampled_token_index = np.argmax(output_tokens[0, -1, :])\n",
    "        sampled_token = reverse_sum_index[sampled_token_index]\n",
    "        \n",
    "        if(sampled_token!='eos'):\n",
    "            decoded_sentence += ' '+sampled_token\n",
    "\n",
    "        # Exit condition: either hit max length or find stop word.\n",
    "        if (sampled_token == 'eos'  or len(decoded_sentence.split()) >= (max_len_sum - 1)):\n",
    "            stop_condition = True\n",
    "\n",
    "        # Update the target sequence (of length 1).\n",
    "        target_seq = np.zeros((1,1))\n",
    "        target_seq[0, 0] = sampled_token_index\n",
    "\n",
    "        # Update internal states\n",
    "        e_h, e_c = h, c\n",
    "\n",
    "    return decoded_sentence"
   ]
  },
  {
   "cell_type": "code",
   "execution_count": 144,
   "id": "8aeb78ed",
   "metadata": {},
   "outputs": [],
   "source": [
    "def seq2summary(input_seq):\n",
    "    newString=''\n",
    "    for i in input_seq:\n",
    "        if((i!=0 and i!=sum_wordindex['bos']) and i!=sum_wordindex['eos']):\n",
    "            newString=newString+reverse_sum_index[i]+' '\n",
    "    return newString\n",
    "\n",
    "def seq2text(input_seq):\n",
    "    newString=''\n",
    "    for i in input_seq:\n",
    "        if(i!=0):\n",
    "            newString=newString+reverse_text_index[i]+' '\n",
    "    return newString\n"
   ]
  },
  {
   "cell_type": "code",
   "execution_count": 145,
   "id": "da7c187c",
   "metadata": {},
   "outputs": [
    {
     "name": "stdout",
     "output_type": "stream",
     "text": [
      "Original summary: в nasa назвали четыре миссии в космос которые в этом могут быть американцами среди них — две миссии по полет к и к \n",
      "1/1 [==============================] - 2s 2s/step\n",
      "1/1 [==============================] - 0s 309ms/step\n",
      "1/1 [==============================] - 0s 33ms/step\n",
      "1/1 [==============================] - 0s 31ms/step\n",
      "1/1 [==============================] - 0s 32ms/step\n",
      "1/1 [==============================] - 0s 33ms/step\n",
      "1/1 [==============================] - 0s 33ms/step\n",
      "1/1 [==============================] - 0s 32ms/step\n",
      "1/1 [==============================] - 0s 30ms/step\n",
      "1/1 [==============================] - 0s 29ms/step\n",
      "1/1 [==============================] - 0s 30ms/step\n",
      "1/1 [==============================] - 0s 30ms/step\n",
      "1/1 [==============================] - 0s 31ms/step\n",
      "1/1 [==============================] - 0s 29ms/step\n",
      "1/1 [==============================] - 0s 31ms/step\n",
      "1/1 [==============================] - 0s 30ms/step\n",
      "1/1 [==============================] - 0s 30ms/step\n",
      "1/1 [==============================] - 0s 29ms/step\n",
      "1/1 [==============================] - 0s 30ms/step\n",
      "1/1 [==============================] - 0s 29ms/step\n",
      "1/1 [==============================] - 0s 30ms/step\n",
      "1/1 [==============================] - 0s 29ms/step\n",
      "1/1 [==============================] - 0s 29ms/step\n",
      "1/1 [==============================] - 0s 30ms/step\n",
      "1/1 [==============================] - 0s 30ms/step\n",
      "1/1 [==============================] - 0s 30ms/step\n",
      "1/1 [==============================] - 0s 30ms/step\n",
      "1/1 [==============================] - 0s 30ms/step\n",
      "1/1 [==============================] - 0s 29ms/step\n",
      "1/1 [==============================] - 0s 30ms/step\n",
      "1/1 [==============================] - 0s 29ms/step\n",
      "1/1 [==============================] - 0s 30ms/step\n",
      "1/1 [==============================] - 0s 30ms/step\n",
      "1/1 [==============================] - 0s 29ms/step\n",
      "1/1 [==============================] - 0s 29ms/step\n",
      "1/1 [==============================] - 0s 29ms/step\n",
      "1/1 [==============================] - 0s 30ms/step\n",
      "1/1 [==============================] - 0s 30ms/step\n",
      "1/1 [==============================] - 0s 29ms/step\n",
      "1/1 [==============================] - 0s 31ms/step\n",
      "1/1 [==============================] - 0s 29ms/step\n",
      "1/1 [==============================] - 0s 28ms/step\n",
      "Predicted summary:  в в в в в в в в в в в в в в в в в в в в в в в в в в в в в в в в в в в в в в в в\n",
      "\n",
      "\n",
      "Original summary: 25 и 26 февраля в праздновали — новый год центр российского и один из регионов страны где новый год официально дважды \n",
      "1/1 [==============================] - 1s 1s/step\n",
      "1/1 [==============================] - 0s 31ms/step\n",
      "1/1 [==============================] - 0s 31ms/step\n",
      "1/1 [==============================] - 0s 31ms/step\n",
      "1/1 [==============================] - 0s 29ms/step\n",
      "1/1 [==============================] - 0s 30ms/step\n",
      "1/1 [==============================] - 0s 28ms/step\n",
      "1/1 [==============================] - 0s 28ms/step\n",
      "1/1 [==============================] - 0s 29ms/step\n",
      "1/1 [==============================] - 0s 32ms/step\n",
      "1/1 [==============================] - 0s 30ms/step\n",
      "1/1 [==============================] - 0s 29ms/step\n",
      "1/1 [==============================] - 0s 28ms/step\n",
      "1/1 [==============================] - 0s 29ms/step\n",
      "1/1 [==============================] - 0s 30ms/step\n",
      "1/1 [==============================] - 0s 30ms/step\n",
      "1/1 [==============================] - 0s 30ms/step\n",
      "1/1 [==============================] - 0s 30ms/step\n",
      "1/1 [==============================] - 0s 30ms/step\n",
      "1/1 [==============================] - 0s 29ms/step\n",
      "1/1 [==============================] - 0s 29ms/step\n",
      "1/1 [==============================] - 0s 29ms/step\n",
      "1/1 [==============================] - 0s 30ms/step\n",
      "1/1 [==============================] - 0s 30ms/step\n",
      "1/1 [==============================] - 0s 29ms/step\n",
      "1/1 [==============================] - 0s 31ms/step\n",
      "1/1 [==============================] - 0s 30ms/step\n",
      "1/1 [==============================] - 0s 29ms/step\n",
      "1/1 [==============================] - 0s 29ms/step\n",
      "1/1 [==============================] - 0s 29ms/step\n",
      "1/1 [==============================] - 0s 30ms/step\n",
      "1/1 [==============================] - 0s 31ms/step\n",
      "1/1 [==============================] - 0s 30ms/step\n",
      "1/1 [==============================] - 0s 30ms/step\n",
      "1/1 [==============================] - 0s 29ms/step\n",
      "1/1 [==============================] - 0s 28ms/step\n",
      "1/1 [==============================] - 0s 29ms/step\n",
      "1/1 [==============================] - 0s 29ms/step\n",
      "1/1 [==============================] - 0s 30ms/step\n",
      "1/1 [==============================] - 0s 30ms/step\n",
      "1/1 [==============================] - 0s 31ms/step\n",
      "1/1 [==============================] - 0s 29ms/step\n",
      "Predicted summary:  в в в в в в в в в в в в в в в в в в в в в в в в в в в в в в в в в в в в в в в в\n",
      "\n",
      "\n",
      "Original summary: в белоруссии в день революции выбрали членов палаты парламента сегодняшнее голосование — основной части процесса через десять дней в республике пройдут выборы в палату представителей которые станут для александра лукашенко ведь за ними будут следить на западе \n",
      "1/1 [==============================] - 1s 1s/step\n",
      "1/1 [==============================] - 0s 29ms/step\n",
      "1/1 [==============================] - 0s 29ms/step\n",
      "1/1 [==============================] - 0s 30ms/step\n",
      "1/1 [==============================] - 0s 29ms/step\n",
      "1/1 [==============================] - 0s 29ms/step\n",
      "1/1 [==============================] - 0s 29ms/step\n",
      "1/1 [==============================] - 0s 33ms/step\n",
      "1/1 [==============================] - 0s 31ms/step\n",
      "1/1 [==============================] - 0s 30ms/step\n",
      "1/1 [==============================] - 0s 33ms/step\n",
      "1/1 [==============================] - 0s 30ms/step\n",
      "1/1 [==============================] - 0s 29ms/step\n",
      "1/1 [==============================] - 0s 30ms/step\n",
      "1/1 [==============================] - 0s 30ms/step\n",
      "1/1 [==============================] - 0s 29ms/step\n",
      "1/1 [==============================] - 0s 30ms/step\n",
      "1/1 [==============================] - 0s 34ms/step\n",
      "1/1 [==============================] - 0s 29ms/step\n",
      "1/1 [==============================] - 0s 31ms/step\n",
      "1/1 [==============================] - 0s 32ms/step\n",
      "1/1 [==============================] - 0s 31ms/step\n",
      "1/1 [==============================] - 0s 32ms/step\n",
      "1/1 [==============================] - 0s 31ms/step\n",
      "1/1 [==============================] - 0s 31ms/step\n",
      "1/1 [==============================] - 0s 33ms/step\n",
      "1/1 [==============================] - 0s 31ms/step\n",
      "1/1 [==============================] - 0s 31ms/step\n",
      "1/1 [==============================] - 0s 30ms/step\n",
      "1/1 [==============================] - 0s 31ms/step\n",
      "1/1 [==============================] - 0s 31ms/step\n",
      "1/1 [==============================] - 0s 30ms/step\n",
      "1/1 [==============================] - 0s 31ms/step\n",
      "1/1 [==============================] - 0s 30ms/step\n",
      "1/1 [==============================] - 0s 31ms/step\n",
      "1/1 [==============================] - 0s 31ms/step\n",
      "1/1 [==============================] - 0s 31ms/step\n",
      "1/1 [==============================] - 0s 29ms/step\n",
      "1/1 [==============================] - 0s 30ms/step\n",
      "1/1 [==============================] - 0s 30ms/step\n",
      "1/1 [==============================] - 0s 30ms/step\n",
      "1/1 [==============================] - 0s 29ms/step\n",
      "Predicted summary:  в в в в в в в в в в в в в в в в в в в в в в в в в в в в в в в в в в в в в в в в\n",
      "\n",
      "\n"
     ]
    }
   ],
   "source": [
    "for i in range(0, 3):\n",
    "    #print(\"Review:\",seq2text(padded_x_test[i]))\n",
    "    print(\"Original summary:\",seq2summary(padded_x_test_sum[i]))\n",
    "\n",
    "    print(\"Predicted summary:\",decode_sequence(padded_x_test[i].reshape(1, max_len_text)))\n",
    "    print(\"\\n\")"
   ]
  },
  {
   "cell_type": "code",
   "execution_count": 146,
   "id": "be77ec98",
   "metadata": {},
   "outputs": [],
   "source": [
    "import copy\n",
    "\n",
    "def build_oracle_summary_greedy(text, gold_summary, calc_score, lower=True, max_sentences=30):\n",
    "    '''\n",
    "    Жадное построение oracle summary\n",
    "    '''\n",
    "    gold_summary = gold_summary.lower() if lower else gold_summary\n",
    "    # Делим текст на предложения\n",
    "    sentences = [sentence.text.lower() if lower else sentence.text for sentence in razdel.sentenize(text)][:max_sentences]\n",
    "    n_sentences = len(sentences)\n",
    "    oracle_summary_sentences = set()\n",
    "    \n",
    "    score = -1.0\n",
    "    summaries = []\n",
    "    for _ in range(n_sentences):\n",
    "        for i in range(n_sentences):\n",
    "            if i in oracle_summary_sentences:\n",
    "                continue\n",
    "            current_summary_sentences = copy.copy(oracle_summary_sentences)\n",
    "            # Добавляем какое-то предложения к уже существующему summary\n",
    "            current_summary_sentences.add(i)\n",
    "            current_summary = \" \".join([sentences[index] for index in sorted(list(current_summary_sentences))])\n",
    "            # Считаем метрики\n",
    "            current_score = calc_score(current_summary, gold_summary)\n",
    "            summaries.append((current_score, current_summary_sentences))\n",
    "        # Если получилось улучшить метрики с добавлением какого-либо предложения, то пробуем добавить ещё\n",
    "        # Иначе на этом заканчиваем\n",
    "        best_summary_score, best_summary_sentences = max(summaries)\n",
    "        if best_summary_score <= score:\n",
    "            break\n",
    "        oracle_summary_sentences = best_summary_sentences\n",
    "        score = best_summary_score\n",
    "    oracle_summary = \" \".join([sentences[index] for index in sorted(list(oracle_summary_sentences))])\n",
    "    return oracle_summary, oracle_summary_sentences\n",
    "\n",
    "def calc_single_score(pred_summary, gold_summary, rouge):\n",
    "    return rouge.get_scores([pred_summary], [gold_summary], avg=True)['rouge-2']['f']"
   ]
  },
  {
   "cell_type": "code",
   "execution_count": 149,
   "id": "67ba146b",
   "metadata": {},
   "outputs": [
    {
     "data": {
      "application/vnd.jupyter.widget-view+json": {
       "model_id": "f4fcb4f5998d4e36ae8f429b32e3a3cd",
       "version_major": 2,
       "version_minor": 0
      },
      "text/plain": [
       "0it [00:00, ?it/s]"
      ]
     },
     "metadata": {},
     "output_type": "display_data"
    },
    {
     "name": "stdout",
     "output_type": "stream",
     "text": [
      "Count: 10\n",
      "Ref: работающие пенсионеры дождались индексации. это следует из уже одобренных в первом чтении поправок в конституцию. так что работающие пенсионеры смогут получить замороженную с 2016 года прибавку к пенсии. в россии их насчитывается более девяти миллионов. эксперты называют это восстановлением справедливости.\n",
      "Hyp: госдума одобрила в первом чтении внесенные президентом рф владимиром путиным поправки в конституцию. индексация пенсий всем работающим пенсионерам, в том числе с инвалидностью, не производится с 2016 года.\n",
      "BLEU:  0.4674568071233261\n",
      "ROUGE:  {'rouge-1': {'f': 0.32893752698453543, 'p': 0.3371218760231365, 'r': 0.3415312679480252}, 'rouge-2': {'f': 0.17707827296439094, 'p': 0.18320770481334162, 'r': 0.18641473904295192}, 'rouge-l': {'f': 0.2959611065900263, 'p': 0.31890108770781034, 'r': 0.3261824668149578}}\n"
     ]
    }
   ],
   "source": [
    "from tqdm.notebook import tqdm\n",
    "import razdel\n",
    "\n",
    "def calc_oracle_score(records, nrows=10, lower=True):\n",
    "    references = []\n",
    "    predictions = []\n",
    "    rouge = Rouge()\n",
    "  \n",
    "    for i, record in tqdm(enumerate(records)):\n",
    "        if i >= nrows:\n",
    "            break\n",
    "\n",
    "        summary = record[\"summary\"]\n",
    "        summary = summary if not lower else summary.lower()\n",
    "        references.append(summary)\n",
    "\n",
    "        text = record[\"text\"]\n",
    "        predicted_summary, _ = build_oracle_summary_greedy(text, summary, calc_score=lambda x, y: calc_single_score(x, y, rouge))\n",
    "        predictions.append(predicted_summary)\n",
    "\n",
    "    calc_scores(references, predictions)\n",
    "\n",
    "\n",
    "calc_oracle_score(test_records)"
   ]
  },
  {
   "cell_type": "code",
   "execution_count": 150,
   "id": "080ba21c",
   "metadata": {},
   "outputs": [
    {
     "data": {
      "application/vnd.jupyter.widget-view+json": {
       "model_id": "345c70b9e1424616bffdfa7594c2c6ce",
       "version_major": 2,
       "version_minor": 0
      },
      "text/plain": [
       "0it [00:00, ?it/s]"
      ]
     },
     "metadata": {},
     "output_type": "display_data"
    },
    {
     "name": "stdout",
     "output_type": "stream",
     "text": [
      "Count: 1\n",
      "Ref: анна павловна сказала, что австрия предает россию. англия не понимает россию. пруссия объявила о непобедимости наполеона. александр спасет европу.\n",
      "Hyp: в середине разговора про политические действия анна павловна разгорячилась.\n",
      "BLEU:  0.15157257653900366\n",
      "ROUGE:  {'rouge-1': {'f': 0.14814814370370383, 'p': 0.2222222222222222, 'r': 0.1111111111111111}, 'rouge-2': {'f': 0.07692307266272212, 'p': 0.125, 'r': 0.05555555555555555}, 'rouge-l': {'f': 0.12345679012353086, 'p': 0.2222222222222222, 'r': 0.1111111111111111}}\n"
     ]
    }
   ],
   "source": [
    "calc_oracle_score(lev_records)"
   ]
  }
 ],
 "metadata": {
  "kernelspec": {
   "display_name": "Python 3 (ipykernel)",
   "language": "python",
   "name": "python3"
  },
  "language_info": {
   "codemirror_mode": {
    "name": "ipython",
    "version": 3
   },
   "file_extension": ".py",
   "mimetype": "text/x-python",
   "name": "python",
   "nbconvert_exporter": "python",
   "pygments_lexer": "ipython3",
   "version": "3.10.9"
  }
 },
 "nbformat": 4,
 "nbformat_minor": 5
}
