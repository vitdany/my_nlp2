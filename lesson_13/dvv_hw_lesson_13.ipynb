{
 "cells": [
  {
   "cell_type": "code",
   "execution_count": 2,
   "id": "46583add",
   "metadata": {},
   "outputs": [],
   "source": [
    "#!pip install transformers sentencepiece"
   ]
  },
  {
   "cell_type": "code",
   "execution_count": 24,
   "id": "7ddf4eb1",
   "metadata": {
    "scrolled": true
   },
   "outputs": [],
   "source": [
    "from transformers import AutoTokenizer, MBartForConditionalGeneration #AutoModel\n",
    "\n",
    "model_name = \"IlyaGusev/mbart_ru_sum_gazeta\"\n",
    "\n",
    "tokenizer = AutoTokenizer.from_pretrained(model_name)\n",
    "model = MBartForConditionalGeneration.from_pretrained(model_name)"
   ]
  },
  {
   "cell_type": "code",
   "execution_count": 5,
   "id": "a2c7ccc3",
   "metadata": {},
   "outputs": [
    {
     "name": "stdout",
     "output_type": "stream",
     "text": [
      "<class 'transformers.models.mbart.tokenization_mbart_fast.MBartTokenizerFast'> <class 'transformers.models.mbart.modeling_mbart.MBartForConditionalGeneration'>\n"
     ]
    }
   ],
   "source": [
    "print(type(tokenizer), type(model))"
   ]
  },
  {
   "cell_type": "code",
   "execution_count": 7,
   "id": "0a75382c",
   "metadata": {},
   "outputs": [],
   "source": [
    "article_text = \"\"\"Колизей или амфитеатр Флавиев (лат. Amphitheatrum Flavium) — амфитеатр,\n",
    "памятник архитектуры Древнего Рима, наиболее известное и одно из самых грандиозных сооружений Древнего мира, сохранившихся до нашего времени.\n",
    "Находится в Риме, в низине между Эсквилинским, Палатинским и Целиевым холмами.\n",
    "Строительство самого большого амфитеатра античного мира, вместимостью свыше 50 тыс. \n",
    "человек, велось на протяжении восьми лет как коллективное сооружение императоров династии Флавиев. \n",
    "Его начали строить в 72 году н. э. при императоре Веспасиане, а в 80 году н. э. амфитеатр был освящён императором Титом. \n",
    "Амфитеатр расположился на том месте, где был пруд, относившийся к Золотому дому Нерона.\n",
    "История Колизея восходит к 68 году, когда измена преторианской гвардии и осуждение Сената \n",
    "заставили императора Нерона после четырнадцати лет деспотического управления государством покончить\n",
    "с собой на загородной вилле неподалеку от Рима. Смерть Нерона привела к восемнадцатимесячной гражданской войне, \n",
    "закончившейся в 69 году. Победу в ней одержал Тит Флавий Веспасиан, которого в наши дни называют просто Веспасианом.\n",
    "До того как стать императором, Веспасиан принимал участие в подавлении восстания иудеев, начавшегося в 66 году. \n",
    "После этого Веспасиан вместе с Титом в богатых восточных провинциях собирал налоги, чтобы привести в порядок \n",
    "государственные финансы, расстроенные Нероном и гражданской войной. Они возвратились в Рим в 71 году, чтобы отпраздновать победу над иудеями.\n",
    "Став императором, Веспасиан решил реконструировать центр Рима и упрочить собственный культ, искоренив память о \n",
    "своём предшественнике Нероне. Оставалась нерешённой непростая проблема: что делать с дворцом Нерона, Золотым домом, \n",
    "как его называли, который вместе с прилегающим парком занимал в центре Рима площадь в 120 гектаров. \n",
    "Веспасиан решил разместить в нём имперские учреждения, а озеро возле дома засыпать и построить амфитеатр, \n",
    "предназначенный для развлечений народа. Это было хорошо взвешенное решение: постройкой амфитеатра земли, \n",
    "которыми пользовался Нерон, передавались народу.\n",
    "\"\"\""
   ]
  },
  {
   "cell_type": "code",
   "execution_count": 9,
   "id": "7b6f3abc",
   "metadata": {},
   "outputs": [],
   "source": [
    "input_ids = tokenizer.prepare_seq2seq_batch(\n",
    "    [article_text],\n",
    "    src_lang=\"ru_XX\", \n",
    "    return_tensors=\"pt\",\n",
    "    padding=\"max_length\",\n",
    "    truncation=True,\n",
    "    max_length=600\n",
    ")[\"input_ids\"]\n",
    "\n",
    "output_ids = model.generate(\n",
    "    input_ids=input_ids,\n",
    "    max_length=162,\n",
    "    no_repeat_ngram_size=3,\n",
    "    num_beams=5,\n",
    "    top_k=0\n",
    ")[0]\n",
    "\n",
    "summary = tokenizer.decode(output_ids, skip_special_tokens=True, clean_up_tokenization_spaces=False)"
   ]
  },
  {
   "cell_type": "code",
   "execution_count": 11,
   "id": "4c59f517",
   "metadata": {},
   "outputs": [
    {
     "name": "stdout",
     "output_type": "stream",
     "text": [
      "В Древнем Риме был построен самый большой амфитеатр античного мира, вместимостью свыше 50 тыс. человек. Его строительство велось на протяжении восьми лет как коллективное сооружение императоров династии Флавиев. Победу в ней одержал Тит Флавий Веспасиан.\n"
     ]
    }
   ],
   "source": [
    "print(summary)"
   ]
  },
  {
   "cell_type": "code",
   "execution_count": 10,
   "id": "1af28f55",
   "metadata": {},
   "outputs": [],
   "source": [
    "article_text_piz = \"\"\"Пиза́нская башня (итал. Torre pendente di Pisa) \n",
    "— колокольная башня, часть ансамбля городского собора Санта-Мария-Ассунта \n",
    "(Пизанский собор) в городе Пиза, получившая всемирную известность благодаря \n",
    "непреднамеренному наклону. Расположенная позади собора, она является третьей \n",
    "старейшей постройкой на Площади чудес Пизы после самого собора и баптистерия. \n",
    "Наклон башни возник в ходе её строительства, длившегося несколько десятилетий \n",
    "и в последующее время медленно увеличивался, пока не был стабилизирован \n",
    "(и частично скорректирован) благодаря усилиям по укреплению в \n",
    "конце XX и начале XXI столетий.\"\"\""
   ]
  },
  {
   "cell_type": "code",
   "execution_count": 19,
   "id": "93b10c26",
   "metadata": {},
   "outputs": [],
   "source": [
    "input_ids = tokenizer.prepare_seq2seq_batch(\n",
    "    [article_text_piz],\n",
    "    src_lang=\"ru_XX\", \n",
    "    return_tensors=\"pt\",\n",
    "    padding=\"max_length\",\n",
    "    truncation=True,\n",
    "    max_length=600\n",
    ")[\"input_ids\"]\n",
    "\n",
    "output_ids = model.generate(\n",
    "    input_ids=input_ids,\n",
    "    max_length=60,\n",
    "    no_repeat_ngram_size=3,\n",
    "    num_beams=5,\n",
    "    top_k=0\n",
    ")[0]\n",
    "\n",
    "summary = tokenizer.decode(output_ids, skip_special_tokens=True, clean_up_tokenization_spaces=False)"
   ]
  },
  {
   "cell_type": "code",
   "execution_count": 20,
   "id": "36535d3e",
   "metadata": {},
   "outputs": [
    {
     "name": "stdout",
     "output_type": "stream",
     "text": [
      "«Пизанская башня» — колокольная башня, часть ансамбля городского собора Санта-Мария-Ассунта (Пизанский собор) в городе Пиза, получившая всемирную известность благодаря непреднамеренному наклону.\n"
     ]
    }
   ],
   "source": [
    "print(summary)"
   ]
  },
  {
   "cell_type": "code",
   "execution_count": 21,
   "id": "cad56925",
   "metadata": {},
   "outputs": [],
   "source": [
    "article_text_lev = \"\"\"В середине разговора про политические действия Анна Павловна разгорячилась. \n",
    "Ах, не говорите мне про Австрию! Я ничего не понимаю, может быть, \n",
    "но Австрия никогда не хотела и не хочет войны. Она предает нас. \n",
    "Россия одна должна быть спасительницей Европы. \n",
    "Наш благодетель знает свое высокое призвание и будет верен ему. \n",
    "Вот одно, во что я верю. Нашему доброму и чудному государю предстоит \n",
    "величайшая роль в мире, и он так добродетелен и хорош, что Бог не оставит его, \n",
    "и он исполнит свое призвание задавить гидру революции, которая теперь еще ужаснее \n",
    "в лице этого убийцы и злодея. Мы одни должны искупить кровь праведника. \n",
    "На кого нам надеяться, я вас спрашиваю. Англия с своим коммерческим духом \n",
    "не поймет и не может понять всю высоту души императора Александра. \n",
    "Она отказалась очистить Мальту. Она хочет видеть, ищет заднюю мысль наших действий. \n",
    "Что они сказали Новосильцеву? Ничего. Они не поняли, они не могли понять самоотвержения \n",
    "нашего императора, который ничего не хочет для себя и все хочет для блага мира. \n",
    "И что они обещали? Ничего. И что обещали, и того не будет! Пруссия уже объявила, что \n",
    "Бонапарте непобедим и что вся Европа ничего не может против него. И я не верю ни в \n",
    "одном слове ни Гарденбергу, ни Гаугвицу. \n",
    "Cette fameuse neutralit  prussienne, ce n'est qu'un pi ge 9. \n",
    "Я верю в одного Бога и в высокую судьбу нашего милого императора. \n",
    "Он спасет Европу! Она вдруг остановилась с улыбкой насмешки над своею горячностью.\"\"\""
   ]
  },
  {
   "cell_type": "code",
   "execution_count": 22,
   "id": "9d681e49",
   "metadata": {},
   "outputs": [],
   "source": [
    "input_ids = tokenizer.prepare_seq2seq_batch(\n",
    "    [article_text_lev],\n",
    "    src_lang=\"ru_XX\", \n",
    "    return_tensors=\"pt\",\n",
    "    padding=\"max_length\",\n",
    "    truncation=True,\n",
    "    max_length=600\n",
    ")[\"input_ids\"]\n",
    "\n",
    "output_ids = model.generate(\n",
    "    input_ids=input_ids,\n",
    "    max_length=60,\n",
    "    no_repeat_ngram_size=3,\n",
    "    num_beams=5,\n",
    "    top_k=0\n",
    ")[0]\n",
    "\n",
    "summary = tokenizer.decode(output_ids, skip_special_tokens=True, clean_up_tokenization_spaces=False)"
   ]
  },
  {
   "cell_type": "code",
   "execution_count": 23,
   "id": "c5bd3446",
   "metadata": {},
   "outputs": [
    {
     "name": "stdout",
     "output_type": "stream",
     "text": [
      "Germany предает Россию. Она предает нас. Россия одна должна быть спасительницей Европы. И я верю в одного Бога и в высокую судьбу нашего милого императора Александра Александра. Он спасет Европу! Она вдруг остановилась с улыбкой насмешки\n"
     ]
    }
   ],
   "source": [
    "print(summary)"
   ]
  }
 ],
 "metadata": {
  "kernelspec": {
   "display_name": "Python 3 (ipykernel)",
   "language": "python",
   "name": "python3"
  },
  "language_info": {
   "codemirror_mode": {
    "name": "ipython",
    "version": 3
   },
   "file_extension": ".py",
   "mimetype": "text/x-python",
   "name": "python",
   "nbconvert_exporter": "python",
   "pygments_lexer": "ipython3",
   "version": "3.10.9"
  }
 },
 "nbformat": 4,
 "nbformat_minor": 5
}
