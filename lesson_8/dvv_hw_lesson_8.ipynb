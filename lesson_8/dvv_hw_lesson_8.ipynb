{
 "cells": [
  {
   "cell_type": "markdown",
   "id": "c3302d8c",
   "metadata": {},
   "source": [
    "**Материалы**\n",
    "У вас лекционный ноутбук в архиве он с картинками и презентация тоже есть в архиве\n",
    "\n",
    "**Задание**\n",
    "На вебинаре мы говорили что долгое время CNN и RNN архитектуры были конурируещими выяснить какая архитектура больше подходит для задачи сантимент анализа на данных с вебинара\n",
    "1. построить свёрточные архитектуры\n",
    "2. построить различные архитектуры с RNN\n",
    "3. построить совместные архитектуры CNN -> RNN и (RNN -> CNN)\n",
    "4. сдлать выводы что получилось лучше "
   ]
  },
  {
   "cell_type": "code",
   "execution_count": 19,
   "id": "03bd18bb",
   "metadata": {},
   "outputs": [],
   "source": [
    "#!pip install stop_words\n",
    "#!pip install pymorphy2"
   ]
  },
  {
   "cell_type": "code",
   "execution_count": 20,
   "id": "72def28e",
   "metadata": {},
   "outputs": [],
   "source": [
    "import pandas as pd\n",
    "\n",
    "df = pd.read_csv(\"отзывы за лето.csv\", encoding='cp1251')"
   ]
  },
  {
   "cell_type": "code",
   "execution_count": 21,
   "id": "11c47bf9",
   "metadata": {},
   "outputs": [
    {
     "data": {
      "text/plain": [
       "20659"
      ]
     },
     "execution_count": 21,
     "metadata": {},
     "output_type": "execute_result"
    }
   ],
   "source": [
    "len(df)"
   ]
  },
  {
   "cell_type": "code",
   "execution_count": 22,
   "id": "e4cc50e0",
   "metadata": {},
   "outputs": [],
   "source": [
    "from string import punctuation\n",
    "from stop_words import get_stop_words\n",
    "from pymorphy2 import MorphAnalyzer\n",
    "import re"
   ]
  },
  {
   "cell_type": "code",
   "execution_count": 23,
   "id": "5e26ad32",
   "metadata": {},
   "outputs": [],
   "source": [
    "#!pip install tensorflow"
   ]
  },
  {
   "cell_type": "code",
   "execution_count": 24,
   "id": "0a1960aa",
   "metadata": {},
   "outputs": [],
   "source": [
    "import matplotlib.pyplot as plt\n",
    "import tensorflow as tf\n",
    "\n",
    "import numpy as np\n",
    "#import keras\n",
    "from tensorflow.keras.models import Sequential, Model\n",
    "from tensorflow.keras.layers import Dense, Dropout, Activation, Input, Embedding, Conv1D, Conv2D, GlobalMaxPool1D, concatenate, Flatten, add, MaxPool1D, RepeatVector\n",
    "from tensorflow.keras.layers import SimpleRNN, LSTM, GRU, Masking, Bidirectional, GlobalAveragePooling1D, GlobalMaxPooling1D, TimeDistributed, AveragePooling1D\n",
    "from tensorflow.keras.preprocessing.text import Tokenizer\n",
    "from tensorflow.keras.preprocessing.sequence import pad_sequences\n",
    "from tensorflow.keras.callbacks import TensorBoard \n",
    "from tensorflow.keras.losses import categorical_crossentropy\n",
    "from tensorflow.keras.callbacks import EarlyStopping\n",
    "from sklearn.preprocessing import LabelEncoder\n",
    "import keras\n",
    "from keras.models import Sequential, Model\n",
    "from keras.layers import Dense, Dropout, Activation, Input, Embedding, Conv1D, GlobalMaxPool1D, Flatten, SimpleRNN, LSTM, GRU, Reshape\n",
    "from keras.losses import categorical_crossentropy, SparseCategoricalCrossentropy\n",
    "\n",
    "\n",
    "from sklearn.model_selection import train_test_split\n",
    "import nltk\n",
    "from nltk.probability import FreqDist\n",
    "from nltk.tokenize import word_tokenize\n",
    "from nltk.corpus import stopwords"
   ]
  },
  {
   "cell_type": "code",
   "execution_count": 25,
   "id": "5489b3b6",
   "metadata": {},
   "outputs": [],
   "source": [
    "stopwordslist = stopwords.words(\"russian\")\n",
    "ptrn = r'[^a-zA-Zа-яА-Я0-9]'\n",
    "\n",
    "morpher = MorphAnalyzer()\n",
    "\n",
    "def words_only(text):\n",
    "    text=str(text)\n",
    "    return text.lower()   \n",
    "\n",
    "def remove_punkt(text):\n",
    "    return re.sub(ptrn, ' ', text)\n",
    "\n",
    "def to_token(text):\n",
    "    return nltk.tokenize.word_tokenize(text)\n",
    "\n",
    "def remove_stopwords(text):\n",
    "    text_list = [w for w in text if w not in stopwordslist]\n",
    "    return ' '.join(word for word in text_list)\n",
    "\n",
    "def morphe_text(text):\n",
    "    text = [morpher.parse(word)[0].normal_form for word in text.split() if word not in stopwordslist]\n",
    "    return \" \".join(text)\n",
    "\n",
    "def normalize_text(text):\n",
    "    text = words_only(text)\n",
    "    text = remove_punkt(text)\n",
    "    text = to_token(text)\n",
    "    text = remove_stopwords(text)\n",
    "    text = morphe_text(text)\n",
    "    return text"
   ]
  },
  {
   "cell_type": "code",
   "execution_count": 26,
   "id": "00be19b2",
   "metadata": {},
   "outputs": [
    {
     "name": "stderr",
     "output_type": "stream",
     "text": [
      "[nltk_data] Downloading package stopwords to\n",
      "[nltk_data]     C:\\Users\\kote\\AppData\\Roaming\\nltk_data...\n",
      "[nltk_data]   Package stopwords is already up-to-date!\n",
      "[nltk_data] Downloading package punkt to\n",
      "[nltk_data]     C:\\Users\\kote\\AppData\\Roaming\\nltk_data...\n",
      "[nltk_data]   Package punkt is already up-to-date!\n"
     ]
    },
    {
     "data": {
      "text/plain": [
       "True"
      ]
     },
     "execution_count": 26,
     "metadata": {},
     "output_type": "execute_result"
    }
   ],
   "source": [
    "nltk.download('stopwords')\n",
    "nltk.download('punkt')"
   ]
  },
  {
   "cell_type": "code",
   "execution_count": 27,
   "id": "fe9d71d4",
   "metadata": {},
   "outputs": [
    {
     "data": {
      "text/html": [
       "<div>\n",
       "<style scoped>\n",
       "    .dataframe tbody tr th:only-of-type {\n",
       "        vertical-align: middle;\n",
       "    }\n",
       "\n",
       "    .dataframe tbody tr th {\n",
       "        vertical-align: top;\n",
       "    }\n",
       "\n",
       "    .dataframe thead th {\n",
       "        text-align: right;\n",
       "    }\n",
       "</style>\n",
       "<table border=\"1\" class=\"dataframe\">\n",
       "  <thead>\n",
       "    <tr style=\"text-align: right;\">\n",
       "      <th></th>\n",
       "      <th>Rating</th>\n",
       "      <th>Content</th>\n",
       "      <th>Date</th>\n",
       "      <th>normalized_content</th>\n",
       "    </tr>\n",
       "  </thead>\n",
       "  <tbody>\n",
       "    <tr>\n",
       "      <th>0</th>\n",
       "      <td>5</td>\n",
       "      <td>It just works!</td>\n",
       "      <td>2017-08-14</td>\n",
       "      <td>it just works</td>\n",
       "    </tr>\n",
       "    <tr>\n",
       "      <th>1</th>\n",
       "      <td>4</td>\n",
       "      <td>В целом удобноное приложение...из минусов хотя...</td>\n",
       "      <td>2017-08-14</td>\n",
       "      <td>целое удобноной приложение минус хотеть слишко...</td>\n",
       "    </tr>\n",
       "    <tr>\n",
       "      <th>2</th>\n",
       "      <td>5</td>\n",
       "      <td>Отлично все</td>\n",
       "      <td>2017-08-14</td>\n",
       "      <td>отлично</td>\n",
       "    </tr>\n",
       "    <tr>\n",
       "      <th>3</th>\n",
       "      <td>5</td>\n",
       "      <td>Стал зависать на 1% работы антивируса. Дальше ...</td>\n",
       "      <td>2017-08-14</td>\n",
       "      <td>стать зависать 1 работа антивирус далёкий нику...</td>\n",
       "    </tr>\n",
       "    <tr>\n",
       "      <th>4</th>\n",
       "      <td>5</td>\n",
       "      <td>Очень удобно, работает быстро.</td>\n",
       "      <td>2017-08-14</td>\n",
       "      <td>очень удобно работать быстро</td>\n",
       "    </tr>\n",
       "  </tbody>\n",
       "</table>\n",
       "</div>"
      ],
      "text/plain": [
       "   Rating                                            Content        Date  \\\n",
       "0       5                                     It just works!  2017-08-14   \n",
       "1       4  В целом удобноное приложение...из минусов хотя...  2017-08-14   \n",
       "2       5                                        Отлично все  2017-08-14   \n",
       "3       5  Стал зависать на 1% работы антивируса. Дальше ...  2017-08-14   \n",
       "4       5                     Очень удобно, работает быстро.  2017-08-14   \n",
       "\n",
       "                                  normalized_content  \n",
       "0                                      it just works  \n",
       "1  целое удобноной приложение минус хотеть слишко...  \n",
       "2                                            отлично  \n",
       "3  стать зависать 1 работа антивирус далёкий нику...  \n",
       "4                       очень удобно работать быстро  "
      ]
     },
     "execution_count": 27,
     "metadata": {},
     "output_type": "execute_result"
    }
   ],
   "source": [
    "df['normalized_content'] = df['Content'].apply(normalize_text)\n",
    "df.head()"
   ]
  },
  {
   "cell_type": "code",
   "execution_count": 28,
   "id": "48844004",
   "metadata": {},
   "outputs": [],
   "source": [
    "max_words = 20000\n",
    "max_len = 150\n",
    "num_classes = 5\n",
    "\n",
    "epochs = 20\n",
    "batch_size = 512\n",
    "print_batch_n = 100"
   ]
  },
  {
   "cell_type": "code",
   "execution_count": 29,
   "id": "054ce9e5",
   "metadata": {},
   "outputs": [],
   "source": [
    "train_corpus = \" \".join(df['normalized_content'])\n",
    "train_tokens = word_tokenize(train_corpus)\n",
    "train_tokens_filtered = [word for word in train_tokens if word.isalnum()]"
   ]
  },
  {
   "cell_type": "code",
   "execution_count": 30,
   "id": "54637ddf",
   "metadata": {},
   "outputs": [],
   "source": [
    "dist = FreqDist(train_tokens_filtered)\n",
    "tokens_filtered_top = [pair[0] for pair in dist.most_common(max_words-1)]\n",
    "voc = {v: k for k, v in dict(enumerate(tokens_filtered_top, 1)).items()}"
   ]
  },
  {
   "cell_type": "code",
   "execution_count": 31,
   "id": "e7abb6e8",
   "metadata": {},
   "outputs": [],
   "source": [
    "def text_to_sequence(text, maxlen):\n",
    "    result = []\n",
    "    tokens = word_tokenize(text.lower())\n",
    "    tokens_filtered = [word for word in tokens if word.isalnum()]\n",
    "    for word in tokens_filtered:\n",
    "        if word in voc:\n",
    "            result.append(voc[word])\n",
    "    padding = [0]*(maxlen-len(result))\n",
    "    return padding + result[-maxlen:]\n",
    "\n",
    "data_train = np.asarray(\n",
    "    [text_to_sequence(text, max_len) for text in df['normalized_content']], \n",
    "    dtype=np.int32)"
   ]
  },
  {
   "cell_type": "code",
   "execution_count": 32,
   "id": "85809037",
   "metadata": {},
   "outputs": [],
   "source": [
    "X_train, X_test, y_train, y_test = train_test_split(data_train, df.Rating, test_size=0.3, random_state=1)\n",
    "\n",
    "le = LabelEncoder()\n",
    "\n",
    "y_train = le.fit_transform(y_train) \n",
    "y_test = le.transform(y_test)"
   ]
  },
  {
   "cell_type": "code",
   "execution_count": 33,
   "id": "6974f4ce",
   "metadata": {},
   "outputs": [],
   "source": [
    "#%load_ext tensorboard\n",
    "#%tensorboard --logdir logs"
   ]
  },
  {
   "cell_type": "code",
   "execution_count": 34,
   "id": "871affb2",
   "metadata": {},
   "outputs": [
    {
     "name": "stdout",
     "output_type": "stream",
     "text": [
      "Epoch 1/10\n",
      "26/26 [==============================] - 14s 418ms/step - loss: 1.2871 - accuracy: 0.5230 - val_loss: 0.9385 - val_accuracy: 0.7091\n",
      "Epoch 2/10\n",
      "26/26 [==============================] - 11s 406ms/step - loss: 0.9673 - accuracy: 0.7017 - val_loss: 0.8032 - val_accuracy: 0.7270\n",
      "Epoch 3/10\n",
      "26/26 [==============================] - 10s 401ms/step - loss: 0.8475 - accuracy: 0.7192 - val_loss: 0.7653 - val_accuracy: 0.7408\n",
      "Epoch 4/10\n",
      "26/26 [==============================] - 11s 406ms/step - loss: 0.7724 - accuracy: 0.7370 - val_loss: 0.7150 - val_accuracy: 0.7491\n",
      "Epoch 5/10\n",
      "26/26 [==============================] - 11s 407ms/step - loss: 0.7150 - accuracy: 0.7552 - val_loss: 0.6787 - val_accuracy: 0.7595\n",
      "Epoch 6/10\n",
      "26/26 [==============================] - 10s 401ms/step - loss: 0.6735 - accuracy: 0.7706 - val_loss: 0.6655 - val_accuracy: 0.7678\n",
      "Epoch 7/10\n",
      "26/26 [==============================] - 10s 404ms/step - loss: 0.6410 - accuracy: 0.7775 - val_loss: 0.6656 - val_accuracy: 0.7664\n"
     ]
    }
   ],
   "source": [
    "model_name = 'RNN'\n",
    "model = Sequential()\n",
    "model.add(\n",
    "    Embedding(input_dim=max_words, #это размер словаря в текстовых данных\n",
    "              input_length=max_len, #это длина входных последовательностей, которую вы бы определили для любого входного слоя модели Keras\n",
    "              output_dim=128, #это размер векторного пространства, в которое будут встроены слова. Он определяет размер выходных векторов из этого слоя для каждого слова. Например, это может быть 32 или 100 или даже больше.\n",
    "              trainable=True,\n",
    "              mask_zero=True))\n",
    "model.add(Masking(mask_value=0.0)) #Маскирует последовательность,используя значение маски для пропуска таймфреймов\n",
    "model.add(SimpleRNN(32, recurrent_dropout=0.2, return_sequences=True)) #возвращать всю последовательность выходных данных для каждого элемента (по одному вектору на каждый шаг)\n",
    "model.add(SimpleRNN(32, recurrent_dropout=0.2))#отбрасывание линейных значений повторов 0.2\n",
    "model.add(Dense(64, activation='relu'))\n",
    "model.add(Dropout(0.5))\n",
    "model.add(Dense(num_classes, activation='softmax'))\n",
    "\n",
    "model.compile(\n",
    "    optimizer='adam', loss=SparseCategoricalCrossentropy(), metrics=['accuracy'])\n",
    "\n",
    "early_stopping=EarlyStopping(monitor='val_loss') #Класс EarlyStopping Остановить обучение, когда отслеживаемая метрика перестанет улучшаться \n",
    "\n",
    "\n",
    "tensorboard_callback = tf.keras.callbacks.TensorBoard(\n",
    "    log_dir='logs/'+ model_name, \n",
    "    write_graph=False, update_freq=100, profile_batch=0)\n",
    "\n",
    "history = model.fit(X_train, y_train,\n",
    "                    batch_size=512,\n",
    "                    epochs=10,\n",
    "                    verbose=1,\n",
    "                    validation_split=0.1,\n",
    "                    callbacks=[tensorboard_callback, early_stopping]) "
   ]
  },
  {
   "cell_type": "code",
   "execution_count": 35,
   "id": "f6ab3cf0",
   "metadata": {},
   "outputs": [
    {
     "name": "stdout",
     "output_type": "stream",
     "text": [
      "13/13 [==============================] - 1s 95ms/step - loss: 0.6829 - accuracy: 0.7585\n",
      "\n",
      "\n",
      "Test score: 0.6828565001487732\n",
      "Test accuracy: 0.7584704756736755\n"
     ]
    },
    {
     "name": "stderr",
     "output_type": "stream",
     "text": [
      "C:\\Users\\kote\\AppData\\Local\\Temp\\ipykernel_8812\\2619252210.py:5: FutureWarning: The frame.append method is deprecated and will be removed from pandas in a future version. Use pandas.concat instead.\n",
      "  metrics_df = metrics_df.append({\n"
     ]
    }
   ],
   "source": [
    "score = model.evaluate(X_test, y_test, batch_size=512, verbose=1)\n",
    "\n",
    "metrics_df = pd.DataFrame(columns=['model', 'Test score', 'Test accuracy'])\n",
    "\n",
    "metrics_df = metrics_df.append({\n",
    "    'model': 'RNN',\n",
    "    'Test score': score[0],\n",
    "    'Test accuracy': score[1],\n",
    "}, ignore_index=True)\n",
    "\n",
    "\n",
    "print('\\n')\n",
    "print('Test score:', score[0])\n",
    "print('Test accuracy:', score[1])"
   ]
  },
  {
   "cell_type": "code",
   "execution_count": 36,
   "id": "50417e66",
   "metadata": {},
   "outputs": [],
   "source": [
    "model_name = 'CNN_RNN'\n",
    "model = Sequential()\n",
    "\n",
    "model.add(\n",
    "    Embedding(input_dim=max_words, #это размер словаря в текстовых данных\n",
    "              input_length=max_len, #это длина входных последовательностей, которую вы бы определили для любого входного слоя модели Keras\n",
    "              output_dim=128, #это размер векторного пространства, в которое будут встроены слова. Он определяет размер выходных векторов из этого слоя для каждого слова. Например, это может быть 32 или 100 или даже больше.\n",
    "              trainable=True,\n",
    "              mask_zero=True))\n",
    "model.add(Masking(mask_value=0.0)) #Маскирует последовательность,используя значение маски для пропуска таймфреймов\n",
    "model.add(Conv1D(128, 3, activation='relu', padding=\"same\"))\n",
    "model.add(SimpleRNN(64, recurrent_dropout=0.2)) #отбрасывание линейных значений повторов 0.2\n",
    "model.add(Dense(64, activation='relu'))\n",
    "model.add(Dropout(0.5))\n",
    "model.add(Dense(num_classes, activation='softmax'))\n",
    "\n",
    "model.compile(\n",
    "    optimizer='adam', loss=SparseCategoricalCrossentropy(), metrics=['accuracy'])\n",
    "\n",
    "early_stopping=EarlyStopping(monitor='val_loss') #Класс EarlyStopping Остановить обучение, когда отслеживаемая метрика перестанет улучшаться \n",
    "\n",
    "tensorboard_callback = tf.keras.callbacks.TensorBoard(\n",
    "    log_dir='logs/'+ model_name, \n",
    "    write_graph=False, update_freq=100, profile_batch=0)\n"
   ]
  },
  {
   "cell_type": "code",
   "execution_count": 37,
   "id": "41a9234e",
   "metadata": {
    "scrolled": true
   },
   "outputs": [
    {
     "name": "stdout",
     "output_type": "stream",
     "text": [
      "Epoch 1/10\n",
      "26/26 [==============================] - 17s 574ms/step - loss: 1.2410 - accuracy: 0.5394 - val_loss: 0.8795 - val_accuracy: 0.7091\n",
      "Epoch 2/10\n",
      "26/26 [==============================] - 15s 571ms/step - loss: 0.8529 - accuracy: 0.7195 - val_loss: 0.7500 - val_accuracy: 0.7464\n",
      "Epoch 3/10\n",
      "26/26 [==============================] - 15s 562ms/step - loss: 0.7396 - accuracy: 0.7504 - val_loss: 0.6962 - val_accuracy: 0.7671\n",
      "Epoch 4/10\n",
      "26/26 [==============================] - 15s 574ms/step - loss: 0.6652 - accuracy: 0.7771 - val_loss: 0.6915 - val_accuracy: 0.7678\n",
      "Epoch 5/10\n",
      "26/26 [==============================] - 14s 548ms/step - loss: 0.6105 - accuracy: 0.7906 - val_loss: 0.7331 - val_accuracy: 0.7609\n"
     ]
    }
   ],
   "source": [
    "history = model.fit(X_train, y_train,\n",
    "                    batch_size=512,\n",
    "                    epochs=10,\n",
    "                    verbose=1,\n",
    "                    validation_split=0.1,\n",
    "                    callbacks=[tensorboard_callback, early_stopping])"
   ]
  },
  {
   "cell_type": "code",
   "execution_count": 38,
   "id": "b8f04c54",
   "metadata": {},
   "outputs": [
    {
     "name": "stdout",
     "output_type": "stream",
     "text": [
      "13/13 [==============================] - 2s 146ms/step - loss: 0.7382 - accuracy: 0.7596\n",
      "\n",
      "\n",
      "Test score: 0.7382273077964783\n",
      "Test accuracy: 0.7595998644828796\n"
     ]
    },
    {
     "name": "stderr",
     "output_type": "stream",
     "text": [
      "C:\\Users\\kote\\AppData\\Local\\Temp\\ipykernel_8812\\1873839954.py:3: FutureWarning: The frame.append method is deprecated and will be removed from pandas in a future version. Use pandas.concat instead.\n",
      "  metrics_df = metrics_df.append({\n"
     ]
    }
   ],
   "source": [
    "score = model.evaluate(X_test, y_test, batch_size=512, verbose=1)\n",
    "\n",
    "metrics_df = metrics_df.append({\n",
    "    'model': 'CNN_RNN',\n",
    "    'Test score': score[0],\n",
    "    'Test accuracy': score[1],\n",
    "}, ignore_index=True)\n",
    "\n",
    "print('\\n')\n",
    "print('Test score:', score[0])\n",
    "print('Test accuracy:', score[1])"
   ]
  },
  {
   "cell_type": "code",
   "execution_count": 40,
   "id": "40d75462",
   "metadata": {},
   "outputs": [],
   "source": [
    "model_name = 'RNN_CNN'\n",
    "model = Sequential()\n",
    "\n",
    "model.add(\n",
    "    Embedding(input_dim=max_words, #это размер словаря в текстовых данных\n",
    "              input_length=max_len, #это длина входных последовательностей, которую вы бы определили для любого входного слоя модели Keras\n",
    "              output_dim=64, #это размер векторного пространства, в которое будут встроены слова. Он определяет размер выходных векторов из этого слоя для каждого слова. Например, это может быть 32 или 100 или даже больше.\n",
    "              trainable=True,\n",
    "              mask_zero=True))\n",
    "model.add(Masking(mask_value=0.0)) #Маскирует последовательность,используя значение маски для пропуска таймфреймов\n",
    "model.add(SimpleRNN(64, recurrent_dropout=0.2, return_sequences=True)) #отбрасывание линейных значений повторов 0.2\n",
    "# model.add(RepeatVector(32))\n",
    "model.add(Conv1D(128, 3, activation='relu', padding=\"same\"))\n",
    "model.add(Flatten())\n",
    "model.add(Dense(64, activation='relu'))\n",
    "model.add(Dropout(0.5))\n",
    "model.add(Dense(num_classes, activation='softmax'))\n",
    "\n",
    "model.compile(\n",
    "    optimizer='adam', loss=SparseCategoricalCrossentropy(), metrics=['accuracy'])\n",
    "\n",
    "early_stopping=EarlyStopping(monitor='val_loss') #Класс EarlyStopping Остановить обучение, когда отслеживаемая метрика перестанет улучшаться \n",
    "\n",
    "tensorboard_callback = tf.keras.callbacks.TensorBoard(\n",
    "    log_dir='logs/'+ model_name, \n",
    "    write_graph=False, update_freq=100, profile_batch=0)\n"
   ]
  },
  {
   "cell_type": "code",
   "execution_count": 41,
   "id": "bbe40e76",
   "metadata": {
    "scrolled": true
   },
   "outputs": [
    {
     "name": "stdout",
     "output_type": "stream",
     "text": [
      "Epoch 1/10\n",
      "26/26 [==============================] - 15s 500ms/step - loss: 1.3018 - accuracy: 0.6544 - val_loss: 1.1817 - val_accuracy: 0.7091\n",
      "Epoch 2/10\n",
      "26/26 [==============================] - 13s 498ms/step - loss: 1.0230 - accuracy: 0.7037 - val_loss: 0.9151 - val_accuracy: 0.7091\n",
      "Epoch 3/10\n",
      "26/26 [==============================] - 13s 489ms/step - loss: 0.8681 - accuracy: 0.7122 - val_loss: 0.8063 - val_accuracy: 0.7097\n",
      "Epoch 4/10\n",
      "26/26 [==============================] - 13s 484ms/step - loss: 0.7831 - accuracy: 0.7252 - val_loss: 0.7838 - val_accuracy: 0.7208\n",
      "Epoch 5/10\n",
      "26/26 [==============================] - 13s 485ms/step - loss: 0.7236 - accuracy: 0.7335 - val_loss: 0.6935 - val_accuracy: 0.7588\n",
      "Epoch 6/10\n",
      "26/26 [==============================] - 13s 486ms/step - loss: 0.6872 - accuracy: 0.7741 - val_loss: 0.7035 - val_accuracy: 0.7692\n"
     ]
    }
   ],
   "source": [
    "history = model.fit(X_train, y_train,\n",
    "                    batch_size=512,\n",
    "                    epochs=10,\n",
    "                    verbose=1,\n",
    "                    validation_split=0.1,\n",
    "                    callbacks=[tensorboard_callback, early_stopping])"
   ]
  },
  {
   "cell_type": "code",
   "execution_count": 42,
   "id": "2f4f7c73",
   "metadata": {},
   "outputs": [
    {
     "name": "stdout",
     "output_type": "stream",
     "text": [
      "13/13 [==============================] - 2s 127ms/step - loss: 0.7163 - accuracy: 0.7536\n",
      "\n",
      "\n",
      "Test score: 0.716271162033081\n",
      "Test accuracy: 0.7536302208900452\n"
     ]
    },
    {
     "name": "stderr",
     "output_type": "stream",
     "text": [
      "C:\\Users\\kote\\AppData\\Local\\Temp\\ipykernel_8812\\799318069.py:2: FutureWarning: The frame.append method is deprecated and will be removed from pandas in a future version. Use pandas.concat instead.\n",
      "  metrics_df = metrics_df.append({\n"
     ]
    }
   ],
   "source": [
    "score = model.evaluate(X_test, y_test, batch_size=512, verbose=1)\n",
    "metrics_df = metrics_df.append({\n",
    "    'model': 'RNN_CNN',\n",
    "    'Test score': score[0],\n",
    "    'Test accuracy': score[1],\n",
    "}, ignore_index=True)\n",
    "print('\\n')\n",
    "print('Test score:', score[0])\n",
    "print('Test accuracy:', score[1])"
   ]
  },
  {
   "cell_type": "code",
   "execution_count": 43,
   "id": "3b8e5845",
   "metadata": {
    "scrolled": true
   },
   "outputs": [
    {
     "name": "stdout",
     "output_type": "stream",
     "text": [
      "Epoch 1/10\n",
      "26/26 [==============================] - 18s 579ms/step - loss: 1.3577 - accuracy: 0.6561 - val_loss: 0.9786 - val_accuracy: 0.7091\n",
      "Epoch 2/10\n",
      "26/26 [==============================] - 16s 637ms/step - loss: 0.9866 - accuracy: 0.7044 - val_loss: 0.8698 - val_accuracy: 0.7091\n",
      "Epoch 3/10\n",
      "26/26 [==============================] - 19s 717ms/step - loss: 0.8337 - accuracy: 0.7170 - val_loss: 0.7411 - val_accuracy: 0.7436\n",
      "Epoch 4/10\n",
      "26/26 [==============================] - 21s 794ms/step - loss: 0.7285 - accuracy: 0.7569 - val_loss: 0.6862 - val_accuracy: 0.7581\n",
      "Epoch 5/10\n",
      "26/26 [==============================] - 21s 810ms/step - loss: 0.6608 - accuracy: 0.7711 - val_loss: 0.6747 - val_accuracy: 0.7685\n",
      "Epoch 6/10\n",
      "26/26 [==============================] - 22s 829ms/step - loss: 0.6269 - accuracy: 0.7819 - val_loss: 0.6510 - val_accuracy: 0.7740\n",
      "Epoch 7/10\n",
      "26/26 [==============================] - 22s 853ms/step - loss: 0.5943 - accuracy: 0.7902 - val_loss: 0.6468 - val_accuracy: 0.7795\n",
      "Epoch 8/10\n",
      "26/26 [==============================] - 23s 874ms/step - loss: 0.5733 - accuracy: 0.7996 - val_loss: 0.6478 - val_accuracy: 0.7754\n"
     ]
    }
   ],
   "source": [
    "model_name = 'LSTM'\n",
    "model = Sequential()\n",
    "\n",
    "model.add(\n",
    "    Embedding(input_dim=max_words, #это размер словаря в текстовых данных\n",
    "              input_length=max_len, #это длина входных последовательностей, которую вы бы определили для любого входного слоя модели Keras\n",
    "              output_dim=30, #это размер векторного пространства, в которое будут встроены слова. Он определяет размер выходных векторов из этого слоя для каждого слова. Например, это может быть 32 или 100 или даже больше.\n",
    "              trainable=True,\n",
    "              mask_zero=True))\n",
    "model.add(Masking(mask_value=0.0)) #Маскирует последовательность,используя значение маски для пропуска таймфреймов\n",
    "model.add(LSTM(64, recurrent_dropout=0.2)) #отбрасывание линейных значений повторов 0.2\n",
    "model.add(Dense(64, activation='relu'))\n",
    "model.add(Dropout(0.5))\n",
    "model.add(Dense(num_classes, activation='softmax'))\n",
    "\n",
    "model.compile(\n",
    "    optimizer='adam', loss=SparseCategoricalCrossentropy(), metrics=['accuracy'])\n",
    "\n",
    "early_stopping=EarlyStopping(monitor='val_loss') #Класс EarlyStopping Остановить обучение, когда отслеживаемая метрика перестанет улучшаться \n",
    "\n",
    "tensorboard_callback = tf.keras.callbacks.TensorBoard(\n",
    "    log_dir='logs/'+ model_name, \n",
    "    write_graph=False, update_freq=100, profile_batch=0)\n",
    "\n",
    "history = model.fit(X_train, y_train,\n",
    "                    batch_size=512,\n",
    "                    epochs=10,\n",
    "                    verbose=1,\n",
    "                    validation_split=0.1,\n",
    "                    callbacks=[tensorboard_callback, early_stopping])"
   ]
  },
  {
   "cell_type": "code",
   "execution_count": 44,
   "id": "e2dba956",
   "metadata": {
    "scrolled": false
   },
   "outputs": [
    {
     "name": "stdout",
     "output_type": "stream",
     "text": [
      "13/13 [==============================] - 3s 192ms/step - loss: 0.6703 - accuracy: 0.7620\n",
      "\n",
      "\n",
      "Test score: 0.670281171798706\n",
      "Test accuracy: 0.7620199918746948\n"
     ]
    },
    {
     "name": "stderr",
     "output_type": "stream",
     "text": [
      "C:\\Users\\kote\\AppData\\Local\\Temp\\ipykernel_8812\\3884853795.py:3: FutureWarning: The frame.append method is deprecated and will be removed from pandas in a future version. Use pandas.concat instead.\n",
      "  metrics_df = metrics_df.append({\n"
     ]
    }
   ],
   "source": [
    "score = model.evaluate(X_test, y_test, batch_size=512, verbose=1)\n",
    "\n",
    "metrics_df = metrics_df.append({\n",
    "    'model': 'LSTM',\n",
    "    'Test score': score[0],\n",
    "    'Test accuracy': score[1],\n",
    "}, ignore_index=True)\n",
    "print('\\n')\n",
    "print('Test score:', score[0])\n",
    "print('Test accuracy:', score[1])"
   ]
  },
  {
   "cell_type": "code",
   "execution_count": 45,
   "id": "47b10685",
   "metadata": {},
   "outputs": [
    {
     "data": {
      "text/html": [
       "<div>\n",
       "<style scoped>\n",
       "    .dataframe tbody tr th:only-of-type {\n",
       "        vertical-align: middle;\n",
       "    }\n",
       "\n",
       "    .dataframe tbody tr th {\n",
       "        vertical-align: top;\n",
       "    }\n",
       "\n",
       "    .dataframe thead th {\n",
       "        text-align: right;\n",
       "    }\n",
       "</style>\n",
       "<table border=\"1\" class=\"dataframe\">\n",
       "  <thead>\n",
       "    <tr style=\"text-align: right;\">\n",
       "      <th></th>\n",
       "      <th>model</th>\n",
       "      <th>Test score</th>\n",
       "      <th>Test accuracy</th>\n",
       "    </tr>\n",
       "  </thead>\n",
       "  <tbody>\n",
       "    <tr>\n",
       "      <th>1</th>\n",
       "      <td>CNN_RNN</td>\n",
       "      <td>0.738227</td>\n",
       "      <td>0.75960</td>\n",
       "    </tr>\n",
       "    <tr>\n",
       "      <th>2</th>\n",
       "      <td>RNN_CNN</td>\n",
       "      <td>0.716271</td>\n",
       "      <td>0.75363</td>\n",
       "    </tr>\n",
       "    <tr>\n",
       "      <th>0</th>\n",
       "      <td>RNN</td>\n",
       "      <td>0.682857</td>\n",
       "      <td>0.75847</td>\n",
       "    </tr>\n",
       "    <tr>\n",
       "      <th>3</th>\n",
       "      <td>LSTM</td>\n",
       "      <td>0.670281</td>\n",
       "      <td>0.76202</td>\n",
       "    </tr>\n",
       "  </tbody>\n",
       "</table>\n",
       "</div>"
      ],
      "text/plain": [
       "     model  Test score  Test accuracy\n",
       "1  CNN_RNN    0.738227        0.75960\n",
       "2  RNN_CNN    0.716271        0.75363\n",
       "0      RNN    0.682857        0.75847\n",
       "3     LSTM    0.670281        0.76202"
      ]
     },
     "execution_count": 45,
     "metadata": {},
     "output_type": "execute_result"
    }
   ],
   "source": [
    "metrics_df.sort_values(by='Test score', ascending=False)"
   ]
  }
 ],
 "metadata": {
  "kernelspec": {
   "display_name": "Python 3 (ipykernel)",
   "language": "python",
   "name": "python3"
  },
  "language_info": {
   "codemirror_mode": {
    "name": "ipython",
    "version": 3
   },
   "file_extension": ".py",
   "mimetype": "text/x-python",
   "name": "python",
   "nbconvert_exporter": "python",
   "pygments_lexer": "ipython3",
   "version": "3.10.9"
  }
 },
 "nbformat": 4,
 "nbformat_minor": 5
}
